{
 "cells": [
  {
   "cell_type": "code",
   "execution_count": 1,
   "metadata": {},
   "outputs": [],
   "source": [
    "import os\n",
    "import pandas as pd\n",
    "\n",
    "import sys; sys.path.append(\"..\") # Adds parent directory to python modules path.\n",
    "from topdown_parsers import *"
   ]
  },
  {
   "cell_type": "code",
   "execution_count": 2,
   "metadata": {},
   "outputs": [],
   "source": [
    "reconstructions_dir_name = \"./Reconstructed/Texas_Dallas County\""
   ]
  },
  {
   "cell_type": "code",
   "execution_count": null,
   "metadata": {},
   "outputs": [
    {
     "name": "stdout",
     "output_type": "stream",
     "text": [
      "Reading files...\n",
      "Completed reading files\n",
      "Grouping the data at a block level...\n",
      "Finished grouping the data.\n",
      "Writing block 500 of 25677.\n",
      "Writing block 1000 of 25677.\n",
      "Writing block 1500 of 25677.\n",
      "Writing block 2000 of 25677.\n",
      "Writing block 2500 of 25677.\n",
      "Writing block 3000 of 25677.\n",
      "Writing block 3500 of 25677.\n",
      "Writing block 4000 of 25677.\n",
      "Writing block 4500 of 25677.\n",
      "Writing block 5000 of 25677.\n",
      "Writing block 5500 of 25677.\n",
      "Writing block 6000 of 25677.\n"
     ]
    }
   ],
   "source": [
    "convert_reconstructions_to_ipums(reconstructions_dir_name, \"reconstructed_dallas.dat\")"
   ]
  },
  {
   "cell_type": "code",
   "execution_count": null,
   "metadata": {},
   "outputs": [],
   "source": [
    "def num_lines_by_type(filename):\n",
    "    \"\"\" Returns the number of Household lines and Person Lines in the file\n",
    "        named  `filename`\n",
    "    \"\"\"\n",
    "    h_lines = 0\n",
    "    p_lines = 0\n",
    "\n",
    "    with open(filename, \"r\") as file:\n",
    "        for line in file:\n",
    "            if line[0] == \"H\":\n",
    "                h_lines += 1\n",
    "            elif line[0] == \"P\":\n",
    "                p_lines += 1\n",
    "\n",
    "    return h_lines, p_lines"
   ]
  },
  {
   "cell_type": "code",
   "execution_count": null,
   "metadata": {},
   "outputs": [],
   "source": [
    "num_lines_by_type(\"reconstructed_dallas.dat\")"
   ]
  },
  {
   "cell_type": "code",
   "execution_count": null,
   "metadata": {},
   "outputs": [],
   "source": []
  }
 ],
 "metadata": {
  "kernelspec": {
   "display_name": "Python 3",
   "language": "python",
   "name": "python3"
  },
  "language_info": {
   "codemirror_mode": {
    "name": "ipython",
    "version": 3
   },
   "file_extension": ".py",
   "mimetype": "text/x-python",
   "name": "python",
   "nbconvert_exporter": "python",
   "pygments_lexer": "ipython3",
   "version": "3.8.1"
  }
 },
 "nbformat": 4,
 "nbformat_minor": 4
}
