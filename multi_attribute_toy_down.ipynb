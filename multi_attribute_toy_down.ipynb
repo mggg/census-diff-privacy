{
 "cells": [
  {
   "cell_type": "code",
   "execution_count": 1,
   "metadata": {},
   "outputs": [],
   "source": [
    "import math\n",
    "import random\n",
    "import numpy as np\n",
    "import pandas as pd\n",
    "import matplotlib.pyplot as plt\n",
    "import itertools\n",
    "import string\n",
    "import seaborn as sns\n",
    "\n",
    "from toydown import GeoUnit, ToyDown"
   ]
  },
  {
   "cell_type": "code",
   "execution_count": 2,
   "metadata": {},
   "outputs": [],
   "source": [
    "def create_demo_tree_homogenous_branching_w_tot(h=3, k=2):\n",
    "    \"\"\" Creates a demo tree of height h <= 16, with homogenous branching of h.\n",
    "        This demo tree has two population counts, and count that is the sum of them.\n",
    "    \"\"\"\n",
    "    leaves = [\"1\" + \"\".join(a) for a in itertools.product(string.hexdigits[1:h+1], repeat=h-1)]\n",
    "    leaves_counts = np.random.randint(1000, size=(len(leaves),k))\n",
    "    leaves_attrs = np.insert(leaves_counts, 0, leaves_counts.sum(axis=1), axis=1)\n",
    "    \n",
    "    leaf_dict = {i: j for i, j in zip(leaves, leaves_attrs)}\n",
    "    return create_tree_from_leaves(leaf_dict)"
   ]
  },
  {
   "cell_type": "code",
   "execution_count": 3,
   "metadata": {},
   "outputs": [],
   "source": [
    "def create_demo_tree_homogenous_branching_no_tot(h=3, k=2):\n",
    "    \"\"\" Creates a demo tree of height h <= 16, with homogenous branching of h.\n",
    "        This demo tree has two population counts\n",
    "    \"\"\"\n",
    "    leaves = [\"1\" + \"\".join(a) for a in itertools.product(string.hexdigits[1:h+1], repeat=h-1)]\n",
    "    leaves_counts = np.random.randint(1000, size=(len(leaves),k))\n",
    "#     leaves_attrs = np.insert(leaves_counts, 0, leaves_counts.sum(axis=1), axis=1)\n",
    "    \n",
    "    leaf_dict = {i: j for i, j in zip(leaves, leaves_counts)}\n",
    "    return create_tree_from_leaves(leaf_dict)"
   ]
  },
  {
   "cell_type": "code",
   "execution_count": 4,
   "metadata": {},
   "outputs": [],
   "source": [
    "def create_tree_from_leaves(leaf_dict):\n",
    "    \"\"\" Given a dictionary, where the keys are the names of leaf nodes (labeled by their path)\n",
    "        and the corresponding value is the associated attribute counts, this function returns\n",
    "        the list of GeoUnits that defines the corresponding tree.\n",
    "    \"\"\"\n",
    "    nodes = leaf_dict.copy()\n",
    "    h = len(list(leaf_dict.keys())[0])\n",
    "    n = len(list(leaf_dict.values())[0])\n",
    "    \n",
    "    for i in range(2, h+1):\n",
    "        level_names = list(set(list(map(lambda s: s[:-(i-1)], leaf_dict.keys()))))\n",
    "        level_counts = [np.zeros(n)]*len(level_names)\n",
    "        for node in level_names:\n",
    "            nodes[node] = np.array([v for k, v in leaf_dict.items() if k.startswith(node)]).sum(axis=0)\n",
    "        \n",
    "    return [GeoUnit(k, k[:-1], v) if k != \"1\" else GeoUnit(k, None, v) for k, v in nodes.items()]"
   ]
  },
  {
   "cell_type": "code",
   "execution_count": 5,
   "metadata": {},
   "outputs": [],
   "source": [
    "geounits_tot = create_demo_tree_homogenous_branching_w_tot(3)\n",
    "geounits_tot.reverse()\n",
    "geounits_no_tot = create_demo_tree_homogenous_branching_no_tot(3)\n",
    "geounits_no_tot.reverse()\n",
    "eps = 1\n",
    "eps_split = [0.25, 0.25, 0.5]"
   ]
  },
  {
   "cell_type": "code",
   "execution_count": 6,
   "metadata": {},
   "outputs": [
    {
     "name": "stdout",
     "output_type": "stream",
     "text": [
      "1\n",
      "├── 11\n",
      "│   ├── 111\n",
      "│   ├── 112\n",
      "│   └── 113\n",
      "├── 12\n",
      "│   ├── 121\n",
      "│   ├── 122\n",
      "│   └── 123\n",
      "└── 13\n",
      "    ├── 131\n",
      "    ├── 132\n",
      "    └── 133\n",
      "\n"
     ]
    }
   ],
   "source": [
    "model = ToyDown(geounits_tot, 3, eps, eps_split)\n",
    "model_no_tot = ToyDown(geounits_no_tot, 3, eps, eps_split)\n",
    "\n",
    "model.show()"
   ]
  },
  {
   "cell_type": "code",
   "execution_count": 7,
   "metadata": {},
   "outputs": [],
   "source": [
    "## Constraints: 0 difference among partition bins\n",
    "## number of children n, returns list of 0 diff constraints.\n",
    "cons_0_diff = lambda n: [{'type': 'eq', 'fun': lambda x, i=i:  x[i] - np.sum([x[j] for j in range(i+1,i+3)])} \n",
    "                         for i in np.arange(n*3, step=3)]"
   ]
  },
  {
   "cell_type": "code",
   "execution_count": 8,
   "metadata": {},
   "outputs": [
    {
     "name": "stdout",
     "output_type": "stream",
     "text": [
      "Adjusting root node 1\n",
      "Optimization terminated successfully.    (Exit mode 0)\n",
      "            Current function value: 0.798706677294831\n",
      "            Iterations: 5\n",
      "            Function evaluations: 27\n",
      "            Gradient evaluations: 5\n",
      "Adjusting children of 1\n",
      "Optimization terminated successfully.    (Exit mode 0)\n",
      "            Current function value: 22.085156661990368\n",
      "            Iterations: 44\n",
      "            Function evaluations: 513\n",
      "            Gradient evaluations: 44\n",
      "Adjusting children of 13\n",
      "Optimization terminated successfully.    (Exit mode 0)\n",
      "            Current function value: 9.11959010914039\n",
      "            Iterations: 40\n",
      "            Function evaluations: 468\n",
      "            Gradient evaluations: 40\n",
      "Adjusting children of 12\n",
      "Optimization terminated successfully.    (Exit mode 0)\n",
      "            Current function value: 3.6990079232879793\n",
      "            Iterations: 39\n",
      "            Function evaluations: 461\n",
      "            Gradient evaluations: 39\n",
      "Adjusting children of 11\n",
      "Optimization terminated successfully.    (Exit mode 0)\n",
      "            Current function value: 14.682587446922952\n",
      "            Iterations: 20\n",
      "            Function evaluations: 228\n",
      "            Gradient evaluations: 20\n"
     ]
    }
   ],
   "source": [
    "model.noise_and_adjust(node_cons=cons_0_diff, verbose=True)"
   ]
  },
  {
   "cell_type": "code",
   "execution_count": 9,
   "metadata": {},
   "outputs": [
    {
     "name": "stdout",
     "output_type": "stream",
     "text": [
      "Adjusting root node 1\n",
      "Adjusting children of 1\n",
      "Optimization terminated successfully.    (Exit mode 0)\n",
      "            Current function value: 31.36523068109068\n",
      "            Iterations: 41\n",
      "            Function evaluations: 357\n",
      "            Gradient evaluations: 41\n",
      "Adjusting children of 13\n",
      "Optimization terminated successfully.    (Exit mode 0)\n",
      "            Current function value: 8.372020579650389\n",
      "            Iterations: 45\n",
      "            Function evaluations: 394\n",
      "            Gradient evaluations: 45\n",
      "Adjusting children of 12\n",
      "Optimization terminated successfully.    (Exit mode 0)\n",
      "            Current function value: 11.143523827346458\n",
      "            Iterations: 40\n",
      "            Function evaluations: 348\n",
      "            Gradient evaluations: 40\n",
      "Adjusting children of 11\n",
      "Optimization terminated successfully.    (Exit mode 0)\n",
      "            Current function value: 9.967662568204958\n",
      "            Iterations: 39\n",
      "            Function evaluations: 338\n",
      "            Gradient evaluations: 39\n"
     ]
    }
   ],
   "source": [
    "model_no_tot.noise_and_adjust(verbose=True)"
   ]
  },
  {
   "cell_type": "code",
   "execution_count": 10,
   "metadata": {},
   "outputs": [],
   "source": [
    "leaves = [\"1\" + \"\".join(a) for a in itertools.product(string.hexdigits[1:3+1], repeat=3-1)]"
   ]
  },
  {
   "cell_type": "code",
   "execution_count": 11,
   "metadata": {
    "scrolled": true
   },
   "outputs": [],
   "source": [
    "leaf_error_tot_cons = np.array([])\n",
    "leaf_error_a_cons = np.array([])\n",
    "leaf_error_b_cons = np.array([])\n",
    "for i in range(1000):\n",
    "    model.noise_and_adjust(node_cons=cons_0_diff)\n",
    "    for l in leaves:\n",
    "        leaf_error_tot_cons = np.append(leaf_error_tot_cons, model.get_node(l).data.error[0])\n",
    "        leaf_error_a_cons = np.append(leaf_error_a_cons, model.get_node(l).data.error[1])\n",
    "        leaf_error_b_cons = np.append(leaf_error_b_cons, model.get_node(l).data.error[2])"
   ]
  },
  {
   "cell_type": "code",
   "execution_count": 12,
   "metadata": {},
   "outputs": [],
   "source": [
    "leaf_error_tot = np.array([])\n",
    "leaf_error_a = np.array([])\n",
    "leaf_error_b = np.array([])\n",
    "for i in range(1000):\n",
    "    model_no_tot.noise_and_adjust()\n",
    "    for l in leaves:\n",
    "        truth = model_no_tot.get_node(l).data.attributes\n",
    "        adjusted = model_no_tot.get_node(l).data.adjusted\n",
    "        truth = np.insert(truth, 0, truth.sum())\n",
    "        adjusted = np.insert(adjusted, 0, adjusted.sum())\n",
    "        error = truth - adjusted\n",
    "        \n",
    "        leaf_error_tot = np.append(leaf_error_tot, error[0])\n",
    "        leaf_error_a = np.append(leaf_error_a, error[1])\n",
    "        leaf_error_b = np.append(leaf_error_b, error[2])"
   ]
  },
  {
   "cell_type": "code",
   "execution_count": 13,
   "metadata": {},
   "outputs": [
    {
     "name": "stderr",
     "output_type": "stream",
     "text": [
      "/cluster/tufts/rt/software/jupyter3/lib/python3.7/site-packages/scipy/stats/stats.py:1713: FutureWarning: Using a non-tuple sequence for multidimensional indexing is deprecated; use `arr[tuple(seq)]` instead of `arr[seq]`. In the future this will be interpreted as an array index, `arr[np.array(seq)]`, which will result either in an error or a different result.\n",
      "  return np.add.reduce(sorted[indexer] * weights, axis=axis) / sumval\n"
     ]
    },
    {
     "data": {
      "image/png": "[encoded data removed]",
      "text/plain": [
       "<Figure size 1152x288 with 3 Axes>"
      ]
     },
     "metadata": {
      "needs_background": "light"
     },
     "output_type": "display_data"
    }
   ],
   "source": [
    "fig, axs = plt.subplots(1,3, figsize=(16,4))\n",
    "fig.suptitle(\"Leaf Error\", y=0.02)\n",
    "axs[0].set_title(\"Error in TOT\")\n",
    "axs[1].set_title(\"Error in A\")\n",
    "axs[2].set_title(\"Error in B\")\n",
    "sns.distplot(leaf_error_tot_cons, ax=axs[0], label=\"Constrain to TOT\")\n",
    "sns.distplot(leaf_error_tot, ax=axs[0], label=\"Imply TOT\")\n",
    "sns.distplot(leaf_error_a_cons, ax=axs[1], label=\"Constrain to TOT\")\n",
    "sns.distplot(leaf_error_a, ax=axs[1], label=\"Imply TOT\")\n",
    "sns.distplot(leaf_error_b_cons, ax=axs[2], label=\"Constrain to TOT\")\n",
    "sns.distplot(leaf_error_b, ax=axs[2], label=\"Imply TOT\")\n",
    "for i in range(3):\n",
    "    axs[i].legend()\n",
    "    \n",
    "plt.savefig(\"plots/leaf_error_abtot_model.png\", dpi=200)\n",
    "plt.show()"
   ]
  },
  {
   "cell_type": "code",
   "execution_count": null,
   "metadata": {},
   "outputs": [],
   "source": []
  },
  {
   "cell_type": "code",
   "execution_count": null,
   "metadata": {},
   "outputs": [],
   "source": []
  },
  {
   "cell_type": "code",
   "execution_count": null,
   "metadata": {},
   "outputs": [],
   "source": []
  },
  {
   "cell_type": "code",
   "execution_count": null,
   "metadata": {},
   "outputs": [],
   "source": []
  },
  {
   "cell_type": "code",
   "execution_count": null,
   "metadata": {},
   "outputs": [],
   "source": []
  },
  {
   "cell_type": "code",
   "execution_count": null,
   "metadata": {},
   "outputs": [],
   "source": []
  },
  {
   "cell_type": "code",
   "execution_count": null,
   "metadata": {},
   "outputs": [],
   "source": []
  },
  {
   "cell_type": "code",
   "execution_count": null,
   "metadata": {},
   "outputs": [],
   "source": []
  },
  {
   "cell_type": "code",
   "execution_count": null,
   "metadata": {},
   "outputs": [],
   "source": []
  },
  {
   "cell_type": "code",
   "execution_count": null,
   "metadata": {},
   "outputs": [],
   "source": []
  },
  {
   "cell_type": "code",
   "execution_count": null,
   "metadata": {},
   "outputs": [],
   "source": []
  }
 ],
 "metadata": {
  "kernelspec": {
   "display_name": "Python 3",
   "language": "python",
   "name": "python3"
  },
  "language_info": {
   "codemirror_mode": {
    "name": "ipython",
    "version": 3
   },
   "file_extension": ".py",
   "mimetype": "text/x-python",
   "name": "python",
   "nbconvert_exporter": "python",
   "pygments_lexer": "ipython3",
   "version": "3.7.1"
  }
 },
 "nbformat": 4,
 "nbformat_minor": 2
}
