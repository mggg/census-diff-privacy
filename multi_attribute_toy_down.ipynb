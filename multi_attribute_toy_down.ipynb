{
 "cells": [
  {
   "cell_type": "code",
   "execution_count": 1,
   "metadata": {},
   "outputs": [],
   "source": [
    "import math\n",
    "import random\n",
    "import numpy as np\n",
    "import pandas as pd\n",
    "import matplotlib.pyplot as plt\n",
    "import itertools\n",
    "import string\n",
    "\n",
    "from toydown import GeoUnit, ToyDown"
   ]
  },
  {
   "cell_type": "code",
   "execution_count": 2,
   "metadata": {},
   "outputs": [],
   "source": [
    "def create_demo_tree_homogenous_branching(h=3):\n",
    "    \"\"\" Creates a demo tree of height h <= 16, with homogenous branching of h.\n",
    "        This demo tree has two population counts, and count that is the sum of them.\n",
    "    \"\"\"\n",
    "    leaves = [\"1\" + \"\".join(a) for a in itertools.product(string.hexdigits[1:h+1], repeat=h-1)]\n",
    "    leaves_counts = np.random.randint(1000, size=(len(leaves),2))\n",
    "    leaves_attrs = np.insert(leaves_counts, 0, leaves_counts.sum(axis=1), axis=1)\n",
    "    \n",
    "    leaf_dict = {i: j for i, j in zip(leaves, leaves_attrs)}\n",
    "    return create_tree_from_leaves(leaf_dict)"
   ]
  },
  {
   "cell_type": "code",
   "execution_count": 3,
   "metadata": {},
   "outputs": [],
   "source": [
    "def create_tree_from_leaves(leaf_dict):\n",
    "    \"\"\" Given a dictionary, where the keys are the names of leaf nodes (labeled by their path)\n",
    "        and the corresponding value is the associated attribute counts, this function returns\n",
    "        the list of GeoUnits that defines the corresponding tree.\n",
    "    \"\"\"\n",
    "    nodes = leaf_dict.copy()\n",
    "    h = len(list(leaf_dict.keys())[0])\n",
    "    n = len(list(leaf_dict.values())[0])\n",
    "    \n",
    "    for i in range(2, h+1):\n",
    "        level_names = list(set(list(map(lambda s: s[:-(i-1)], leaf_dict.keys()))))\n",
    "        level_counts = [np.zeros(n)]*len(level_names)\n",
    "        for node in level_names:\n",
    "            nodes[node] = np.array([v for k, v in leaf_dict.items() if k.startswith(node)]).sum(axis=0)\n",
    "        \n",
    "    return [GeoUnit(k, k[:-1], v) if k != \"1\" else GeoUnit(k, None, v) for k, v in nodes.items()]"
   ]
  },
  {
   "cell_type": "code",
   "execution_count": 4,
   "metadata": {},
   "outputs": [],
   "source": [
    "geounits = create_demo_tree_homogenous_branching(3)\n",
    "geounits.reverse()\n",
    "eps = 1\n",
    "eps_split = [0.25, 0.25, 0.5]"
   ]
  },
  {
   "cell_type": "code",
   "execution_count": 5,
   "metadata": {},
   "outputs": [
    {
     "name": "stdout",
     "output_type": "stream",
     "text": [
      "1\n",
      "├── 11\n",
      "│   ├── 111\n",
      "│   ├── 112\n",
      "│   └── 113\n",
      "├── 12\n",
      "│   ├── 121\n",
      "│   ├── 122\n",
      "│   └── 123\n",
      "└── 13\n",
      "    ├── 131\n",
      "    ├── 132\n",
      "    └── 133\n",
      "\n"
     ]
    }
   ],
   "source": [
    "model = ToyDown(geounits, 3, eps, eps_split)\n",
    "model.show()"
   ]
  },
  {
   "cell_type": "code",
   "execution_count": 6,
   "metadata": {},
   "outputs": [],
   "source": [
    "## Constraints: 0 difference among partition bins\n",
    "## number of children n, returns list of 0 diff constraints.\n",
    "cons_0_diff = lambda n: [{'type': 'eq', 'fun': lambda x, i=i:  x[i] - np.sum([x[j] for j in range(i+1,i+3)])} \n",
    "                         for i in np.arange(n*3, step=3)]"
   ]
  },
  {
   "cell_type": "code",
   "execution_count": null,
   "metadata": {},
   "outputs": [],
   "source": []
  },
  {
   "cell_type": "code",
   "execution_count": 7,
   "metadata": {},
   "outputs": [
    {
     "name": "stdout",
     "output_type": "stream",
     "text": [
      "Adjusting root node 1\n",
      "Optimization terminated successfully.    (Exit mode 0)\n",
      "            Current function value: 19.24788271629859\n",
      "            Iterations: 4\n",
      "            Function evaluations: 21\n",
      "            Gradient evaluations: 4\n",
      "Adjusting children of 1\n",
      "Optimization terminated successfully.    (Exit mode 0)\n",
      "            Current function value: 63.33520478308026\n",
      "            Iterations: 17\n",
      "            Function evaluations: 193\n",
      "            Gradient evaluations: 17\n",
      "Adjusting children of 11\n",
      "Optimization terminated successfully.    (Exit mode 0)\n",
      "            Current function value: 7.715322452306339\n",
      "            Iterations: 41\n",
      "            Function evaluations: 483\n",
      "            Gradient evaluations: 41\n",
      "Adjusting children of 12\n",
      "Optimization terminated successfully.    (Exit mode 0)\n",
      "            Current function value: 10.731696765408884\n",
      "            Iterations: 116\n",
      "            Function evaluations: 2129\n",
      "            Gradient evaluations: 115\n",
      "Adjusting children of 13\n",
      "Optimization terminated successfully.    (Exit mode 0)\n",
      "            Current function value: 10.529657763010277\n",
      "            Iterations: 40\n",
      "            Function evaluations: 474\n",
      "            Gradient evaluations: 40\n"
     ]
    }
   ],
   "source": [
    "model.noise_and_adjust(node_cons=cons_0_diff, opts={\"maxiter\": 500, \"disp\": True})"
   ]
  },
  {
   "cell_type": "code",
   "execution_count": 8,
   "metadata": {},
   "outputs": [
    {
     "data": {
      "text/plain": [
       "{'name': '1',\n",
       " 'parent': None,\n",
       " 'attributes': array([9063, 4468, 4595]),\n",
       " 'identifier': '1',\n",
       " 'level': 0,\n",
       " 'noised': array([9062.34547594, 4489.03435865, 4592.55900001]),\n",
       " 'noise': array([-0.65452406, 21.03435865, -2.44099999]),\n",
       " 'noise_type': 'laplacian',\n",
       " 'adjusted': array([9062.44872768, 4471.35890622, 4591.08982147]),\n",
       " 'error': array([ 0.55127232, -3.35890622,  3.91017853])}"
      ]
     },
     "execution_count": 8,
     "metadata": {},
     "output_type": "execute_result"
    }
   ],
   "source": [
    "model.get_node(\"1\").data.__dict__"
   ]
  },
  {
   "cell_type": "code",
   "execution_count": 9,
   "metadata": {},
   "outputs": [
    {
     "data": {
      "text/plain": [
       "{'name': '12',\n",
       " 'parent': '1',\n",
       " 'attributes': array([2247,  988, 1259]),\n",
       " 'identifier': '12',\n",
       " 'level': 1,\n",
       " 'noised': array([2245.97968084,  985.05356938, 1249.52131387]),\n",
       " 'noise': array([-1.02031916, -2.94643062, -9.47868613]),\n",
       " 'noise_type': 'laplacian',\n",
       " 'adjusted': array([2244.06151812,  986.24120367, 1257.82031446]),\n",
       " 'error': array([2.93848188, 1.75879633, 1.17968554])}"
      ]
     },
     "execution_count": 9,
     "metadata": {},
     "output_type": "execute_result"
    }
   ],
   "source": [
    "model.get_node(\"12\").data.__dict__"
   ]
  },
  {
   "cell_type": "code",
   "execution_count": 10,
   "metadata": {},
   "outputs": [
    {
     "data": {
      "text/plain": [
       "{'name': '123',\n",
       " 'parent': '12',\n",
       " 'attributes': array([549, 368, 181]),\n",
       " 'identifier': '123',\n",
       " 'level': 2,\n",
       " 'noised': array([544.87555718, 370.80144817, 181.76967222]),\n",
       " 'noise': array([-4.12444282,  2.80144817,  0.76967222]),\n",
       " 'noise_type': 'laplacian',\n",
       " 'adjusted': array([548.14163535, 367.53048889, 180.61114646]),\n",
       " 'error': array([0.85836465, 0.46951111, 0.38885354])}"
      ]
     },
     "execution_count": 10,
     "metadata": {},
     "output_type": "execute_result"
    }
   ],
   "source": [
    "model.get_node(\"123\").data.__dict__"
   ]
  },
  {
   "cell_type": "code",
   "execution_count": null,
   "metadata": {},
   "outputs": [],
   "source": []
  },
  {
   "cell_type": "code",
   "execution_count": null,
   "metadata": {},
   "outputs": [],
   "source": []
  },
  {
   "cell_type": "code",
   "execution_count": null,
   "metadata": {},
   "outputs": [],
   "source": []
  },
  {
   "cell_type": "code",
   "execution_count": null,
   "metadata": {},
   "outputs": [],
   "source": []
  },
  {
   "cell_type": "code",
   "execution_count": null,
   "metadata": {},
   "outputs": [],
   "source": []
  },
  {
   "cell_type": "code",
   "execution_count": null,
   "metadata": {},
   "outputs": [],
   "source": []
  },
  {
   "cell_type": "code",
   "execution_count": null,
   "metadata": {},
   "outputs": [],
   "source": []
  }
 ],
 "metadata": {
  "kernelspec": {
   "display_name": "Python 3",
   "language": "python",
   "name": "python3"
  },
  "language_info": {
   "codemirror_mode": {
    "name": "ipython",
    "version": 3
   },
   "file_extension": ".py",
   "mimetype": "text/x-python",
   "name": "python",
   "nbconvert_exporter": "python",
   "pygments_lexer": "ipython3",
   "version": "3.7.1"
  }
 },
 "nbformat": 4,
 "nbformat_minor": 2
}
