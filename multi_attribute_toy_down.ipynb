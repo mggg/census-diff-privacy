{
 "cells": [
  {
   "cell_type": "code",
   "execution_count": 1,
   "metadata": {},
   "outputs": [],
   "source": [
    "import math\n",
    "import random\n",
    "import numpy as np\n",
    "import pandas as pd\n",
    "import matplotlib.pyplot as plt\n",
    "import itertools\n",
    "import string\n",
    "\n",
    "from toydown import GeoUnit, ToyDown"
   ]
  },
  {
   "cell_type": "code",
   "execution_count": 2,
   "metadata": {},
   "outputs": [],
   "source": [
    "def create_demo_tree_homogenous_branching(h=3):\n",
    "    \"\"\" Creates a demo tree of height h <= 16, with homogenous branching of h.\n",
    "        This demo tree has two population counts, and count that is the sum of them.\n",
    "    \"\"\"\n",
    "    leaves = [\"1\" + \"\".join(a) for a in itertools.product(string.hexdigits[1:h+1], repeat=h-1)]\n",
    "    leaves_counts = np.random.randint(1000, size=(len(leaves),2))\n",
    "    leaves_attrs = np.insert(leaves_counts, 0, leaves_counts.sum(axis=1), axis=1)\n",
    "    \n",
    "    nodes = {i: j for i, j in zip(leaves, leaves_attrs)}\n",
    "    \n",
    "    for i in range(2, h+1):\n",
    "        level_names = list(set(list(map(lambda s: s[:-(i-1)], leaves))))\n",
    "        level_counts = [np.zeros(3)]*len(level_names)\n",
    "        for node in level_names:\n",
    "            nodes[node] = np.array([v for k, v in nodes.items() if k.startswith(node) and len(k) == h]).sum(axis=0)\n",
    "        \n",
    "    return [GeoUnit(k, k[:-1], v) if k != \"1\" else GeoUnit(k, None, v) for k, v in nodes.items()]"
   ]
  },
  {
   "cell_type": "code",
   "execution_count": 3,
   "metadata": {},
   "outputs": [],
   "source": [
    "geounits = create_demo_tree_homogenous_branching(3)\n",
    "geounits.reverse()\n",
    "eps = 1\n",
    "eps_split = [0.25, 0.25, 0.5]"
   ]
  },
  {
   "cell_type": "code",
   "execution_count": 4,
   "metadata": {},
   "outputs": [
    {
     "name": "stdout",
     "output_type": "stream",
     "text": [
      "1\n",
      "├── 11\n",
      "│   ├── 111\n",
      "│   ├── 112\n",
      "│   └── 113\n",
      "├── 12\n",
      "│   ├── 121\n",
      "│   ├── 122\n",
      "│   └── 123\n",
      "└── 13\n",
      "    ├── 131\n",
      "    ├── 132\n",
      "    └── 133\n",
      "\n"
     ]
    }
   ],
   "source": [
    "model = ToyDown(geounits, 3, eps, eps_split)\n",
    "model.show()"
   ]
  },
  {
   "cell_type": "code",
   "execution_count": 5,
   "metadata": {},
   "outputs": [],
   "source": [
    "## Constraints: 0 difference among partition bins\n",
    "## number of children n, returns list of 0 diff constraints.\n",
    "cons_0_diff = lambda n: [{'type': 'eq', 'fun': lambda x, i=i:  x[i] - np.sum([x[j] for j in range(i+1,i+3)])} \n",
    "                         for i in np.arange(n*3, step=3)]"
   ]
  },
  {
   "cell_type": "code",
   "execution_count": null,
   "metadata": {},
   "outputs": [],
   "source": []
  },
  {
   "cell_type": "code",
   "execution_count": 10,
   "metadata": {},
   "outputs": [
    {
     "name": "stdout",
     "output_type": "stream",
     "text": [
      "1\n",
      "Optimization terminated successfully.    (Exit mode 0)\n",
      "            Current function value: 30.106670451180662\n",
      "            Iterations: 59\n",
      "            Function evaluations: 705\n",
      "            Gradient evaluations: 59\n",
      "11\n",
      "Optimization terminated successfully.    (Exit mode 0)\n",
      "            Current function value: 14.092494300320777\n",
      "            Iterations: 57\n",
      "            Function evaluations: 684\n",
      "            Gradient evaluations: 57\n",
      "113\n",
      "112\n",
      "111\n",
      "13\n",
      "Optimization terminated successfully.    (Exit mode 0)\n",
      "            Current function value: 11.584952413812346\n",
      "            Iterations: 55\n",
      "            Function evaluations: 660\n",
      "            Gradient evaluations: 55\n",
      "133\n",
      "132\n",
      "131\n",
      "12\n",
      "Optimization terminated successfully.    (Exit mode 0)\n",
      "            Current function value: 16.551933958131144\n",
      "            Iterations: 50\n",
      "            Function evaluations: 594\n",
      "            Gradient evaluations: 50\n",
      "123\n",
      "122\n",
      "121\n"
     ]
    }
   ],
   "source": [
    "model.noise_and_adjust(node_cons=None, opts={\"maxiter\": 500, \"disp\": True})"
   ]
  },
  {
   "cell_type": "code",
   "execution_count": 11,
   "metadata": {},
   "outputs": [
    {
     "data": {
      "text/plain": [
       "{'name': '1',\n",
       " 'parent': None,\n",
       " 'attributes': array([10481,  4828,  5653]),\n",
       " 'identifier': '1',\n",
       " 'level': 0,\n",
       " 'noised': array([10495.91223018,  4823.82836614,  5644.84935295]),\n",
       " 'noise': array([14.91223018, -4.17163386, -8.15064705]),\n",
       " 'noise_type': 'laplacian',\n",
       " 'adjusted': array([10495.91223017,  4823.82836614,  5644.84935294]),\n",
       " 'error': array([-14.91223017,   4.17163386,   8.15064706])}"
      ]
     },
     "execution_count": 11,
     "metadata": {},
     "output_type": "execute_result"
    }
   ],
   "source": [
    "model.get_node(\"1\").data.__dict__"
   ]
  },
  {
   "cell_type": "code",
   "execution_count": 12,
   "metadata": {},
   "outputs": [
    {
     "data": {
      "text/plain": [
       "{'name': '12',\n",
       " 'parent': '1',\n",
       " 'attributes': array([3666, 1813, 1853]),\n",
       " 'identifier': '12',\n",
       " 'level': 1,\n",
       " 'noised': array([3658.58936596, 1810.47239113, 1851.85489581]),\n",
       " 'noise': array([-7.41063404, -2.52760887, -1.14510419]),\n",
       " 'noise_type': 'laplacian',\n",
       " 'adjusted': array([3670.9707428 , 1810.39271809, 1851.76167977]),\n",
       " 'error': array([-4.9707428 ,  2.60728191,  1.23832023])}"
      ]
     },
     "execution_count": 12,
     "metadata": {},
     "output_type": "execute_result"
    }
   ],
   "source": [
    "model.get_node(\"12\").data.__dict__"
   ]
  },
  {
   "cell_type": "code",
   "execution_count": 13,
   "metadata": {},
   "outputs": [
    {
     "data": {
      "text/plain": [
       "{'name': '123',\n",
       " 'parent': '12',\n",
       " 'attributes': array([1376,  379,  997]),\n",
       " 'identifier': '123',\n",
       " 'level': 2,\n",
       " 'noised': array([1372.87401109,  381.45053934,  994.50883436]),\n",
       " 'noise': array([-3.12598891,  2.45053934, -2.49116564]),\n",
       " 'noise_type': 'laplacian',\n",
       " 'adjusted': array([1377.14680752,  378.64101277,  996.07711968]),\n",
       " 'error': array([-1.14680752,  0.35898723,  0.92288032])}"
      ]
     },
     "execution_count": 13,
     "metadata": {},
     "output_type": "execute_result"
    }
   ],
   "source": [
    "model.get_node(\"123\").data.__dict__"
   ]
  },
  {
   "cell_type": "code",
   "execution_count": null,
   "metadata": {},
   "outputs": [],
   "source": []
  },
  {
   "cell_type": "code",
   "execution_count": null,
   "metadata": {},
   "outputs": [],
   "source": []
  },
  {
   "cell_type": "code",
   "execution_count": null,
   "metadata": {},
   "outputs": [],
   "source": []
  }
 ],
 "metadata": {
  "kernelspec": {
   "display_name": "Python 3",
   "language": "python",
   "name": "python3"
  },
  "language_info": {
   "codemirror_mode": {
    "name": "ipython",
    "version": 3
   },
   "file_extension": ".py",
   "mimetype": "text/x-python",
   "name": "python",
   "nbconvert_exporter": "python",
   "pygments_lexer": "ipython3",
   "version": "3.7.1"
  }
 },
 "nbformat": 4,
 "nbformat_minor": 2
}
