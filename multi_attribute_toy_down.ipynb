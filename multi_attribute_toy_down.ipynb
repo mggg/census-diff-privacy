{
 "cells": [
  {
   "cell_type": "code",
   "execution_count": 1,
   "metadata": {},
   "outputs": [],
   "source": [
    "import math\n",
    "import random\n",
    "import numpy as np\n",
    "import pandas as pd\n",
    "import matplotlib.pyplot as plt\n",
    "import itertools\n",
    "import string\n",
    "\n",
    "from toydown import GeoUnit, ToyDown"
   ]
  },
  {
   "cell_type": "code",
   "execution_count": 2,
   "metadata": {},
   "outputs": [],
   "source": [
    "def create_demo_tree_homogenous_branching(h=3):\n",
    "    \"\"\" Creates a demo tree of height h <= 16, with homogenous branching of h.\n",
    "        This demo tree has two population counts, and count that is the sum of them.\n",
    "    \"\"\"\n",
    "    leaves = [\"1\" + \"\".join(a) for a in itertools.product(string.hexdigits[1:h+1], repeat=h-1)]\n",
    "    leaves_counts = np.random.randint(1000, size=(len(leaves),2))\n",
    "    leaves_attrs = np.insert(leaves_counts, 0, leaves_counts.sum(axis=1), axis=1)\n",
    "    \n",
    "    nodes = {i: j for i, j in zip(leaves, leaves_attrs)}\n",
    "    \n",
    "    for i in range(2, h+1):\n",
    "        level_names = list(set(list(map(lambda s: s[:-(i-1)], leaves))))\n",
    "        level_counts = [np.zeros(3)]*len(level_names)\n",
    "        for node in level_names:\n",
    "            nodes[node] = np.array([v for k, v in nodes.items() if k.startswith(node) and len(k) == h]).sum(axis=0)\n",
    "        \n",
    "    return [GeoUnit(k, k[:-1], v) if k != \"1\" else GeoUnit(k, None, v) for k, v in nodes.items()]"
   ]
  },
  {
   "cell_type": "code",
   "execution_count": 10,
   "metadata": {},
   "outputs": [],
   "source": [
    "geounits = create_demo_tree_homogenous_branching(3)\n",
    "geounits.reverse()\n",
    "eps = 2\n",
    "eps_split = [0.25, 0.25, 0.5]"
   ]
  },
  {
   "cell_type": "code",
   "execution_count": 11,
   "metadata": {},
   "outputs": [
    {
     "name": "stdout",
     "output_type": "stream",
     "text": [
      "1\n",
      "├── 11\n",
      "│   ├── 111\n",
      "│   ├── 112\n",
      "│   └── 113\n",
      "├── 12\n",
      "│   ├── 121\n",
      "│   ├── 122\n",
      "│   └── 123\n",
      "└── 13\n",
      "    ├── 131\n",
      "    ├── 132\n",
      "    └── 133\n",
      "\n"
     ]
    }
   ],
   "source": [
    "model = ToyDown(geounits, 3, eps, eps_split)\n",
    "model.show()"
   ]
  },
  {
   "cell_type": "code",
   "execution_count": 12,
   "metadata": {},
   "outputs": [],
   "source": [
    "## Constraints: 0 difference among partition bins\n",
    "## number of children n, returns list of 0 diff constraints.\n",
    "cons_0_diff = lambda n: [{'type': 'eq', 'fun': lambda x, i=i:  x[i] - np.sum([x[j] for j in range(i+1,i+3)])} \n",
    "                         for i in np.arange(n*3, step=3)]"
   ]
  },
  {
   "cell_type": "code",
   "execution_count": null,
   "metadata": {},
   "outputs": [],
   "source": []
  },
  {
   "cell_type": "code",
   "execution_count": 13,
   "metadata": {},
   "outputs": [
    {
     "name": "stdout",
     "output_type": "stream",
     "text": [
      "1\n",
      "Optimization terminated successfully.    (Exit mode 0)\n",
      "            Current function value: 9.057239362788096\n",
      "            Iterations: 2\n",
      "            Function evaluations: 10\n",
      "            Gradient evaluations: 2\n",
      "Optimization terminated successfully.    (Exit mode 0)\n",
      "            Current function value: 13.761661068718468\n",
      "            Iterations: 40\n",
      "            Function evaluations: 467\n",
      "            Gradient evaluations: 40\n",
      "11\n",
      "Optimization terminated successfully.    (Exit mode 0)\n",
      "            Current function value: 3.2839598258068605\n",
      "            Iterations: 236\n",
      "            Function evaluations: 3948\n",
      "            Gradient evaluations: 236\n",
      "113\n",
      "112\n",
      "111\n",
      "12\n",
      "Optimization terminated successfully.    (Exit mode 0)\n",
      "            Current function value: 3.0178999974572704\n",
      "            Iterations: 44\n",
      "            Function evaluations: 526\n",
      "            Gradient evaluations: 44\n",
      "123\n",
      "122\n",
      "121\n",
      "13\n",
      "Optimization terminated successfully.    (Exit mode 0)\n",
      "            Current function value: 7.450452786251241\n",
      "            Iterations: 43\n",
      "            Function evaluations: 504\n",
      "            Gradient evaluations: 43\n",
      "133\n",
      "132\n",
      "131\n"
     ]
    }
   ],
   "source": [
    "model.noise_and_adjust(node_cons=cons_0_diff, opts={\"maxiter\": 500, \"disp\": True})"
   ]
  },
  {
   "cell_type": "code",
   "execution_count": 14,
   "metadata": {},
   "outputs": [
    {
     "data": {
      "text/plain": [
       "{'name': '1',\n",
       " 'parent': None,\n",
       " 'attributes': array([8550, 4354, 4196]),\n",
       " 'identifier': '1',\n",
       " 'level': 0,\n",
       " 'noised': array([8540.97806797, 4354.69281847, 4195.34248886]),\n",
       " 'noise': array([-9.02193203,  0.69281847, -0.65751114]),\n",
       " 'noise_type': 'laplacian',\n",
       " 'adjusted': array([8549.33333333, 4354.66666667, 4194.66666667]),\n",
       " 'error': array([ 0.66666667, -0.66666667,  1.33333333])}"
      ]
     },
     "execution_count": 14,
     "metadata": {},
     "output_type": "execute_result"
    }
   ],
   "source": [
    "model.get_node(\"1\").data.__dict__"
   ]
  },
  {
   "cell_type": "code",
   "execution_count": 15,
   "metadata": {},
   "outputs": [
    {
     "data": {
      "text/plain": [
       "{'name': '12',\n",
       " 'parent': '1',\n",
       " 'attributes': array([2698, 1339, 1359]),\n",
       " 'identifier': '12',\n",
       " 'level': 1,\n",
       " 'noised': array([2698.67655158, 1343.40009759, 1358.60379522]),\n",
       " 'noise': array([ 0.67655158,  4.40009759, -0.39620478]),\n",
       " 'noise_type': 'laplacian',\n",
       " 'adjusted': array([2698.46333036, 1339.81213398, 1358.65119638]),\n",
       " 'error': array([-0.46333036, -0.81213398,  0.34880362])}"
      ]
     },
     "execution_count": 15,
     "metadata": {},
     "output_type": "execute_result"
    }
   ],
   "source": [
    "model.get_node(\"12\").data.__dict__"
   ]
  },
  {
   "cell_type": "code",
   "execution_count": 16,
   "metadata": {},
   "outputs": [
    {
     "data": {
      "text/plain": [
       "{'name': '123',\n",
       " 'parent': '12',\n",
       " 'attributes': array([593, 539,  54]),\n",
       " 'identifier': '123',\n",
       " 'level': 2,\n",
       " 'noised': array([594.62890329, 539.38827436,  56.00672072]),\n",
       " 'noise': array([1.62890329, 0.38827436, 2.00672072]),\n",
       " 'noise_type': 'laplacian',\n",
       " 'adjusted': array([594.44858491, 539.54389202,  54.90469289]),\n",
       " 'error': array([-1.44858491, -0.54389202, -0.90469289])}"
      ]
     },
     "execution_count": 16,
     "metadata": {},
     "output_type": "execute_result"
    }
   ],
   "source": [
    "model.get_node(\"123\").data.__dict__"
   ]
  },
  {
   "cell_type": "code",
   "execution_count": null,
   "metadata": {},
   "outputs": [],
   "source": []
  },
  {
   "cell_type": "code",
   "execution_count": null,
   "metadata": {},
   "outputs": [],
   "source": []
  }
 ],
 "metadata": {
  "kernelspec": {
   "display_name": "Python 3",
   "language": "python",
   "name": "python3"
  },
  "language_info": {
   "codemirror_mode": {
    "name": "ipython",
    "version": 3
   },
   "file_extension": ".py",
   "mimetype": "text/x-python",
   "name": "python",
   "nbconvert_exporter": "python",
   "pygments_lexer": "ipython3",
   "version": "3.7.1"
  }
 },
 "nbformat": 4,
 "nbformat_minor": 2
}
