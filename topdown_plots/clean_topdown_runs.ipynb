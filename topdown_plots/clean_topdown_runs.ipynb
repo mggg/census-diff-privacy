{
 "cells": [
  {
   "cell_type": "code",
   "execution_count": 1,
   "metadata": {},
   "outputs": [],
   "source": [
    "import zipfile\n",
    "import os\n",
    "\n",
    "import sys; sys.path.append(\"..\") # Adds parent directory to python modules path.\n",
    "from topdown_parsers import *"
   ]
  },
  {
   "cell_type": "code",
   "execution_count": 2,
   "metadata": {},
   "outputs": [],
   "source": [
    "def zip_dir(dir_name):\n",
    "    \"\"\"\n",
    "    \"\"\"\n",
    "    filepaths = get_all_filepaths(dir_name)\n",
    " \n",
    "    with zipfile.ZipFile(dir_name + \".zip\",'w', zipfile.ZIP_DEFLATED) as zip_obj: \n",
    "        # writing each file one by one \n",
    "        for file in filepaths: \n",
    "            zip_obj.write(file) \n",
    "                    \n",
    "def extract_from_zip(zipfile_fp, \n",
    "                     destination_fp):\n",
    "    \"\"\"\n",
    "    \"\"\"\n",
    "    print(\"Extracting {}\".format(zipfile_fp))\n",
    "    \n",
    "    with zipfile.ZipFile(zipfile_fp, 'r') as zip_ref:\n",
    "        zip_ref.extractall(destination_fp)\n",
    "\n",
    "def get_all_filepaths(directory): \n",
    "    \"\"\"\n",
    "    \"\"\"\n",
    "    file_paths = [] \n",
    "  \n",
    "    for root, directories, files in os.walk(directory): \n",
    "        for filename in files: \n",
    "            filepath = os.path.join(root, filename) \n",
    "            file_paths.append(filepath) \n",
    "  \n",
    "    return file_paths     \n",
    "\n",
    "def clean_person_file(dir_name):\n",
    "    \"\"\"\n",
    "    \"\"\"\n",
    "    print(\"Cleaning {}\".format(dir_name))\n",
    "    for root, dirs, files in os.walk(dir_name):\n",
    "        for d in dirs:\n",
    "            if d[:7] == \"output_\":\n",
    "                path = os.path.join(root, d)\n",
    "                old_fn = path + \"/MDF_PER.dat\"\n",
    "                new_fn = path + \"/MDF_PER_CLEAN.dat\"\n",
    "                os.system(\"sed '1,13d' {} > {}\".format(old_fn, new_fn))\n",
    "                os.system(\"rm {}\".format(old_fn))\n",
    "                \n",
    "def clean_runs(runs_dirname, dallas_fips=\"113\", dallas_filename=\"DALLAS.dat\"):\n",
    "    \"\"\"\n",
    "    \"\"\"\n",
    "    for root, dirs, files in os.walk(runs_dirname):\n",
    "        for file in files:\n",
    "            if file[-4:] == \".zip\":\n",
    "                filepath = root + file\n",
    "                dirname = filepath[:-4]\n",
    "\n",
    "                extract_from_zip(filepath, root)            \n",
    "                clean_person_file(dirname)\n",
    "                build_county_file_from_topdown_output(dirname,\n",
    "                                                      dallas_fips,\n",
    "                                                      \"MDF_PER_CLEAN.dat\",\n",
    "                                                      dallas_filename)\n",
    "                zip_dir(dirname)\n",
    "                os.system(\"rm -r {}\".format(dirname))\n",
    "                print()"
   ]
  },
  {
   "cell_type": "code",
   "execution_count": 3,
   "metadata": {
    "scrolled": false
   },
   "outputs": [],
   "source": [
    "with_hh_dirname = \"../../with_hhs/\"\n",
    "without_hh_dirname = \"../../without_hhs/\""
   ]
  },
  {
   "cell_type": "code",
   "execution_count": 7,
   "metadata": {
    "scrolled": true
   },
   "outputs": [],
   "source": [
    "clean_runs(with_hh_dirname)"
   ]
  },
  {
   "cell_type": "code",
   "execution_count": 8,
   "metadata": {},
   "outputs": [],
   "source": [
    "clean_runs(without_hh_dirname)"
   ]
  },
  {
   "cell_type": "code",
   "execution_count": 9,
   "metadata": {
    "scrolled": false
   },
   "outputs": [
    {
     "name": "stdout",
     "output_type": "stream",
     "text": [
      "Extracting ../../remaining_runs/TEXAS_STUB_mid_1_bg_weighted.ini.zip\n",
      "Cleaning ../../remaining_runs/TEXAS_STUB_mid_1_bg_weighted.ini\n",
      "Saved County at ../../remaining_runs/TEXAS_STUB_mid_1_bg_weighted.ini/output_19/DALLAS.dat\n",
      "Saved County at ../../remaining_runs/TEXAS_STUB_mid_1_bg_weighted.ini/output_17/DALLAS.dat\n",
      "Saved County at ../../remaining_runs/TEXAS_STUB_mid_1_bg_weighted.ini/output_10/DALLAS.dat\n",
      "Saved County at ../../remaining_runs/TEXAS_STUB_mid_1_bg_weighted.ini/output_11/DALLAS.dat\n",
      "Saved County at ../../remaining_runs/TEXAS_STUB_mid_1_bg_weighted.ini/output_16/DALLAS.dat\n",
      "Saved County at ../../remaining_runs/TEXAS_STUB_mid_1_bg_weighted.ini/output_20/DALLAS.dat\n",
      "Saved County at ../../remaining_runs/TEXAS_STUB_mid_1_bg_weighted.ini/output_18/DALLAS.dat\n",
      "Saved County at ../../remaining_runs/TEXAS_STUB_mid_1_bg_weighted.ini/output_9/DALLAS.dat\n",
      "Saved County at ../../remaining_runs/TEXAS_STUB_mid_1_bg_weighted.ini/output_7/DALLAS.dat\n",
      "Saved County at ../../remaining_runs/TEXAS_STUB_mid_1_bg_weighted.ini/output_1/DALLAS.dat\n",
      "Saved County at ../../remaining_runs/TEXAS_STUB_mid_1_bg_weighted.ini/output_6/DALLAS.dat\n",
      "Saved County at ../../remaining_runs/TEXAS_STUB_mid_1_bg_weighted.ini/output_8/DALLAS.dat\n",
      "Saved County at ../../remaining_runs/TEXAS_STUB_mid_1_bg_weighted.ini/output_13/DALLAS.dat\n",
      "Saved County at ../../remaining_runs/TEXAS_STUB_mid_1_bg_weighted.ini/output_14/DALLAS.dat\n",
      "Saved County at ../../remaining_runs/TEXAS_STUB_mid_1_bg_weighted.ini/output_15/DALLAS.dat\n",
      "Saved County at ../../remaining_runs/TEXAS_STUB_mid_1_bg_weighted.ini/output_12/DALLAS.dat\n",
      "Saved County at ../../remaining_runs/TEXAS_STUB_mid_1_bg_weighted.ini/output_3/DALLAS.dat\n",
      "Saved County at ../../remaining_runs/TEXAS_STUB_mid_1_bg_weighted.ini/output_4/DALLAS.dat\n",
      "Saved County at ../../remaining_runs/TEXAS_STUB_mid_1_bg_weighted.ini/output_5/DALLAS.dat\n",
      "Saved County at ../../remaining_runs/TEXAS_STUB_mid_1_bg_weighted.ini/output_2/DALLAS.dat\n",
      "\n"
     ]
    }
   ],
   "source": [
    "remaining_runs_dir = \"../../remaining_runs/\"\n",
    "clean_runs(remaining_runs_dir)"
   ]
  },
  {
   "cell_type": "code",
   "execution_count": null,
   "metadata": {},
   "outputs": [],
   "source": []
  }
 ],
 "metadata": {
  "kernelspec": {
   "display_name": "Python 3",
   "language": "python",
   "name": "python3"
  },
  "language_info": {
   "codemirror_mode": {
    "name": "ipython",
    "version": 3
   },
   "file_extension": ".py",
   "mimetype": "text/x-python",
   "name": "python",
   "nbconvert_exporter": "python",
   "pygments_lexer": "ipython3",
   "version": "3.8.1"
  }
 },
 "nbformat": 4,
 "nbformat_minor": 4
}
