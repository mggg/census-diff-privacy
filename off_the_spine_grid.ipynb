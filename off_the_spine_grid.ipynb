{
 "cells": [
  {
   "cell_type": "code",
   "execution_count": 1,
   "metadata": {},
   "outputs": [],
   "source": [
    "import math\n",
    "import random\n",
    "import numpy as np\n",
    "import pandas as pd\n",
    "import matplotlib.pyplot as plt\n",
    "import itertools\n",
    "import string\n",
    "import seaborn as sns\n",
    "import scipy as sp\n",
    "from toydown import GeoUnit, ToyDown"
   ]
  },
  {
   "cell_type": "code",
   "execution_count": 2,
   "metadata": {},
   "outputs": [],
   "source": [
    "def create_tree_from_leaves(leaf_dict):\n",
    "    \"\"\" Given a dictionary, where the keys are the names of leaf nodes (labeled by their path)\n",
    "        and the corresponding value is the associated attribute counts, this function returns\n",
    "        the list of GeoUnits that defines the corresponding tree.\n",
    "    \"\"\"\n",
    "    nodes = leaf_dict.copy()\n",
    "    h = len(list(leaf_dict.keys())[0])\n",
    "    n = len(list(leaf_dict.values())[0])\n",
    "    \n",
    "    for i in range(2, h+1):\n",
    "        level_names = list(set(list(map(lambda s: s[:-(i-1)], leaf_dict.keys()))))\n",
    "        level_counts = [np.zeros(n)]*len(level_names)\n",
    "        for node in level_names:\n",
    "            nodes[node] = np.array([v for k, v in leaf_dict.items() if k.startswith(node)]).sum(axis=0)\n",
    "        \n",
    "    return [GeoUnit(k, k[:-1], v) if k != \"1\" else GeoUnit(k, None, v) for k, v in nodes.items()]"
   ]
  },
  {
   "cell_type": "code",
   "execution_count": 9,
   "metadata": {},
   "outputs": [],
   "source": [
    "leaves = {   '111': np.array([100, 40, 60]),\n",
    "             '112': np.array([100, 50, 50]),\n",
    "             '113': np.array([100, 70, 30]),\n",
    "             '114': np.array([100, 50, 50]),\n",
    "             '121': np.array([100, 40, 60]),\n",
    "             '122': np.array([100, 30, 70]),\n",
    "             '123': np.array([100, 40, 60]),\n",
    "             '124': np.array([100, 60, 40]),\n",
    "             '131': np.array([100, 70, 30]),\n",
    "             '132': np.array([100, 50, 50]),\n",
    "             '133': np.array([100, 40, 60]),\n",
    "             '134': np.array([100, 50, 50]),\n",
    "             '141': np.array([100, 40, 60]),\n",
    "             '142': np.array([100, 60, 40]),\n",
    "             '143': np.array([100, 40, 60]),\n",
    "             '144': np.array([100, 30, 70]),}"
   ]
  },
  {
   "cell_type": "code",
   "execution_count": 6,
   "metadata": {},
   "outputs": [],
   "source": [
    "leaf_names = [\"1\" + \"\".join(a) for a in itertools.product(string.hexdigits[1:4+1], repeat=3-1)]"
   ]
  },
  {
   "cell_type": "code",
   "execution_count": 10,
   "metadata": {},
   "outputs": [],
   "source": [
    "def leaf_counts(leaf_names, leaves):\n",
    "    num_leaves = len(leaf_names)\n",
    "    counts = np.zeros((num_leaves,3))\n",
    "    for i,l in enumerate(leaf_names):\n",
    "        counts[i] = leaves[l]\n",
    "    return counts"
   ]
  },
  {
   "cell_type": "code",
   "execution_count": 15,
   "metadata": {},
   "outputs": [],
   "source": [
    "geounits = create_tree_from_leaves(leaves)\n",
    "geounits.reverse()\n",
    "eps = 0.2\n",
    "eps_split = [1/3, 1/3, 1/3]"
   ]
  },
  {
   "cell_type": "code",
   "execution_count": 16,
   "metadata": {},
   "outputs": [
    {
     "name": "stdout",
     "output_type": "stream",
     "text": [
      "1\n",
      "├── 11\n",
      "│   ├── 111\n",
      "│   ├── 112\n",
      "│   ├── 113\n",
      "│   └── 114\n",
      "├── 12\n",
      "│   ├── 121\n",
      "│   ├── 122\n",
      "│   ├── 123\n",
      "│   └── 124\n",
      "├── 13\n",
      "│   ├── 131\n",
      "│   ├── 132\n",
      "│   ├── 133\n",
      "│   └── 134\n",
      "└── 14\n",
      "    ├── 141\n",
      "    ├── 142\n",
      "    ├── 143\n",
      "    └── 144\n",
      "\n"
     ]
    }
   ],
   "source": [
    "model = ToyDown(geounits, 3, eps, eps_split)\n",
    "model.show()"
   ]
  },
  {
   "cell_type": "code",
   "execution_count": 17,
   "metadata": {},
   "outputs": [],
   "source": [
    "cons_0_diff = lambda n: [{'type': 'eq', 'fun': lambda x, i=i:  x[i] - np.sum([x[j] for j in range(i+1,i+3)])} \n",
    "                         for i in np.arange(n*3, step=3)]"
   ]
  },
  {
   "cell_type": "code",
   "execution_count": 20,
   "metadata": {},
   "outputs": [],
   "source": [
    "def toydown_noise(leaves, model, cons=cons_0_diff, n_leaves=None):\n",
    "    n = n_leaves if n_leaves else len(leaves)\n",
    "    noised_counts = np.zeros((n,3))\n",
    "    model.noise_and_adjust(node_cons=cons)\n",
    "    for i,l in enumerate(leaves):\n",
    "        noised_counts[i] = model.get_node(l).data.adjusted\n",
    "    return noised_counts"
   ]
  },
  {
   "cell_type": "code",
   "execution_count": 35,
   "metadata": {},
   "outputs": [],
   "source": [
    "grid = np.array([[\"111\",\"112\",\"121\",\"122\"],[\"114\",\"113\",\"124\",\"123\"],[\"141\",\"142\",\"131\",\"132\"],[\"144\",\"143\",\"134\",\"133\"]])"
   ]
  },
  {
   "cell_type": "code",
   "execution_count": 41,
   "metadata": {},
   "outputs": [
    {
     "ename": "ValueError",
     "evalue": "setting an array element with a sequence.",
     "output_type": "error",
     "traceback": [
      "\u001b[0;31m---------------------------------------------------------------------------\u001b[0m",
      "\u001b[0;31mValueError\u001b[0m                                Traceback (most recent call last)",
      "\u001b[0;32m<ipython-input-41-8d617cae0713>\u001b[0m in \u001b[0;36m<module>\u001b[0;34m\u001b[0m\n\u001b[1;32m      1\u001b[0m \u001b[0mf\u001b[0m \u001b[0;34m=\u001b[0m \u001b[0mnp\u001b[0m\u001b[0;34m.\u001b[0m\u001b[0mvectorize\u001b[0m\u001b[0;34m(\u001b[0m\u001b[0;32mlambda\u001b[0m \u001b[0mx\u001b[0m\u001b[0;34m:\u001b[0m \u001b[0mleaves\u001b[0m\u001b[0;34m[\u001b[0m\u001b[0mx\u001b[0m\u001b[0;34m]\u001b[0m\u001b[0;34m)\u001b[0m\u001b[0;34m\u001b[0m\u001b[0;34m\u001b[0m\u001b[0m\n\u001b[0;32m----> 2\u001b[0;31m \u001b[0mf\u001b[0m\u001b[0;34m(\u001b[0m\u001b[0mgrid\u001b[0m\u001b[0;34m)\u001b[0m\u001b[0;34m\u001b[0m\u001b[0;34m\u001b[0m\u001b[0m\n\u001b[0m",
      "\u001b[0;32m/cluster/tufts/rt/software/jupyter3/lib/python3.7/site-packages/numpy/lib/function_base.py\u001b[0m in \u001b[0;36m__call__\u001b[0;34m(self, *args, **kwargs)\u001b[0m\n\u001b[1;32m   1970\u001b[0m             \u001b[0mvargs\u001b[0m\u001b[0;34m.\u001b[0m\u001b[0mextend\u001b[0m\u001b[0;34m(\u001b[0m\u001b[0;34m[\u001b[0m\u001b[0mkwargs\u001b[0m\u001b[0;34m[\u001b[0m\u001b[0m_n\u001b[0m\u001b[0;34m]\u001b[0m \u001b[0;32mfor\u001b[0m \u001b[0m_n\u001b[0m \u001b[0;32min\u001b[0m \u001b[0mnames\u001b[0m\u001b[0;34m]\u001b[0m\u001b[0;34m)\u001b[0m\u001b[0;34m\u001b[0m\u001b[0;34m\u001b[0m\u001b[0m\n\u001b[1;32m   1971\u001b[0m \u001b[0;34m\u001b[0m\u001b[0m\n\u001b[0;32m-> 1972\u001b[0;31m         \u001b[0;32mreturn\u001b[0m \u001b[0mself\u001b[0m\u001b[0;34m.\u001b[0m\u001b[0m_vectorize_call\u001b[0m\u001b[0;34m(\u001b[0m\u001b[0mfunc\u001b[0m\u001b[0;34m=\u001b[0m\u001b[0mfunc\u001b[0m\u001b[0;34m,\u001b[0m \u001b[0margs\u001b[0m\u001b[0;34m=\u001b[0m\u001b[0mvargs\u001b[0m\u001b[0;34m)\u001b[0m\u001b[0;34m\u001b[0m\u001b[0;34m\u001b[0m\u001b[0m\n\u001b[0m\u001b[1;32m   1973\u001b[0m \u001b[0;34m\u001b[0m\u001b[0m\n\u001b[1;32m   1974\u001b[0m     \u001b[0;32mdef\u001b[0m \u001b[0m_get_ufunc_and_otypes\u001b[0m\u001b[0;34m(\u001b[0m\u001b[0mself\u001b[0m\u001b[0;34m,\u001b[0m \u001b[0mfunc\u001b[0m\u001b[0;34m,\u001b[0m \u001b[0margs\u001b[0m\u001b[0;34m)\u001b[0m\u001b[0;34m:\u001b[0m\u001b[0;34m\u001b[0m\u001b[0;34m\u001b[0m\u001b[0m\n",
      "\u001b[0;32m/cluster/tufts/rt/software/jupyter3/lib/python3.7/site-packages/numpy/lib/function_base.py\u001b[0m in \u001b[0;36m_vectorize_call\u001b[0;34m(self, func, args)\u001b[0m\n\u001b[1;32m   2049\u001b[0m \u001b[0;34m\u001b[0m\u001b[0m\n\u001b[1;32m   2050\u001b[0m             \u001b[0;32mif\u001b[0m \u001b[0mufunc\u001b[0m\u001b[0;34m.\u001b[0m\u001b[0mnout\u001b[0m \u001b[0;34m==\u001b[0m \u001b[0;36m1\u001b[0m\u001b[0;34m:\u001b[0m\u001b[0;34m\u001b[0m\u001b[0;34m\u001b[0m\u001b[0m\n\u001b[0;32m-> 2051\u001b[0;31m                 \u001b[0mres\u001b[0m \u001b[0;34m=\u001b[0m \u001b[0marray\u001b[0m\u001b[0;34m(\u001b[0m\u001b[0moutputs\u001b[0m\u001b[0;34m,\u001b[0m \u001b[0mcopy\u001b[0m\u001b[0;34m=\u001b[0m\u001b[0;32mFalse\u001b[0m\u001b[0;34m,\u001b[0m \u001b[0msubok\u001b[0m\u001b[0;34m=\u001b[0m\u001b[0;32mTrue\u001b[0m\u001b[0;34m,\u001b[0m \u001b[0mdtype\u001b[0m\u001b[0;34m=\u001b[0m\u001b[0motypes\u001b[0m\u001b[0;34m[\u001b[0m\u001b[0;36m0\u001b[0m\u001b[0;34m]\u001b[0m\u001b[0;34m)\u001b[0m\u001b[0;34m\u001b[0m\u001b[0;34m\u001b[0m\u001b[0m\n\u001b[0m\u001b[1;32m   2052\u001b[0m             \u001b[0;32melse\u001b[0m\u001b[0;34m:\u001b[0m\u001b[0;34m\u001b[0m\u001b[0;34m\u001b[0m\u001b[0m\n\u001b[1;32m   2053\u001b[0m                 res = tuple([array(x, copy=False, subok=True, dtype=t)\n",
      "\u001b[0;31mValueError\u001b[0m: setting an array element with a sequence."
     ]
    }
   ],
   "source": [
    "f = np.vectorize(lambda x: leaves[x])\n",
    "f(grid)"
   ]
  },
  {
   "cell_type": "code",
   "execution_count": 26,
   "metadata": {},
   "outputs": [],
   "source": [
    "true_count = leaf_counts(leaf_names, leaves)"
   ]
  },
  {
   "cell_type": "code",
   "execution_count": 27,
   "metadata": {},
   "outputs": [],
   "source": [
    "noise_count = toydown_noise(leaf_names, model)"
   ]
  },
  {
   "cell_type": "code",
   "execution_count": 28,
   "metadata": {},
   "outputs": [
    {
     "data": {
      "text/plain": [
       "array([1600.,  760.,  840.])"
      ]
     },
     "execution_count": 28,
     "metadata": {},
     "output_type": "execute_result"
    }
   ],
   "source": [
    "true_count.sum(axis=0)"
   ]
  },
  {
   "cell_type": "code",
   "execution_count": 29,
   "metadata": {},
   "outputs": [
    {
     "data": {
      "text/plain": [
       "array([1599.99926942,  759.99850219,  840.00076723])"
      ]
     },
     "execution_count": 29,
     "metadata": {},
     "output_type": "execute_result"
    }
   ],
   "source": [
    "noise_count.sum(axis=0)"
   ]
  },
  {
   "cell_type": "code",
   "execution_count": 30,
   "metadata": {},
   "outputs": [
    {
     "data": {
      "text/plain": [
       "array([[ 92.38999482,  42.21323626,  50.17675856],\n",
       "       [109.03651913,  49.35990062,  59.67661851],\n",
       "       [106.18318349,  72.21323626,  33.96994723],\n",
       "       [ 92.38999482,  52.21323626,  40.17675856],\n",
       "       [ 67.94232443,  54.14498872,  13.79733571],\n",
       "       [129.24008371,  19.227581  , 110.01250271],\n",
       "       [100.16042633,  26.81672028,  73.34370605],\n",
       "       [110.6572657 ,  67.81039902,  42.84686668],\n",
       "       [ 92.95354599,  79.33665113,  13.61689487],\n",
       "       [102.60592628,  52.43340793,  50.17251835],\n",
       "       [113.45687252,  28.8333246 ,  84.62354792],\n",
       "       [ 86.98313103,  47.3958212 ,  39.58730983],\n",
       "       [ 95.9610242 ,  42.24568743,  53.71533677],\n",
       "       [106.40179383,  64.71419207,  41.68760176],\n",
       "       [ 93.98217217,  47.90693171,  46.07524046],\n",
       "       [ 99.65501096,  13.13318771,  86.52182325]])"
      ]
     },
     "execution_count": 30,
     "metadata": {},
     "output_type": "execute_result"
    }
   ],
   "source": [
    "noise_count"
   ]
  },
  {
   "cell_type": "code",
   "execution_count": null,
   "metadata": {},
   "outputs": [],
   "source": []
  }
 ],
 "metadata": {
  "kernelspec": {
   "display_name": "Python 3",
   "language": "python",
   "name": "python3"
  },
  "language_info": {
   "codemirror_mode": {
    "name": "ipython",
    "version": 3
   },
   "file_extension": ".py",
   "mimetype": "text/x-python",
   "name": "python",
   "nbconvert_exporter": "python",
   "pygments_lexer": "ipython3",
   "version": "3.7.1"
  }
 },
 "nbformat": 4,
 "nbformat_minor": 2
}
