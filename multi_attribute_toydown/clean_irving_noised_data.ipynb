{
 "cells": [
  {
   "cell_type": "code",
   "execution_count": 1,
   "metadata": {},
   "outputs": [],
   "source": [
    "import math\n",
    "import random\n",
    "import numpy as np\n",
    "import pandas as pd\n",
    "import matplotlib.pyplot as plt\n",
    "import seaborn as sns\n",
    "import scipy as sp\n",
    "import geopandas as gpd\n",
    "import glob"
   ]
  },
  {
   "cell_type": "code",
   "execution_count": 2,
   "metadata": {},
   "outputs": [],
   "source": [
    "city = gpd.read_file(\"../../data/irving_blocks/irving_city_blocks10.shp\")\n",
    "isd = gpd.read_file(\"../../data/irving_blocks/irving_isd_blocks10.shp\")"
   ]
  },
  {
   "cell_type": "code",
   "execution_count": 3,
   "metadata": {},
   "outputs": [],
   "source": [
    "irving_blocks = list(set(city.geoid) | set(isd.geoid) )"
   ]
  },
  {
   "cell_type": "code",
   "execution_count": 4,
   "metadata": {},
   "outputs": [],
   "source": [
    "NUM_RUNS = 8\n",
    "col_names = ['TOTPOP', 'HISP', 'NH_WHITE', 'NH_BLACK', 'NH_AMIN', \n",
    "             'NH_ASIAN', 'NH_NHPI', 'NH_OTHER', 'NH_2MORE',\n",
    "             'VAP', 'HVAP', 'WVAP', 'BVAP', 'AMINVAP', 'ASIANVAP', \n",
    "             'NHPIVAP', 'OTHERVAP', '2MOREVAP']\n",
    "epsilon_values = [0.25, 0.5, 1, 2]\n",
    "epsilon_splits = [\"equal\", \"top_heavy\", \"mid_heavy\", \"bottom_heavy\"]"
   ]
  },
  {
   "cell_type": "code",
   "execution_count": 5,
   "metadata": {},
   "outputs": [],
   "source": [
    "irving_runs = pd.DataFrame()\n",
    "for eps in epsilon_values:\n",
    "    for split in epsilon_splits:\n",
    "        df = pd.read_csv(\"results/noised_runs_{}_{}.csv\".format(eps, split))\n",
    "        df_test = df[df.GEOID.isin(irving_blocks)].pivot_table(index=[\"GEOID\",\"epsilon\",\"split\",\"run\"]).unstack()\n",
    "        df_test.columns = [\"{}_{}_noise\".format(t[1], t[0]) for t in df_test.columns]\n",
    "        irving_runs = irving_runs.append(df_test.reset_index())"
   ]
  },
  {
   "cell_type": "code",
   "execution_count": 6,
   "metadata": {},
   "outputs": [],
   "source": [
    "irving_runs[\"GEOID\"] = irving_runs[\"GEOID\"].astype(str)"
   ]
  },
  {
   "cell_type": "code",
   "execution_count": 7,
   "metadata": {},
   "outputs": [],
   "source": [
    "noised_isd = pd.merge(left=isd, right=irving_runs, left_on=\"geoid\", right_on=\"GEOID\")\n",
    "noised_city = pd.merge(left=city, right=irving_runs, left_on=\"geoid\", right_on=\"GEOID\")"
   ]
  },
  {
   "cell_type": "code",
   "execution_count": 9,
   "metadata": {},
   "outputs": [],
   "source": [
    "noised_isd.to_csv(\"irving_blocks/noised_isd.csv\", index=False)\n",
    "noised_city.to_csv(\"irving_blocks/noised_city.csv\", index=False)"
   ]
  },
  {
   "cell_type": "code",
   "execution_count": null,
   "metadata": {},
   "outputs": [],
   "source": [
    "noised_isd.to_file(\"irving_blocks/noised_isd.shp\")\n",
    "noised_city.to_file(\"irving_blocks/noised_city.shp\")"
   ]
  },
  {
   "cell_type": "code",
   "execution_count": null,
   "metadata": {},
   "outputs": [],
   "source": []
  },
  {
   "cell_type": "code",
   "execution_count": null,
   "metadata": {},
   "outputs": [],
   "source": []
  },
  {
   "cell_type": "code",
   "execution_count": null,
   "metadata": {},
   "outputs": [],
   "source": []
  },
  {
   "cell_type": "code",
   "execution_count": null,
   "metadata": {},
   "outputs": [],
   "source": []
  },
  {
   "cell_type": "code",
   "execution_count": null,
   "metadata": {},
   "outputs": [],
   "source": []
  },
  {
   "cell_type": "code",
   "execution_count": null,
   "metadata": {},
   "outputs": [],
   "source": []
  }
 ],
 "metadata": {
  "kernelspec": {
   "display_name": "Python 3",
   "language": "python",
   "name": "python3"
  },
  "language_info": {
   "codemirror_mode": {
    "name": "ipython",
    "version": 3
   },
   "file_extension": ".py",
   "mimetype": "text/x-python",
   "name": "python",
   "nbconvert_exporter": "python",
   "pygments_lexer": "ipython3",
   "version": "3.7.6"
  }
 },
 "nbformat": 4,
 "nbformat_minor": 4
}
