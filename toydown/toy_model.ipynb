{
 "cells": [
  {
   "cell_type": "code",
   "execution_count": 1,
   "metadata": {},
   "outputs": [],
   "source": [
    "import math\n",
    "import random\n",
    "import numpy as np\n",
    "import pandas as pd\n",
    "import matplotlib.pyplot as plt\n",
    "from toydown import ToyDown\n",
    "\n",
    "filename = \"Blocks/dallas_county_blocks10.shp\"\n",
    "toy = ToyDown(filename, \"GEOID10\", \"TOTPOP10\")\n",
    "\n",
    "# tract_recom = np.load(\"100_recom_tract_parts_comp.npy\", allow_pickle=True)[0][\"dicts\"]\n",
    "\n",
    "# for district_type, ds in [(\"tract_recom\", tract_recom)]:\n",
    "#     print(\"Starting {} calculations\".format(district_type), flush=True)\n",
    "# #     print(ds[0])\n",
    "#     var = toy.assign_district_tree_variance(ds[0])\n",
    "#     print(var)\n",
    "#     break"
   ]
  },
  {
   "cell_type": "code",
   "execution_count": null,
   "metadata": {},
   "outputs": [],
   "source": [
    "toy.get_node(toy.root).data"
   ]
  },
  {
   "cell_type": "code",
   "execution_count": null,
   "metadata": {},
   "outputs": [],
   "source": [
    "toy."
   ]
  },
  {
   "cell_type": "code",
   "execution_count": null,
   "metadata": {},
   "outputs": [],
   "source": [
    "hierarchy = [(\"Country\", 1, 810.), \n",
    "             (\"State\", 3, 270.), \n",
    "             (\"County\", 3, 90.), \n",
    "             (\"Dist\", 3, 30.)]\n",
    "\n",
    "eps_budget = 0.2                  \n",
    "eps_splits = [0.25, 0.25, 0.25, 0.25] \n",
    "\n",
    "toy = ToyDown.from_hierarchy(hierarchy, eps_budget, eps_splits)\n",
    "toy.show() "
   ]
  },
  {
   "cell_type": "code",
   "execution_count": 2,
   "metadata": {},
   "outputs": [],
   "source": [
    "# This is where everything from Proposition 1 happens.\n",
    "eps_budget = 0.2                  \n",
    "eps_splits = [0.2, 0.2, 0.2, 0.2, 0.2] \n",
    "\n",
    "toy.set_noising_params(eps_budget, eps_splits)\n",
    "toy.noise_and_adjust()"
   ]
  },
  {
   "cell_type": "code",
   "execution_count": 3,
   "metadata": {},
   "outputs": [],
   "source": [
    "props = toy.get_leaf_properties(\"unnoised_pop\")"
   ]
  },
  {
   "cell_type": "code",
   "execution_count": null,
   "metadata": {},
   "outputs": [],
   "source": [
    "toy.get_node(toy.root).data.__dict__[\"unnoised_pop\"]"
   ]
  },
  {
   "cell_type": "code",
   "execution_count": 4,
   "metadata": {},
   "outputs": [
    {
     "data": {
      "text/html": [
       "<div>\n",
       "<style scoped>\n",
       "    .dataframe tbody tr th:only-of-type {\n",
       "        vertical-align: middle;\n",
       "    }\n",
       "\n",
       "    .dataframe tbody tr th {\n",
       "        vertical-align: top;\n",
       "    }\n",
       "\n",
       "    .dataframe thead th {\n",
       "        text-align: right;\n",
       "    }\n",
       "</style>\n",
       "<table border=\"1\" class=\"dataframe\">\n",
       "  <thead>\n",
       "    <tr style=\"text-align: right;\">\n",
       "      <th></th>\n",
       "      <th>GEOID</th>\n",
       "      <th>unnoised_pop</th>\n",
       "    </tr>\n",
       "  </thead>\n",
       "  <tbody>\n",
       "    <tr>\n",
       "      <th>0</th>\n",
       "      <td>481139801001000</td>\n",
       "      <td>0</td>\n",
       "    </tr>\n",
       "    <tr>\n",
       "      <th>1</th>\n",
       "      <td>481139801001044</td>\n",
       "      <td>0</td>\n",
       "    </tr>\n",
       "    <tr>\n",
       "      <th>2</th>\n",
       "      <td>481139801001014</td>\n",
       "      <td>0</td>\n",
       "    </tr>\n",
       "    <tr>\n",
       "      <th>3</th>\n",
       "      <td>481139801001003</td>\n",
       "      <td>0</td>\n",
       "    </tr>\n",
       "    <tr>\n",
       "      <th>4</th>\n",
       "      <td>481139801001040</td>\n",
       "      <td>0</td>\n",
       "    </tr>\n",
       "    <tr>\n",
       "      <th>...</th>\n",
       "      <td>...</td>\n",
       "      <td>...</td>\n",
       "    </tr>\n",
       "    <tr>\n",
       "      <th>44108</th>\n",
       "      <td>481130001001025</td>\n",
       "      <td>49</td>\n",
       "    </tr>\n",
       "    <tr>\n",
       "      <th>44109</th>\n",
       "      <td>481130001001009</td>\n",
       "      <td>71</td>\n",
       "    </tr>\n",
       "    <tr>\n",
       "      <th>44110</th>\n",
       "      <td>481130001001020</td>\n",
       "      <td>0</td>\n",
       "    </tr>\n",
       "    <tr>\n",
       "      <th>44111</th>\n",
       "      <td>481130001001012</td>\n",
       "      <td>46</td>\n",
       "    </tr>\n",
       "    <tr>\n",
       "      <th>44112</th>\n",
       "      <td>481130001001017</td>\n",
       "      <td>67</td>\n",
       "    </tr>\n",
       "  </tbody>\n",
       "</table>\n",
       "<p>44113 rows × 2 columns</p>\n",
       "</div>"
      ],
      "text/plain": [
       "                 GEOID  unnoised_pop\n",
       "0      481139801001000             0\n",
       "1      481139801001044             0\n",
       "2      481139801001014             0\n",
       "3      481139801001003             0\n",
       "4      481139801001040             0\n",
       "...                ...           ...\n",
       "44108  481130001001025            49\n",
       "44109  481130001001009            71\n",
       "44110  481130001001020             0\n",
       "44111  481130001001012            46\n",
       "44112  481130001001017            67\n",
       "\n",
       "[44113 rows x 2 columns]"
      ]
     },
     "execution_count": 4,
     "metadata": {},
     "output_type": "execute_result"
    }
   ],
   "source": [
    "props"
   ]
  },
  {
   "cell_type": "code",
   "execution_count": null,
   "metadata": {},
   "outputs": [],
   "source": []
  },
  {
   "cell_type": "code",
   "execution_count": null,
   "metadata": {},
   "outputs": [],
   "source": [
    "tract_recom[0]"
   ]
  },
  {
   "cell_type": "code",
   "execution_count": null,
   "metadata": {},
   "outputs": [],
   "source": [
    "# A demonstration of Proposition 1, calculated for CountryState1\n",
    "branching = 3\n",
    "exp_1 = toy.get_node(\"CountryState1\").data.noise\n",
    "exp_2 = ( toy.get_node(\"CountryState1\").data.noise \\\n",
    "        + toy.get_node(\"CountryState2\").data.noise \\\n",
    "        + toy.get_node(\"CountryState3\").data.noise ) / branching\n",
    "exp_3 = toy.get_node(\"Country\").data.error / branching\n",
    "\n",
    "math.isclose(exp_1 - exp_2 + exp_3,\n",
    "             toy.get_node(\"CountryState1\").data.error,\n",
    "             abs_tol=0.00001)"
   ]
  },
  {
   "cell_type": "code",
   "execution_count": null,
   "metadata": {
    "scrolled": true
   },
   "outputs": [],
   "source": [
    "# 6 -level Trees\n",
    "hierarchy = [(\"Country\", 1, 900000.), \n",
    "             (\"State\", 3, 300000.), \n",
    "             (\"County\", 3, 100000.), \n",
    "             (\"Tract\", 10, 10000.),\n",
    "             (\"BlockGroup\", 10, 1000.),\n",
    "             (\"Block\", 10, 100.)]\n",
    "\n",
    "eps_budget = 0.4998 # I picked a random number from one of Peter's runs\n",
    "eps_splits = [0, 0, 0.25, 0.25, 0.25, 0.25] \n",
    "\n",
    "toy = ToyModel(hierarchy, eps_budget, eps_splits)\n",
    "toy.noise_and_adjust()\n",
    "toy.show() "
   ]
  },
  {
   "cell_type": "code",
   "execution_count": null,
   "metadata": {},
   "outputs": [],
   "source": [
    "# First, a sanity check that the equation at the end of Prop 4 works\n",
    "# We will do this check on CountryState1County1Tract1\n",
    "p = 0.5\n",
    "dist_blocks = []\n",
    "other_blocks = []\n",
    "tract = toy.get_node(\"CountryState1County1Tract1\")\n",
    "block_groups = toy.children(tract.identifier)\n",
    "\n",
    "def set_diff(a, b):\n",
    "    return list(set(a).difference(set(b)))\n",
    "\n",
    "for bg in block_groups:\n",
    "    blocks = toy.children(bg.identifier)\n",
    "    chosen_blocks = np.random.choice(blocks, int(p*10), replace=False)\n",
    "    \n",
    "    dist_blocks.extend(chosen_blocks)\n",
    "    other_blocks.extend(set_diff(blocks, chosen_blocks))\n",
    "\n",
    "dist_blk_noises = [blk.data.noise for blk in dist_blocks]\n",
    "other_blk_noises = [blk.data.noise for blk in other_blocks]\n",
    "blk_errors = [blk.data.error for blk in dist_blocks]\n",
    "\n",
    "math.isclose((1-p) * sum(dist_blk_noises) - p * sum(other_blk_noises) + p * tract.data.error,\n",
    "             sum(blk_errors),\n",
    "             abs_tol = 0.000001)"
   ]
  },
  {
   "cell_type": "code",
   "execution_count": null,
   "metadata": {},
   "outputs": [],
   "source": [
    "# get blk errors for p from 0 to 1\n",
    "def get_district_errors_at_p(p, tract_name):\n",
    "    dist_blocks = []\n",
    "    other_blocks = []\n",
    "    tract = toy.get_node(tract_name)\n",
    "    block_groups = toy.children(tract.identifier)\n",
    "\n",
    "    for bg in block_groups:\n",
    "        blocks = toy.children(bg.identifier)\n",
    "        chosen_blocks = np.random.choice(blocks, int(p*10), replace=False)\n",
    "        dist_blocks.extend(chosen_blocks)\n",
    "\n",
    "    raw_errors = [blk.data.error for blk in dist_blocks]\n",
    "    abs_errors = [abs(err) for err in raw_errors]\n",
    "    \n",
    "    return sum(raw_errors), sum(abs_errors)"
   ]
  },
  {
   "cell_type": "code",
   "execution_count": null,
   "metadata": {},
   "outputs": [],
   "source": [
    "raw_error_sums = []\n",
    "abs_error_sums = []\n",
    "ps = np.linspace(0,1,11)\n",
    "for p in ps:\n",
    "    raw_err, abs_err = get_district_errors_at_p(p, \"CountryState1County1Tract1\")\n",
    "    raw_error_sums.append(raw_err)\n",
    "    abs_error_sums.append(abs_err)"
   ]
  },
  {
   "cell_type": "code",
   "execution_count": null,
   "metadata": {},
   "outputs": [],
   "source": [
    "plt.plot(ps, raw_error_sums)"
   ]
  },
  {
   "cell_type": "code",
   "execution_count": null,
   "metadata": {},
   "outputs": [],
   "source": [
    "# we are probably more interested in the absolute value of the errors than the actual sum of errors\n",
    "plt.plot(ps, abs_error_sums)"
   ]
  },
  {
   "cell_type": "code",
   "execution_count": null,
   "metadata": {},
   "outputs": [],
   "source": []
  },
  {
   "cell_type": "code",
   "execution_count": null,
   "metadata": {},
   "outputs": [],
   "source": []
  }
 ],
 "metadata": {
  "kernelspec": {
   "display_name": "Python 3",
   "language": "python",
   "name": "python3"
  },
  "language_info": {
   "codemirror_mode": {
    "name": "ipython",
    "version": 3
   },
   "file_extension": ".py",
   "mimetype": "text/x-python",
   "name": "python",
   "nbconvert_exporter": "python",
   "pygments_lexer": "ipython3",
   "version": "3.8.1"
  }
 },
 "nbformat": 4,
 "nbformat_minor": 2
}
