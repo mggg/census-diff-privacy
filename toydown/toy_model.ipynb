{
 "cells": [
  {
   "cell_type": "code",
   "execution_count": 5,
   "metadata": {},
   "outputs": [],
   "source": [
    "import math\n",
    "import random\n",
    "import numpy as np\n",
    "import pandas as pd\n",
    "import matplotlib.pyplot as plt\n",
    "from toydown import ToyDown\n",
    "from tqdm import tqdm, trange\n",
    "\n",
    "\n",
    "\n",
    "\n",
    "\n",
    "# for district_type, ds in [(\"tract_recom\", tract_recom)]:\n",
    "#     print(\"Starting {} calculations\".format(district_type), flush=True)\n",
    "# #     print(ds[0])\n",
    "#     var = toy.assign_district_tree_variance(ds[0])\n",
    "#     print(var)\n",
    "#     break"
   ]
  },
  {
   "cell_type": "code",
   "execution_count": 9,
   "metadata": {},
   "outputs": [
    {
     "ename": "SyntaxError",
     "evalue": "invalid syntax (<ipython-input-9-8e93e8001fda>, line 12)",
     "output_type": "error",
     "traceback": [
      "\u001b[0;36m  File \u001b[0;32m\"<ipython-input-9-8e93e8001fda>\"\u001b[0;36m, line \u001b[0;32m12\u001b[0m\n\u001b[0;31m    toy.set_noising_params(eps_budget, epsilon_split[])\u001b[0m\n\u001b[0m                                                     ^\u001b[0m\n\u001b[0;31mSyntaxError\u001b[0m\u001b[0;31m:\u001b[0m invalid syntax\n"
     ]
    }
   ],
   "source": [
    "filename = \"Blocks/dallas_county_blocks10.shp\"\n",
    "toy = ToyDown(filename, \"GEOID10\", \"TOTPOP10\")\n",
    "\n",
    "eps_budget = 0.2                  \n",
    "\n",
    "epsilon_split = {\"equal\": [0.2,0.2,0.2,0.2,0.2], \n",
    "                 \"top_heavy\": [1/2, 1/4, 1/12, 1/12, 1/12],\n",
    "                 \"mid_heavy\": [1/12, 1/6, 1/2, 1/6, 1/12], \n",
    "                 \"bottom_heavy\": [1/12, 1/12, 1/12, 1/4, 1/2],\n",
    "                 \"bg_heavy\": [1/12, 1/6, 1/6, 1/2, 1/12]}\n",
    "\n",
    "toy.set_noising_params(eps_budget, epsilon_split[\"equal\"])\n",
    "toy.noise_and_adjust()"
   ]
  },
  {
   "cell_type": "code",
   "execution_count": 3,
   "metadata": {},
   "outputs": [],
   "source": [
    "def district_frag_scores(h, districts):\n",
    "    num_districts = len(districts)\n",
    "    frag_scores = np.zeros(num_districts)\n",
    "    for i in tqdm(range(num_districts)):\n",
    "        frag_scores[i] = h.assign_district_tree_variance(districts[i], eps=1, \n",
    "                                                         eps_splits=[np.sqrt(2)]*5,\n",
    "                                                         sensitivity=1)\n",
    "    return frag_scores\n",
    "\n",
    "tract_recom = np.load(\"100_recom_tract_parts_comp.npy\", allow_pickle=True)[0][\"dicts\"]"
   ]
  },
  {
   "cell_type": "code",
   "execution_count": 6,
   "metadata": {},
   "outputs": [
    {
     "name": "stdout",
     "output_type": "stream",
     "text": [
      "Starting tract_recom calculations\n"
     ]
    },
    {
     "name": "stderr",
     "output_type": "stream",
     "text": [
      "\r",
      "  0%|          | 0/399 [00:00<?, ?it/s]"
     ]
    },
    {
     "name": "stdout",
     "output_type": "stream",
     "text": [
      "Node(tag=48, identifier=48, data=GeoUnit(name=48, unnoised_pop=2368139, parent=None, identifier=48, level=0, noised_pop=2368156.7567961817, noise=17.756796181800283, noise_type=laplacian, adjusted_pop=2368156.7567961817, error=17.756796181667596))\n"
     ]
    },
    {
     "name": "stderr",
     "output_type": "stream",
     "text": [
      "\r",
      "  0%|          | 1/399 [00:00<03:14,  2.05it/s]"
     ]
    },
    {
     "name": "stdout",
     "output_type": "stream",
     "text": [
      "Node(tag=48, identifier=48, data=GeoUnit(name=48, unnoised_pop=2368139, parent=None, identifier=48, level=0, noised_pop=2368156.7567961817, noise=17.756796181800283, noise_type=laplacian, adjusted_pop=2368156.7567961817, error=17.756796181667596, weight=0.2533081285444234))\n"
     ]
    },
    {
     "name": "stderr",
     "output_type": "stream",
     "text": [
      "\r",
      "  1%|          | 2/399 [00:00<02:58,  2.22it/s]"
     ]
    },
    {
     "name": "stdout",
     "output_type": "stream",
     "text": [
      "Node(tag=48, identifier=48, data=GeoUnit(name=48, unnoised_pop=2368139, parent=None, identifier=48, level=0, noised_pop=2368156.7567961817, noise=17.756796181800283, noise_type=laplacian, adjusted_pop=2368156.7567961817, error=17.756796181667596, weight=0.2835538752362949))\n"
     ]
    },
    {
     "name": "stderr",
     "output_type": "stream",
     "text": [
      "\r",
      "  1%|          | 3/399 [00:01<02:48,  2.35it/s]"
     ]
    },
    {
     "name": "stdout",
     "output_type": "stream",
     "text": [
      "Node(tag=48, identifier=48, data=GeoUnit(name=48, unnoised_pop=2368139, parent=None, identifier=48, level=0, noised_pop=2368156.7567961817, noise=17.756796181800283, noise_type=laplacian, adjusted_pop=2368156.7567961817, error=17.756796181667596, weight=0.2551984877126654))\n"
     ]
    },
    {
     "name": "stderr",
     "output_type": "stream",
     "text": [
      "\r",
      "  1%|          | 4/399 [00:01<02:41,  2.44it/s]"
     ]
    },
    {
     "name": "stdout",
     "output_type": "stream",
     "text": [
      "Node(tag=48, identifier=48, data=GeoUnit(name=48, unnoised_pop=2368139, parent=None, identifier=48, level=0, noised_pop=2368156.7567961817, noise=17.756796181800283, noise_type=laplacian, adjusted_pop=2368156.7567961817, error=17.756796181667596, weight=0.22495274102079396))\n"
     ]
    },
    {
     "name": "stderr",
     "output_type": "stream",
     "text": [
      "\r",
      "  1%|▏         | 5/399 [00:01<02:37,  2.50it/s]"
     ]
    },
    {
     "name": "stdout",
     "output_type": "stream",
     "text": [
      "Node(tag=48, identifier=48, data=GeoUnit(name=48, unnoised_pop=2368139, parent=None, identifier=48, level=0, noised_pop=2368156.7567961817, noise=17.756796181800283, noise_type=laplacian, adjusted_pop=2368156.7567961817, error=17.756796181667596, weight=0.2551984877126654))\n"
     ]
    },
    {
     "name": "stderr",
     "output_type": "stream",
     "text": [
      "\r",
      "  2%|▏         | 6/399 [00:02<02:35,  2.54it/s]"
     ]
    },
    {
     "name": "stdout",
     "output_type": "stream",
     "text": [
      "Node(tag=48, identifier=48, data=GeoUnit(name=48, unnoised_pop=2368139, parent=None, identifier=48, level=0, noised_pop=2368156.7567961817, noise=17.756796181800283, noise_type=laplacian, adjusted_pop=2368156.7567961817, error=17.756796181667596, weight=0.2003780718336484))\n"
     ]
    },
    {
     "name": "stderr",
     "output_type": "stream",
     "text": [
      "\r",
      "  2%|▏         | 7/399 [00:02<02:31,  2.59it/s]"
     ]
    },
    {
     "name": "stdout",
     "output_type": "stream",
     "text": [
      "Node(tag=48, identifier=48, data=GeoUnit(name=48, unnoised_pop=2368139, parent=None, identifier=48, level=0, noised_pop=2368156.7567961817, noise=17.756796181800283, noise_type=laplacian, adjusted_pop=2368156.7567961817, error=17.756796181667596, weight=0.23629489603024575))\n"
     ]
    },
    {
     "name": "stderr",
     "output_type": "stream",
     "text": [
      "\r",
      "  2%|▏         | 8/399 [00:03<02:29,  2.62it/s]"
     ]
    },
    {
     "name": "stdout",
     "output_type": "stream",
     "text": [
      "Node(tag=48, identifier=48, data=GeoUnit(name=48, unnoised_pop=2368139, parent=None, identifier=48, level=0, noised_pop=2368156.7567961817, noise=17.756796181800283, noise_type=laplacian, adjusted_pop=2368156.7567961817, error=17.756796181667596, weight=0.22684310018903592))\n"
     ]
    },
    {
     "name": "stderr",
     "output_type": "stream",
     "text": [
      "\r",
      "  2%|▏         | 9/399 [00:03<02:28,  2.62it/s]"
     ]
    },
    {
     "name": "stdout",
     "output_type": "stream",
     "text": [
      "Node(tag=48, identifier=48, data=GeoUnit(name=48, unnoised_pop=2368139, parent=None, identifier=48, level=0, noised_pop=2368156.7567961817, noise=17.756796181800283, noise_type=laplacian, adjusted_pop=2368156.7567961817, error=17.756796181667596, weight=0.2741020793950851))\n"
     ]
    },
    {
     "name": "stderr",
     "output_type": "stream",
     "text": [
      "\r",
      "  3%|▎         | 10/399 [00:03<02:28,  2.62it/s]"
     ]
    },
    {
     "name": "stdout",
     "output_type": "stream",
     "text": [
      "Node(tag=48, identifier=48, data=GeoUnit(name=48, unnoised_pop=2368139, parent=None, identifier=48, level=0, noised_pop=2368156.7567961817, noise=17.756796181800283, noise_type=laplacian, adjusted_pop=2368156.7567961817, error=17.756796181667596, weight=0.29678638941398866))\n"
     ]
    },
    {
     "name": "stderr",
     "output_type": "stream",
     "text": [
      "\r",
      "  3%|▎         | 11/399 [00:04<02:27,  2.62it/s]"
     ]
    },
    {
     "name": "stdout",
     "output_type": "stream",
     "text": [
      "Node(tag=48, identifier=48, data=GeoUnit(name=48, unnoised_pop=2368139, parent=None, identifier=48, level=0, noised_pop=2368156.7567961817, noise=17.756796181800283, noise_type=laplacian, adjusted_pop=2368156.7567961817, error=17.756796181667596, weight=0.20226843100189035))\n"
     ]
    },
    {
     "name": "stderr",
     "output_type": "stream",
     "text": [
      "\r",
      "  3%|▎         | 12/399 [00:04<02:26,  2.64it/s]"
     ]
    },
    {
     "name": "stdout",
     "output_type": "stream",
     "text": [
      "Node(tag=48, identifier=48, data=GeoUnit(name=48, unnoised_pop=2368139, parent=None, identifier=48, level=0, noised_pop=2368156.7567961817, noise=17.756796181800283, noise_type=laplacian, adjusted_pop=2368156.7567961817, error=17.756796181667596, weight=0.22495274102079396))\n"
     ]
    },
    {
     "name": "stderr",
     "output_type": "stream",
     "text": [
      "\r",
      "  3%|▎         | 13/399 [00:04<02:25,  2.65it/s]"
     ]
    },
    {
     "name": "stdout",
     "output_type": "stream",
     "text": [
      "Node(tag=48, identifier=48, data=GeoUnit(name=48, unnoised_pop=2368139, parent=None, identifier=48, level=0, noised_pop=2368156.7567961817, noise=17.756796181800283, noise_type=laplacian, adjusted_pop=2368156.7567961817, error=17.756796181667596, weight=0.2438563327032136))\n"
     ]
    },
    {
     "name": "stderr",
     "output_type": "stream",
     "text": [
      "\r",
      "  4%|▎         | 14/399 [00:05<02:24,  2.66it/s]"
     ]
    },
    {
     "name": "stdout",
     "output_type": "stream",
     "text": [
      "Node(tag=48, identifier=48, data=GeoUnit(name=48, unnoised_pop=2368139, parent=None, identifier=48, level=0, noised_pop=2368156.7567961817, noise=17.756796181800283, noise_type=laplacian, adjusted_pop=2368156.7567961817, error=17.756796181667596, weight=0.277882797731569))\n"
     ]
    },
    {
     "name": "stderr",
     "output_type": "stream",
     "text": [
      "\r",
      "  4%|▍         | 15/399 [00:05<02:24,  2.65it/s]"
     ]
    },
    {
     "name": "stdout",
     "output_type": "stream",
     "text": [
      "Node(tag=48, identifier=48, data=GeoUnit(name=48, unnoised_pop=2368139, parent=None, identifier=48, level=0, noised_pop=2368156.7567961817, noise=17.756796181800283, noise_type=laplacian, adjusted_pop=2368156.7567961817, error=17.756796181667596, weight=0.2684310018903592))\n"
     ]
    },
    {
     "name": "stderr",
     "output_type": "stream",
     "text": [
      "\r",
      "  4%|▍         | 16/399 [00:06<02:23,  2.68it/s]"
     ]
    },
    {
     "name": "stdout",
     "output_type": "stream",
     "text": [
      "Node(tag=48, identifier=48, data=GeoUnit(name=48, unnoised_pop=2368139, parent=None, identifier=48, level=0, noised_pop=2368156.7567961817, noise=17.756796181800283, noise_type=laplacian, adjusted_pop=2368156.7567961817, error=17.756796181667596, weight=0.2835538752362949))\n"
     ]
    },
    {
     "name": "stderr",
     "output_type": "stream",
     "text": [
      "\r",
      "  4%|▍         | 17/399 [00:06<02:22,  2.68it/s]"
     ]
    },
    {
     "name": "stdout",
     "output_type": "stream",
     "text": [
      "Node(tag=48, identifier=48, data=GeoUnit(name=48, unnoised_pop=2368139, parent=None, identifier=48, level=0, noised_pop=2368156.7567961817, noise=17.756796181800283, noise_type=laplacian, adjusted_pop=2368156.7567961817, error=17.756796181667596, weight=0.21928166351606806))\n"
     ]
    },
    {
     "name": "stderr",
     "output_type": "stream",
     "text": [
      "\r",
      "  5%|▍         | 18/399 [00:06<02:21,  2.69it/s]"
     ]
    },
    {
     "name": "stdout",
     "output_type": "stream",
     "text": [
      "Node(tag=48, identifier=48, data=GeoUnit(name=48, unnoised_pop=2368139, parent=None, identifier=48, level=0, noised_pop=2368156.7567961817, noise=17.756796181800283, noise_type=laplacian, adjusted_pop=2368156.7567961817, error=17.756796181667596, weight=0.22306238185255198))\n"
     ]
    },
    {
     "name": "stderr",
     "output_type": "stream",
     "text": [
      "\r",
      "  5%|▍         | 19/399 [00:07<02:20,  2.70it/s]"
     ]
    },
    {
     "name": "stdout",
     "output_type": "stream",
     "text": [
      "Node(tag=48, identifier=48, data=GeoUnit(name=48, unnoised_pop=2368139, parent=None, identifier=48, level=0, noised_pop=2368156.7567961817, noise=17.756796181800283, noise_type=laplacian, adjusted_pop=2368156.7567961817, error=17.756796181667596, weight=0.2948960302457467))\n"
     ]
    },
    {
     "name": "stderr",
     "output_type": "stream",
     "text": [
      "\r",
      "  5%|▌         | 20/399 [00:07<02:20,  2.70it/s]"
     ]
    },
    {
     "name": "stdout",
     "output_type": "stream",
     "text": [
      "Node(tag=48, identifier=48, data=GeoUnit(name=48, unnoised_pop=2368139, parent=None, identifier=48, level=0, noised_pop=2368156.7567961817, noise=17.756796181800283, noise_type=laplacian, adjusted_pop=2368156.7567961817, error=17.756796181667596, weight=0.30434782608695654))\n"
     ]
    },
    {
     "name": "stderr",
     "output_type": "stream",
     "text": [
      "\r",
      "  5%|▌         | 21/399 [00:07<02:19,  2.71it/s]"
     ]
    },
    {
     "name": "stdout",
     "output_type": "stream",
     "text": [
      "Node(tag=48, identifier=48, data=GeoUnit(name=48, unnoised_pop=2368139, parent=None, identifier=48, level=0, noised_pop=2368156.7567961817, noise=17.756796181800283, noise_type=laplacian, adjusted_pop=2368156.7567961817, error=17.756796181667596, weight=0.22306238185255198))\n"
     ]
    },
    {
     "name": "stderr",
     "output_type": "stream",
     "text": [
      "\r",
      "  6%|▌         | 22/399 [00:08<02:20,  2.68it/s]"
     ]
    },
    {
     "name": "stdout",
     "output_type": "stream",
     "text": [
      "Node(tag=48, identifier=48, data=GeoUnit(name=48, unnoised_pop=2368139, parent=None, identifier=48, level=0, noised_pop=2368156.7567961817, noise=17.756796181800283, noise_type=laplacian, adjusted_pop=2368156.7567961817, error=17.756796181667596, weight=0.2665406427221172))\n"
     ]
    },
    {
     "name": "stderr",
     "output_type": "stream",
     "text": [
      "\r",
      "  6%|▌         | 23/399 [00:08<02:22,  2.65it/s]"
     ]
    },
    {
     "name": "stdout",
     "output_type": "stream",
     "text": [
      "Node(tag=48, identifier=48, data=GeoUnit(name=48, unnoised_pop=2368139, parent=None, identifier=48, level=0, noised_pop=2368156.7567961817, noise=17.756796181800283, noise_type=laplacian, adjusted_pop=2368156.7567961817, error=17.756796181667596, weight=0.27032136105860116))\n"
     ]
    },
    {
     "name": "stderr",
     "output_type": "stream",
     "text": [
      "\r",
      "  6%|▌         | 24/399 [00:09<02:21,  2.66it/s]"
     ]
    },
    {
     "name": "stdout",
     "output_type": "stream",
     "text": [
      "Node(tag=48, identifier=48, data=GeoUnit(name=48, unnoised_pop=2368139, parent=None, identifier=48, level=0, noised_pop=2368156.7567961817, noise=17.756796181800283, noise_type=laplacian, adjusted_pop=2368156.7567961817, error=17.756796181667596, weight=0.20415879017013233))\n"
     ]
    },
    {
     "name": "stderr",
     "output_type": "stream",
     "text": [
      "\r",
      "  6%|▋         | 25/399 [00:09<02:20,  2.65it/s]"
     ]
    },
    {
     "name": "stdout",
     "output_type": "stream",
     "text": [
      "Node(tag=48, identifier=48, data=GeoUnit(name=48, unnoised_pop=2368139, parent=None, identifier=48, level=0, noised_pop=2368156.7567961817, noise=17.756796181800283, noise_type=laplacian, adjusted_pop=2368156.7567961817, error=17.756796181667596, weight=0.22117202268431002))\n"
     ]
    },
    {
     "name": "stderr",
     "output_type": "stream",
     "text": [
      "\r",
      "  7%|▋         | 26/399 [00:09<02:21,  2.64it/s]"
     ]
    },
    {
     "name": "stdout",
     "output_type": "stream",
     "text": [
      "Node(tag=48, identifier=48, data=GeoUnit(name=48, unnoised_pop=2368139, parent=None, identifier=48, level=0, noised_pop=2368156.7567961817, noise=17.756796181800283, noise_type=laplacian, adjusted_pop=2368156.7567961817, error=17.756796181667596, weight=0.24007561436672967))\n"
     ]
    },
    {
     "name": "stderr",
     "output_type": "stream",
     "text": [
      "\r",
      "  7%|▋         | 27/399 [00:10<02:19,  2.67it/s]"
     ]
    },
    {
     "name": "stdout",
     "output_type": "stream",
     "text": [
      "Node(tag=48, identifier=48, data=GeoUnit(name=48, unnoised_pop=2368139, parent=None, identifier=48, level=0, noised_pop=2368156.7567961817, noise=17.756796181800283, noise_type=laplacian, adjusted_pop=2368156.7567961817, error=17.756796181667596, weight=0.28733459357277885))\n"
     ]
    },
    {
     "name": "stderr",
     "output_type": "stream",
     "text": [
      "\r",
      "  7%|▋         | 28/399 [00:10<02:18,  2.68it/s]"
     ]
    },
    {
     "name": "stdout",
     "output_type": "stream",
     "text": [
      "Node(tag=48, identifier=48, data=GeoUnit(name=48, unnoised_pop=2368139, parent=None, identifier=48, level=0, noised_pop=2368156.7567961817, noise=17.756796181800283, noise_type=laplacian, adjusted_pop=2368156.7567961817, error=17.756796181667596, weight=0.2835538752362949))\n"
     ]
    },
    {
     "name": "stderr",
     "output_type": "stream",
     "text": [
      "\r",
      "  7%|▋         | 29/399 [00:10<02:17,  2.69it/s]"
     ]
    },
    {
     "name": "stdout",
     "output_type": "stream",
     "text": [
      "Node(tag=48, identifier=48, data=GeoUnit(name=48, unnoised_pop=2368139, parent=None, identifier=48, level=0, noised_pop=2368156.7567961817, noise=17.756796181800283, noise_type=laplacian, adjusted_pop=2368156.7567961817, error=17.756796181667596, weight=0.24574669187145556))\n"
     ]
    },
    {
     "name": "stderr",
     "output_type": "stream",
     "text": [
      "\r",
      "  8%|▊         | 30/399 [00:11<02:15,  2.72it/s]"
     ]
    },
    {
     "name": "stdout",
     "output_type": "stream",
     "text": [
      "Node(tag=48, identifier=48, data=GeoUnit(name=48, unnoised_pop=2368139, parent=None, identifier=48, level=0, noised_pop=2368156.7567961817, noise=17.756796181800283, noise_type=laplacian, adjusted_pop=2368156.7567961817, error=17.756796181667596, weight=0.28544423440453687))\n"
     ]
    },
    {
     "name": "stderr",
     "output_type": "stream",
     "text": [
      "\r",
      "  8%|▊         | 31/399 [00:11<02:15,  2.72it/s]"
     ]
    },
    {
     "name": "stdout",
     "output_type": "stream",
     "text": [
      "Node(tag=48, identifier=48, data=GeoUnit(name=48, unnoised_pop=2368139, parent=None, identifier=48, level=0, noised_pop=2368156.7567961817, noise=17.756796181800283, noise_type=laplacian, adjusted_pop=2368156.7567961817, error=17.756796181667596, weight=0.19659735349716445))\n"
     ]
    },
    {
     "name": "stderr",
     "output_type": "stream",
     "text": [
      "\r",
      "  8%|▊         | 32/399 [00:12<02:14,  2.72it/s]"
     ]
    },
    {
     "name": "stdout",
     "output_type": "stream",
     "text": [
      "Node(tag=48, identifier=48, data=GeoUnit(name=48, unnoised_pop=2368139, parent=None, identifier=48, level=0, noised_pop=2368156.7567961817, noise=17.756796181800283, noise_type=laplacian, adjusted_pop=2368156.7567961817, error=17.756796181667596, weight=0.28166351606805295))\n"
     ]
    },
    {
     "name": "stderr",
     "output_type": "stream",
     "text": [
      "\r",
      "  8%|▊         | 33/399 [00:12<02:16,  2.68it/s]"
     ]
    },
    {
     "name": "stdout",
     "output_type": "stream",
     "text": [
      "Node(tag=48, identifier=48, data=GeoUnit(name=48, unnoised_pop=2368139, parent=None, identifier=48, level=0, noised_pop=2368156.7567961817, noise=17.756796181800283, noise_type=laplacian, adjusted_pop=2368156.7567961817, error=17.756796181667596, weight=0.2381852551984877))\n"
     ]
    },
    {
     "name": "stderr",
     "output_type": "stream",
     "text": [
      "\r",
      "  9%|▊         | 34/399 [00:12<02:15,  2.69it/s]"
     ]
    },
    {
     "name": "stdout",
     "output_type": "stream",
     "text": [
      "Node(tag=48, identifier=48, data=GeoUnit(name=48, unnoised_pop=2368139, parent=None, identifier=48, level=0, noised_pop=2368156.7567961817, noise=17.756796181800283, noise_type=laplacian, adjusted_pop=2368156.7567961817, error=17.756796181667596, weight=0.22873345935727787))\n"
     ]
    },
    {
     "name": "stderr",
     "output_type": "stream",
     "text": [
      "\r",
      "  9%|▉         | 35/399 [00:13<02:15,  2.70it/s]"
     ]
    },
    {
     "name": "stdout",
     "output_type": "stream",
     "text": [
      "Node(tag=48, identifier=48, data=GeoUnit(name=48, unnoised_pop=2368139, parent=None, identifier=48, level=0, noised_pop=2368156.7567961817, noise=17.756796181800283, noise_type=laplacian, adjusted_pop=2368156.7567961817, error=17.756796181667596, weight=0.2514177693761815))\n"
     ]
    },
    {
     "name": "stderr",
     "output_type": "stream",
     "text": [
      "\r",
      "  9%|▉         | 36/399 [00:13<02:13,  2.73it/s]"
     ]
    },
    {
     "name": "stdout",
     "output_type": "stream",
     "text": [
      "Node(tag=48, identifier=48, data=GeoUnit(name=48, unnoised_pop=2368139, parent=None, identifier=48, level=0, noised_pop=2368156.7567961817, noise=17.756796181800283, noise_type=laplacian, adjusted_pop=2368156.7567961817, error=17.756796181667596, weight=0.1947069943289225))\n"
     ]
    },
    {
     "name": "stderr",
     "output_type": "stream",
     "text": [
      "\r",
      "  9%|▉         | 37/399 [00:13<02:13,  2.71it/s]"
     ]
    },
    {
     "name": "stdout",
     "output_type": "stream",
     "text": [
      "Node(tag=48, identifier=48, data=GeoUnit(name=48, unnoised_pop=2368139, parent=None, identifier=48, level=0, noised_pop=2368156.7567961817, noise=17.756796181800283, noise_type=laplacian, adjusted_pop=2368156.7567961817, error=17.756796181667596, weight=0.23251417769376181))\n"
     ]
    },
    {
     "name": "stderr",
     "output_type": "stream",
     "text": [
      "\r",
      " 10%|▉         | 38/399 [00:14<02:13,  2.71it/s]"
     ]
    },
    {
     "name": "stdout",
     "output_type": "stream",
     "text": [
      "Node(tag=48, identifier=48, data=GeoUnit(name=48, unnoised_pop=2368139, parent=None, identifier=48, level=0, noised_pop=2368156.7567961817, noise=17.756796181800283, noise_type=laplacian, adjusted_pop=2368156.7567961817, error=17.756796181667596, weight=0.29300567107750475))\n"
     ]
    },
    {
     "name": "stderr",
     "output_type": "stream",
     "text": [
      "\r",
      " 10%|▉         | 39/399 [00:14<02:13,  2.70it/s]"
     ]
    },
    {
     "name": "stdout",
     "output_type": "stream",
     "text": [
      "Node(tag=48, identifier=48, data=GeoUnit(name=48, unnoised_pop=2368139, parent=None, identifier=48, level=0, noised_pop=2368156.7567961817, noise=17.756796181800283, noise_type=laplacian, adjusted_pop=2368156.7567961817, error=17.756796181667596, weight=0.28544423440453687))\n"
     ]
    },
    {
     "name": "stderr",
     "output_type": "stream",
     "text": [
      "\r",
      " 10%|█         | 40/399 [00:15<02:14,  2.67it/s]"
     ]
    },
    {
     "name": "stdout",
     "output_type": "stream",
     "text": [
      "Node(tag=48, identifier=48, data=GeoUnit(name=48, unnoised_pop=2368139, parent=None, identifier=48, level=0, noised_pop=2368156.7567961817, noise=17.756796181800283, noise_type=laplacian, adjusted_pop=2368156.7567961817, error=17.756796181667596, weight=0.22873345935727787))\n"
     ]
    },
    {
     "name": "stderr",
     "output_type": "stream",
     "text": [
      "\r",
      " 10%|█         | 41/399 [00:15<02:13,  2.67it/s]"
     ]
    },
    {
     "name": "stdout",
     "output_type": "stream",
     "text": [
      "Node(tag=48, identifier=48, data=GeoUnit(name=48, unnoised_pop=2368139, parent=None, identifier=48, level=0, noised_pop=2368156.7567961817, noise=17.756796181800283, noise_type=laplacian, adjusted_pop=2368156.7567961817, error=17.756796181667596, weight=0.23440453686200377))\n"
     ]
    },
    {
     "name": "stderr",
     "output_type": "stream",
     "text": [
      "\r",
      " 11%|█         | 42/399 [00:15<02:13,  2.68it/s]"
     ]
    },
    {
     "name": "stdout",
     "output_type": "stream",
     "text": [
      "Node(tag=48, identifier=48, data=GeoUnit(name=48, unnoised_pop=2368139, parent=None, identifier=48, level=0, noised_pop=2368156.7567961817, noise=17.756796181800283, noise_type=laplacian, adjusted_pop=2368156.7567961817, error=17.756796181667596, weight=0.24196597353497165))\n"
     ]
    },
    {
     "name": "stderr",
     "output_type": "stream",
     "text": [
      "\r",
      " 11%|█         | 43/399 [00:16<02:12,  2.69it/s]"
     ]
    },
    {
     "name": "stdout",
     "output_type": "stream",
     "text": [
      "Node(tag=48, identifier=48, data=GeoUnit(name=48, unnoised_pop=2368139, parent=None, identifier=48, level=0, noised_pop=2368156.7567961817, noise=17.756796181800283, noise_type=laplacian, adjusted_pop=2368156.7567961817, error=17.756796181667596, weight=0.277882797731569))\n"
     ]
    },
    {
     "name": "stderr",
     "output_type": "stream",
     "text": [
      "\r",
      " 11%|█         | 44/399 [00:16<02:12,  2.68it/s]"
     ]
    },
    {
     "name": "stdout",
     "output_type": "stream",
     "text": [
      "Node(tag=48, identifier=48, data=GeoUnit(name=48, unnoised_pop=2368139, parent=None, identifier=48, level=0, noised_pop=2368156.7567961817, noise=17.756796181800283, noise_type=laplacian, adjusted_pop=2368156.7567961817, error=17.756796181667596, weight=0.1947069943289225))\n"
     ]
    },
    {
     "name": "stderr",
     "output_type": "stream",
     "text": [
      "\r",
      " 11%|█▏        | 45/399 [00:16<02:13,  2.66it/s]"
     ]
    },
    {
     "name": "stdout",
     "output_type": "stream",
     "text": [
      "Node(tag=48, identifier=48, data=GeoUnit(name=48, unnoised_pop=2368139, parent=None, identifier=48, level=0, noised_pop=2368156.7567961817, noise=17.756796181800283, noise_type=laplacian, adjusted_pop=2368156.7567961817, error=17.756796181667596, weight=0.21928166351606806))\n"
     ]
    },
    {
     "name": "stderr",
     "output_type": "stream",
     "text": [
      "\r",
      " 12%|█▏        | 46/399 [00:17<02:13,  2.64it/s]"
     ]
    },
    {
     "name": "stdout",
     "output_type": "stream",
     "text": [
      "Node(tag=48, identifier=48, data=GeoUnit(name=48, unnoised_pop=2368139, parent=None, identifier=48, level=0, noised_pop=2368156.7567961817, noise=17.756796181800283, noise_type=laplacian, adjusted_pop=2368156.7567961817, error=17.756796181667596, weight=0.21361058601134217))\n"
     ]
    },
    {
     "name": "stderr",
     "output_type": "stream",
     "text": [
      "\r",
      " 12%|█▏        | 47/399 [00:17<02:14,  2.62it/s]"
     ]
    },
    {
     "name": "stdout",
     "output_type": "stream",
     "text": [
      "Node(tag=48, identifier=48, data=GeoUnit(name=48, unnoised_pop=2368139, parent=None, identifier=48, level=0, noised_pop=2368156.7567961817, noise=17.756796181800283, noise_type=laplacian, adjusted_pop=2368156.7567961817, error=17.756796181667596, weight=0.24574669187145556))\n"
     ]
    },
    {
     "name": "stderr",
     "output_type": "stream",
     "text": [
      "\r",
      " 12%|█▏        | 48/399 [00:18<02:13,  2.63it/s]"
     ]
    },
    {
     "name": "stdout",
     "output_type": "stream",
     "text": [
      "Node(tag=48, identifier=48, data=GeoUnit(name=48, unnoised_pop=2368139, parent=None, identifier=48, level=0, noised_pop=2368156.7567961817, noise=17.756796181800283, noise_type=laplacian, adjusted_pop=2368156.7567961817, error=17.756796181667596, weight=0.21739130434782608))\n"
     ]
    },
    {
     "name": "stderr",
     "output_type": "stream",
     "text": [
      "\r",
      " 12%|█▏        | 49/399 [00:18<02:13,  2.63it/s]"
     ]
    },
    {
     "name": "stdout",
     "output_type": "stream",
     "text": [
      "Node(tag=48, identifier=48, data=GeoUnit(name=48, unnoised_pop=2368139, parent=None, identifier=48, level=0, noised_pop=2368156.7567961817, noise=17.756796181800283, noise_type=laplacian, adjusted_pop=2368156.7567961817, error=17.756796181667596, weight=0.27599243856332706))\n"
     ]
    },
    {
     "name": "stderr",
     "output_type": "stream",
     "text": [
      "\r",
      " 13%|█▎        | 50/399 [00:18<02:12,  2.63it/s]"
     ]
    },
    {
     "name": "stdout",
     "output_type": "stream",
     "text": [
      "Node(tag=48, identifier=48, data=GeoUnit(name=48, unnoised_pop=2368139, parent=None, identifier=48, level=0, noised_pop=2368156.7567961817, noise=17.756796181800283, noise_type=laplacian, adjusted_pop=2368156.7567961817, error=17.756796181667596, weight=0.23440453686200377))\n"
     ]
    },
    {
     "name": "stderr",
     "output_type": "stream",
     "text": [
      "\r",
      " 13%|█▎        | 51/399 [00:19<02:10,  2.67it/s]"
     ]
    },
    {
     "name": "stdout",
     "output_type": "stream",
     "text": [
      "Node(tag=48, identifier=48, data=GeoUnit(name=48, unnoised_pop=2368139, parent=None, identifier=48, level=0, noised_pop=2368156.7567961817, noise=17.756796181800283, noise_type=laplacian, adjusted_pop=2368156.7567961817, error=17.756796181667596, weight=0.21739130434782608))\n"
     ]
    },
    {
     "name": "stderr",
     "output_type": "stream",
     "text": [
      "\r",
      " 13%|█▎        | 52/399 [00:19<02:10,  2.65it/s]"
     ]
    },
    {
     "name": "stdout",
     "output_type": "stream",
     "text": [
      "Node(tag=48, identifier=48, data=GeoUnit(name=48, unnoised_pop=2368139, parent=None, identifier=48, level=0, noised_pop=2368156.7567961817, noise=17.756796181800283, noise_type=laplacian, adjusted_pop=2368156.7567961817, error=17.756796181667596, weight=0.23062381852551986))\n"
     ]
    },
    {
     "name": "stderr",
     "output_type": "stream",
     "text": [
      "\r",
      " 13%|█▎        | 53/399 [00:19<02:09,  2.68it/s]"
     ]
    },
    {
     "name": "stdout",
     "output_type": "stream",
     "text": [
      "Node(tag=48, identifier=48, data=GeoUnit(name=48, unnoised_pop=2368139, parent=None, identifier=48, level=0, noised_pop=2368156.7567961817, noise=17.756796181800283, noise_type=laplacian, adjusted_pop=2368156.7567961817, error=17.756796181667596, weight=0.2835538752362949))\n"
     ]
    },
    {
     "name": "stderr",
     "output_type": "stream",
     "text": [
      "\r",
      " 14%|█▎        | 54/399 [00:20<02:08,  2.69it/s]"
     ]
    },
    {
     "name": "stdout",
     "output_type": "stream",
     "text": [
      "Node(tag=48, identifier=48, data=GeoUnit(name=48, unnoised_pop=2368139, parent=None, identifier=48, level=0, noised_pop=2368156.7567961817, noise=17.756796181800283, noise_type=laplacian, adjusted_pop=2368156.7567961817, error=17.756796181667596, weight=0.22117202268431002))\n"
     ]
    },
    {
     "name": "stderr",
     "output_type": "stream",
     "text": [
      "\r",
      " 14%|█▍        | 55/399 [00:20<02:07,  2.70it/s]"
     ]
    },
    {
     "name": "stdout",
     "output_type": "stream",
     "text": [
      "Node(tag=48, identifier=48, data=GeoUnit(name=48, unnoised_pop=2368139, parent=None, identifier=48, level=0, noised_pop=2368156.7567961817, noise=17.756796181800283, noise_type=laplacian, adjusted_pop=2368156.7567961817, error=17.756796181667596, weight=0.28166351606805295))\n"
     ]
    },
    {
     "name": "stderr",
     "output_type": "stream",
     "text": [
      "\r",
      " 14%|█▍        | 56/399 [00:21<02:06,  2.72it/s]"
     ]
    },
    {
     "name": "stdout",
     "output_type": "stream",
     "text": [
      "Node(tag=48, identifier=48, data=GeoUnit(name=48, unnoised_pop=2368139, parent=None, identifier=48, level=0, noised_pop=2368156.7567961817, noise=17.756796181800283, noise_type=laplacian, adjusted_pop=2368156.7567961817, error=17.756796181667596, weight=0.20982986767485823))\n"
     ]
    },
    {
     "name": "stderr",
     "output_type": "stream",
     "text": [
      "\r",
      " 14%|█▍        | 57/399 [00:21<02:04,  2.75it/s]"
     ]
    },
    {
     "name": "stdout",
     "output_type": "stream",
     "text": [
      "Node(tag=48, identifier=48, data=GeoUnit(name=48, unnoised_pop=2368139, parent=None, identifier=48, level=0, noised_pop=2368156.7567961817, noise=17.756796181800283, noise_type=laplacian, adjusted_pop=2368156.7567961817, error=17.756796181667596, weight=0.27599243856332706))\n"
     ]
    },
    {
     "name": "stderr",
     "output_type": "stream",
     "text": [
      "\r",
      " 15%|█▍        | 58/399 [00:21<02:04,  2.73it/s]"
     ]
    },
    {
     "name": "stdout",
     "output_type": "stream",
     "text": [
      "Node(tag=48, identifier=48, data=GeoUnit(name=48, unnoised_pop=2368139, parent=None, identifier=48, level=0, noised_pop=2368156.7567961817, noise=17.756796181800283, noise_type=laplacian, adjusted_pop=2368156.7567961817, error=17.756796181667596, weight=0.2835538752362949))\n"
     ]
    },
    {
     "name": "stderr",
     "output_type": "stream",
     "text": [
      "\r",
      " 15%|█▍        | 59/399 [00:22<02:04,  2.73it/s]"
     ]
    },
    {
     "name": "stdout",
     "output_type": "stream",
     "text": [
      "Node(tag=48, identifier=48, data=GeoUnit(name=48, unnoised_pop=2368139, parent=None, identifier=48, level=0, noised_pop=2368156.7567961817, noise=17.756796181800283, noise_type=laplacian, adjusted_pop=2368156.7567961817, error=17.756796181667596, weight=0.29111531190926276))\n"
     ]
    },
    {
     "name": "stderr",
     "output_type": "stream",
     "text": [
      "\r",
      " 15%|█▌        | 60/399 [00:22<02:04,  2.72it/s]"
     ]
    },
    {
     "name": "stdout",
     "output_type": "stream",
     "text": [
      "Node(tag=48, identifier=48, data=GeoUnit(name=48, unnoised_pop=2368139, parent=None, identifier=48, level=0, noised_pop=2368156.7567961817, noise=17.756796181800283, noise_type=laplacian, adjusted_pop=2368156.7567961817, error=17.756796181667596, weight=0.31190926275992437))\n"
     ]
    },
    {
     "name": "stderr",
     "output_type": "stream",
     "text": [
      "\r",
      " 15%|█▌        | 61/399 [00:22<02:03,  2.73it/s]"
     ]
    },
    {
     "name": "stdout",
     "output_type": "stream",
     "text": [
      "Node(tag=48, identifier=48, data=GeoUnit(name=48, unnoised_pop=2368139, parent=None, identifier=48, level=0, noised_pop=2368156.7567961817, noise=17.756796181800283, noise_type=laplacian, adjusted_pop=2368156.7567961817, error=17.756796181667596, weight=0.21739130434782608))\n"
     ]
    },
    {
     "name": "stderr",
     "output_type": "stream",
     "text": [
      "\r",
      " 16%|█▌        | 62/399 [00:23<02:02,  2.76it/s]"
     ]
    },
    {
     "name": "stdout",
     "output_type": "stream",
     "text": [
      "Node(tag=48, identifier=48, data=GeoUnit(name=48, unnoised_pop=2368139, parent=None, identifier=48, level=0, noised_pop=2368156.7567961817, noise=17.756796181800283, noise_type=laplacian, adjusted_pop=2368156.7567961817, error=17.756796181667596, weight=0.27032136105860116))\n"
     ]
    },
    {
     "name": "stderr",
     "output_type": "stream",
     "text": [
      "\r",
      " 16%|█▌        | 63/399 [00:23<02:00,  2.78it/s]"
     ]
    },
    {
     "name": "stdout",
     "output_type": "stream",
     "text": [
      "Node(tag=48, identifier=48, data=GeoUnit(name=48, unnoised_pop=2368139, parent=None, identifier=48, level=0, noised_pop=2368156.7567961817, noise=17.756796181800283, noise_type=laplacian, adjusted_pop=2368156.7567961817, error=17.756796181667596, weight=0.23440453686200377))\n"
     ]
    },
    {
     "name": "stderr",
     "output_type": "stream",
     "text": [
      "\r",
      " 16%|█▌        | 64/399 [00:23<01:59,  2.80it/s]"
     ]
    },
    {
     "name": "stdout",
     "output_type": "stream",
     "text": [
      "Node(tag=48, identifier=48, data=GeoUnit(name=48, unnoised_pop=2368139, parent=None, identifier=48, level=0, noised_pop=2368156.7567961817, noise=17.756796181800283, noise_type=laplacian, adjusted_pop=2368156.7567961817, error=17.756796181667596, weight=0.20226843100189035))\n"
     ]
    },
    {
     "name": "stderr",
     "output_type": "stream",
     "text": [
      "\r",
      " 16%|█▋        | 65/399 [00:24<01:58,  2.81it/s]"
     ]
    },
    {
     "name": "stdout",
     "output_type": "stream",
     "text": [
      "Node(tag=48, identifier=48, data=GeoUnit(name=48, unnoised_pop=2368139, parent=None, identifier=48, level=0, noised_pop=2368156.7567961817, noise=17.756796181800283, noise_type=laplacian, adjusted_pop=2368156.7567961817, error=17.756796181667596, weight=0.23440453686200377))\n"
     ]
    },
    {
     "name": "stderr",
     "output_type": "stream",
     "text": [
      "\r",
      " 17%|█▋        | 66/399 [00:24<01:57,  2.83it/s]"
     ]
    },
    {
     "name": "stdout",
     "output_type": "stream",
     "text": [
      "Node(tag=48, identifier=48, data=GeoUnit(name=48, unnoised_pop=2368139, parent=None, identifier=48, level=0, noised_pop=2368156.7567961817, noise=17.756796181800283, noise_type=laplacian, adjusted_pop=2368156.7567961817, error=17.756796181667596, weight=0.2684310018903592))\n"
     ]
    },
    {
     "name": "stderr",
     "output_type": "stream",
     "text": [
      "\r",
      " 17%|█▋        | 67/399 [00:24<01:57,  2.83it/s]"
     ]
    },
    {
     "name": "stdout",
     "output_type": "stream",
     "text": [
      "Node(tag=48, identifier=48, data=GeoUnit(name=48, unnoised_pop=2368139, parent=None, identifier=48, level=0, noised_pop=2368156.7567961817, noise=17.756796181800283, noise_type=laplacian, adjusted_pop=2368156.7567961817, error=17.756796181667596, weight=0.22873345935727787))\n"
     ]
    },
    {
     "name": "stderr",
     "output_type": "stream",
     "text": [
      "\r",
      " 17%|█▋        | 68/399 [00:25<01:56,  2.85it/s]"
     ]
    },
    {
     "name": "stdout",
     "output_type": "stream",
     "text": [
      "Node(tag=48, identifier=48, data=GeoUnit(name=48, unnoised_pop=2368139, parent=None, identifier=48, level=0, noised_pop=2368156.7567961817, noise=17.756796181800283, noise_type=laplacian, adjusted_pop=2368156.7567961817, error=17.756796181667596, weight=0.2948960302457467))\n"
     ]
    },
    {
     "name": "stderr",
     "output_type": "stream",
     "text": [
      "\r",
      " 17%|█▋        | 69/399 [00:25<01:55,  2.86it/s]"
     ]
    },
    {
     "name": "stdout",
     "output_type": "stream",
     "text": [
      "Node(tag=48, identifier=48, data=GeoUnit(name=48, unnoised_pop=2368139, parent=None, identifier=48, level=0, noised_pop=2368156.7567961817, noise=17.756796181800283, noise_type=laplacian, adjusted_pop=2368156.7567961817, error=17.756796181667596, weight=0.2381852551984877))\n"
     ]
    },
    {
     "name": "stderr",
     "output_type": "stream",
     "text": [
      "\r",
      " 18%|█▊        | 70/399 [00:25<01:55,  2.86it/s]"
     ]
    },
    {
     "name": "stdout",
     "output_type": "stream",
     "text": [
      "Node(tag=48, identifier=48, data=GeoUnit(name=48, unnoised_pop=2368139, parent=None, identifier=48, level=0, noised_pop=2368156.7567961817, noise=17.756796181800283, noise_type=laplacian, adjusted_pop=2368156.7567961817, error=17.756796181667596, weight=0.21361058601134217))\n"
     ]
    },
    {
     "name": "stderr",
     "output_type": "stream",
     "text": [
      "\r",
      " 18%|█▊        | 71/399 [00:26<01:55,  2.85it/s]"
     ]
    },
    {
     "name": "stdout",
     "output_type": "stream",
     "text": [
      "Node(tag=48, identifier=48, data=GeoUnit(name=48, unnoised_pop=2368139, parent=None, identifier=48, level=0, noised_pop=2368156.7567961817, noise=17.756796181800283, noise_type=laplacian, adjusted_pop=2368156.7567961817, error=17.756796181667596, weight=0.22117202268431002))\n"
     ]
    },
    {
     "name": "stderr",
     "output_type": "stream",
     "text": [
      "\r",
      " 18%|█▊        | 72/399 [00:26<01:56,  2.81it/s]"
     ]
    },
    {
     "name": "stdout",
     "output_type": "stream",
     "text": [
      "Node(tag=48, identifier=48, data=GeoUnit(name=48, unnoised_pop=2368139, parent=None, identifier=48, level=0, noised_pop=2368156.7567961817, noise=17.756796181800283, noise_type=laplacian, adjusted_pop=2368156.7567961817, error=17.756796181667596, weight=0.30812854442344045))\n"
     ]
    },
    {
     "name": "stderr",
     "output_type": "stream",
     "text": [
      "\r",
      " 18%|█▊        | 73/399 [00:27<01:56,  2.80it/s]"
     ]
    },
    {
     "name": "stdout",
     "output_type": "stream",
     "text": [
      "Node(tag=48, identifier=48, data=GeoUnit(name=48, unnoised_pop=2368139, parent=None, identifier=48, level=0, noised_pop=2368156.7567961817, noise=17.756796181800283, noise_type=laplacian, adjusted_pop=2368156.7567961817, error=17.756796181667596, weight=0.2533081285444234))\n"
     ]
    },
    {
     "name": "stderr",
     "output_type": "stream",
     "text": [
      "\r",
      " 19%|█▊        | 74/399 [00:27<01:56,  2.78it/s]"
     ]
    },
    {
     "name": "stdout",
     "output_type": "stream",
     "text": [
      "Node(tag=48, identifier=48, data=GeoUnit(name=48, unnoised_pop=2368139, parent=None, identifier=48, level=0, noised_pop=2368156.7567961817, noise=17.756796181800283, noise_type=laplacian, adjusted_pop=2368156.7567961817, error=17.756796181667596, weight=0.24196597353497165))\n"
     ]
    },
    {
     "name": "stderr",
     "output_type": "stream",
     "text": [
      "\r",
      " 19%|█▉        | 75/399 [00:27<01:56,  2.78it/s]"
     ]
    },
    {
     "name": "stdout",
     "output_type": "stream",
     "text": [
      "Node(tag=48, identifier=48, data=GeoUnit(name=48, unnoised_pop=2368139, parent=None, identifier=48, level=0, noised_pop=2368156.7567961817, noise=17.756796181800283, noise_type=laplacian, adjusted_pop=2368156.7567961817, error=17.756796181667596, weight=0.28166351606805295))\n"
     ]
    },
    {
     "name": "stderr",
     "output_type": "stream",
     "text": [
      "\r",
      " 19%|█▉        | 76/399 [00:28<01:56,  2.78it/s]"
     ]
    },
    {
     "name": "stdout",
     "output_type": "stream",
     "text": [
      "Node(tag=48, identifier=48, data=GeoUnit(name=48, unnoised_pop=2368139, parent=None, identifier=48, level=0, noised_pop=2368156.7567961817, noise=17.756796181800283, noise_type=laplacian, adjusted_pop=2368156.7567961817, error=17.756796181667596, weight=0.277882797731569))\n"
     ]
    },
    {
     "name": "stderr",
     "output_type": "stream",
     "text": [
      "\r",
      " 19%|█▉        | 77/399 [00:28<01:56,  2.77it/s]"
     ]
    },
    {
     "name": "stdout",
     "output_type": "stream",
     "text": [
      "Node(tag=48, identifier=48, data=GeoUnit(name=48, unnoised_pop=2368139, parent=None, identifier=48, level=0, noised_pop=2368156.7567961817, noise=17.756796181800283, noise_type=laplacian, adjusted_pop=2368156.7567961817, error=17.756796181667596, weight=0.28733459357277885))\n"
     ]
    },
    {
     "name": "stderr",
     "output_type": "stream",
     "text": [
      "\r",
      " 20%|█▉        | 78/399 [00:28<01:56,  2.76it/s]"
     ]
    },
    {
     "name": "stdout",
     "output_type": "stream",
     "text": [
      "Node(tag=48, identifier=48, data=GeoUnit(name=48, unnoised_pop=2368139, parent=None, identifier=48, level=0, noised_pop=2368156.7567961817, noise=17.756796181800283, noise_type=laplacian, adjusted_pop=2368156.7567961817, error=17.756796181667596, weight=0.29678638941398866))\n"
     ]
    },
    {
     "name": "stderr",
     "output_type": "stream",
     "text": [
      "\r",
      " 20%|█▉        | 79/399 [00:29<01:56,  2.76it/s]"
     ]
    },
    {
     "name": "stdout",
     "output_type": "stream",
     "text": [
      "Node(tag=48, identifier=48, data=GeoUnit(name=48, unnoised_pop=2368139, parent=None, identifier=48, level=0, noised_pop=2368156.7567961817, noise=17.756796181800283, noise_type=laplacian, adjusted_pop=2368156.7567961817, error=17.756796181667596, weight=0.22684310018903592))\n"
     ]
    },
    {
     "name": "stderr",
     "output_type": "stream",
     "text": [
      "\r",
      " 20%|██        | 80/399 [00:29<01:55,  2.77it/s]"
     ]
    },
    {
     "name": "stdout",
     "output_type": "stream",
     "text": [
      "Node(tag=48, identifier=48, data=GeoUnit(name=48, unnoised_pop=2368139, parent=None, identifier=48, level=0, noised_pop=2368156.7567961817, noise=17.756796181800283, noise_type=laplacian, adjusted_pop=2368156.7567961817, error=17.756796181667596, weight=0.31568998109640833))\n"
     ]
    },
    {
     "name": "stderr",
     "output_type": "stream",
     "text": [
      "\r",
      " 20%|██        | 81/399 [00:29<01:55,  2.75it/s]"
     ]
    },
    {
     "name": "stdout",
     "output_type": "stream",
     "text": [
      "Node(tag=48, identifier=48, data=GeoUnit(name=48, unnoised_pop=2368139, parent=None, identifier=48, level=0, noised_pop=2368156.7567961817, noise=17.756796181800283, noise_type=laplacian, adjusted_pop=2368156.7567961817, error=17.756796181667596, weight=0.2892249527410208))\n"
     ]
    },
    {
     "name": "stderr",
     "output_type": "stream",
     "text": [
      "\r",
      " 21%|██        | 82/399 [00:30<01:56,  2.72it/s]"
     ]
    },
    {
     "name": "stdout",
     "output_type": "stream",
     "text": [
      "Node(tag=48, identifier=48, data=GeoUnit(name=48, unnoised_pop=2368139, parent=None, identifier=48, level=0, noised_pop=2368156.7567961817, noise=17.756796181800283, noise_type=laplacian, adjusted_pop=2368156.7567961817, error=17.756796181667596, weight=0.29300567107750475))\n"
     ]
    },
    {
     "name": "stderr",
     "output_type": "stream",
     "text": [
      "\r",
      " 21%|██        | 83/399 [00:30<01:54,  2.76it/s]"
     ]
    },
    {
     "name": "stdout",
     "output_type": "stream",
     "text": [
      "Node(tag=48, identifier=48, data=GeoUnit(name=48, unnoised_pop=2368139, parent=None, identifier=48, level=0, noised_pop=2368156.7567961817, noise=17.756796181800283, noise_type=laplacian, adjusted_pop=2368156.7567961817, error=17.756796181667596, weight=0.29111531190926276))\n"
     ]
    },
    {
     "name": "stderr",
     "output_type": "stream",
     "text": [
      "\r",
      " 21%|██        | 84/399 [00:31<01:53,  2.77it/s]"
     ]
    },
    {
     "name": "stdout",
     "output_type": "stream",
     "text": [
      "Node(tag=48, identifier=48, data=GeoUnit(name=48, unnoised_pop=2368139, parent=None, identifier=48, level=0, noised_pop=2368156.7567961817, noise=17.756796181800283, noise_type=laplacian, adjusted_pop=2368156.7567961817, error=17.756796181667596, weight=0.21928166351606806))\n"
     ]
    },
    {
     "name": "stderr",
     "output_type": "stream",
     "text": [
      "\r",
      " 21%|██▏       | 85/399 [00:31<01:52,  2.78it/s]"
     ]
    },
    {
     "name": "stdout",
     "output_type": "stream",
     "text": [
      "Node(tag=48, identifier=48, data=GeoUnit(name=48, unnoised_pop=2368139, parent=None, identifier=48, level=0, noised_pop=2368156.7567961817, noise=17.756796181800283, noise_type=laplacian, adjusted_pop=2368156.7567961817, error=17.756796181667596, weight=0.2835538752362949))\n"
     ]
    },
    {
     "name": "stderr",
     "output_type": "stream",
     "text": [
      "\r",
      " 22%|██▏       | 86/399 [00:31<01:51,  2.80it/s]"
     ]
    },
    {
     "name": "stdout",
     "output_type": "stream",
     "text": [
      "Node(tag=48, identifier=48, data=GeoUnit(name=48, unnoised_pop=2368139, parent=None, identifier=48, level=0, noised_pop=2368156.7567961817, noise=17.756796181800283, noise_type=laplacian, adjusted_pop=2368156.7567961817, error=17.756796181667596, weight=0.29111531190926276))\n"
     ]
    },
    {
     "name": "stderr",
     "output_type": "stream",
     "text": [
      "\r",
      " 22%|██▏       | 87/399 [00:32<01:51,  2.79it/s]"
     ]
    },
    {
     "name": "stdout",
     "output_type": "stream",
     "text": [
      "Node(tag=48, identifier=48, data=GeoUnit(name=48, unnoised_pop=2368139, parent=None, identifier=48, level=0, noised_pop=2368156.7567961817, noise=17.756796181800283, noise_type=laplacian, adjusted_pop=2368156.7567961817, error=17.756796181667596, weight=0.24574669187145556))\n"
     ]
    },
    {
     "name": "stderr",
     "output_type": "stream",
     "text": [
      "\r",
      " 22%|██▏       | 88/399 [00:32<01:51,  2.79it/s]"
     ]
    },
    {
     "name": "stdout",
     "output_type": "stream",
     "text": [
      "Node(tag=48, identifier=48, data=GeoUnit(name=48, unnoised_pop=2368139, parent=None, identifier=48, level=0, noised_pop=2368156.7567961817, noise=17.756796181800283, noise_type=laplacian, adjusted_pop=2368156.7567961817, error=17.756796181667596, weight=0.28166351606805295))\n"
     ]
    },
    {
     "name": "stderr",
     "output_type": "stream",
     "text": [
      "\r",
      " 22%|██▏       | 89/399 [00:32<01:50,  2.82it/s]"
     ]
    },
    {
     "name": "stdout",
     "output_type": "stream",
     "text": [
      "Node(tag=48, identifier=48, data=GeoUnit(name=48, unnoised_pop=2368139, parent=None, identifier=48, level=0, noised_pop=2368156.7567961817, noise=17.756796181800283, noise_type=laplacian, adjusted_pop=2368156.7567961817, error=17.756796181667596, weight=0.23062381852551986))\n"
     ]
    },
    {
     "name": "stderr",
     "output_type": "stream",
     "text": [
      "\r",
      " 23%|██▎       | 90/399 [00:33<01:50,  2.81it/s]"
     ]
    },
    {
     "name": "stdout",
     "output_type": "stream",
     "text": [
      "Node(tag=48, identifier=48, data=GeoUnit(name=48, unnoised_pop=2368139, parent=None, identifier=48, level=0, noised_pop=2368156.7567961817, noise=17.756796181800283, noise_type=laplacian, adjusted_pop=2368156.7567961817, error=17.756796181667596, weight=0.22873345935727787))\n"
     ]
    },
    {
     "name": "stderr",
     "output_type": "stream",
     "text": [
      "\r",
      " 23%|██▎       | 91/399 [00:33<01:49,  2.81it/s]"
     ]
    },
    {
     "name": "stdout",
     "output_type": "stream",
     "text": [
      "Node(tag=48, identifier=48, data=GeoUnit(name=48, unnoised_pop=2368139, parent=None, identifier=48, level=0, noised_pop=2368156.7567961817, noise=17.756796181800283, noise_type=laplacian, adjusted_pop=2368156.7567961817, error=17.756796181667596, weight=0.30623818525519847))\n"
     ]
    },
    {
     "name": "stderr",
     "output_type": "stream",
     "text": [
      "\r",
      " 23%|██▎       | 92/399 [00:33<01:49,  2.81it/s]"
     ]
    },
    {
     "name": "stdout",
     "output_type": "stream",
     "text": [
      "Node(tag=48, identifier=48, data=GeoUnit(name=48, unnoised_pop=2368139, parent=None, identifier=48, level=0, noised_pop=2368156.7567961817, noise=17.756796181800283, noise_type=laplacian, adjusted_pop=2368156.7567961817, error=17.756796181667596, weight=0.2892249527410208))\n"
     ]
    },
    {
     "name": "stderr",
     "output_type": "stream",
     "text": [
      "\r",
      " 23%|██▎       | 93/399 [00:34<01:48,  2.82it/s]"
     ]
    },
    {
     "name": "stdout",
     "output_type": "stream",
     "text": [
      "Node(tag=48, identifier=48, data=GeoUnit(name=48, unnoised_pop=2368139, parent=None, identifier=48, level=0, noised_pop=2368156.7567961817, noise=17.756796181800283, noise_type=laplacian, adjusted_pop=2368156.7567961817, error=17.756796181667596, weight=0.29300567107750475))\n"
     ]
    },
    {
     "name": "stderr",
     "output_type": "stream",
     "text": [
      "\r",
      " 24%|██▎       | 94/399 [00:34<01:49,  2.80it/s]"
     ]
    },
    {
     "name": "stdout",
     "output_type": "stream",
     "text": [
      "Node(tag=48, identifier=48, data=GeoUnit(name=48, unnoised_pop=2368139, parent=None, identifier=48, level=0, noised_pop=2368156.7567961817, noise=17.756796181800283, noise_type=laplacian, adjusted_pop=2368156.7567961817, error=17.756796181667596, weight=0.2438563327032136))\n"
     ]
    },
    {
     "name": "stderr",
     "output_type": "stream",
     "text": [
      "\r",
      " 24%|██▍       | 95/399 [00:34<01:49,  2.79it/s]"
     ]
    },
    {
     "name": "stdout",
     "output_type": "stream",
     "text": [
      "Node(tag=48, identifier=48, data=GeoUnit(name=48, unnoised_pop=2368139, parent=None, identifier=48, level=0, noised_pop=2368156.7567961817, noise=17.756796181800283, noise_type=laplacian, adjusted_pop=2368156.7567961817, error=17.756796181667596, weight=0.22873345935727787))\n"
     ]
    },
    {
     "name": "stderr",
     "output_type": "stream",
     "text": [
      "\r",
      " 24%|██▍       | 96/399 [00:35<01:51,  2.71it/s]"
     ]
    },
    {
     "name": "stdout",
     "output_type": "stream",
     "text": [
      "Node(tag=48, identifier=48, data=GeoUnit(name=48, unnoised_pop=2368139, parent=None, identifier=48, level=0, noised_pop=2368156.7567961817, noise=17.756796181800283, noise_type=laplacian, adjusted_pop=2368156.7567961817, error=17.756796181667596, weight=0.2627599243856333))\n"
     ]
    },
    {
     "name": "stderr",
     "output_type": "stream",
     "text": [
      "\r",
      " 24%|██▍       | 97/399 [00:35<01:52,  2.67it/s]"
     ]
    },
    {
     "name": "stdout",
     "output_type": "stream",
     "text": [
      "Node(tag=48, identifier=48, data=GeoUnit(name=48, unnoised_pop=2368139, parent=None, identifier=48, level=0, noised_pop=2368156.7567961817, noise=17.756796181800283, noise_type=laplacian, adjusted_pop=2368156.7567961817, error=17.756796181667596, weight=0.2495274102079395))\n"
     ]
    },
    {
     "name": "stderr",
     "output_type": "stream",
     "text": [
      "\r",
      " 25%|██▍       | 98/399 [00:36<01:52,  2.67it/s]"
     ]
    },
    {
     "name": "stdout",
     "output_type": "stream",
     "text": [
      "Node(tag=48, identifier=48, data=GeoUnit(name=48, unnoised_pop=2368139, parent=None, identifier=48, level=0, noised_pop=2368156.7567961817, noise=17.756796181800283, noise_type=laplacian, adjusted_pop=2368156.7567961817, error=17.756796181667596, weight=0.27977315689981097))\n"
     ]
    },
    {
     "name": "stderr",
     "output_type": "stream",
     "text": [
      "\r",
      " 25%|██▍       | 99/399 [00:36<01:51,  2.69it/s]"
     ]
    },
    {
     "name": "stdout",
     "output_type": "stream",
     "text": [
      "Node(tag=48, identifier=48, data=GeoUnit(name=48, unnoised_pop=2368139, parent=None, identifier=48, level=0, noised_pop=2368156.7567961817, noise=17.756796181800283, noise_type=laplacian, adjusted_pop=2368156.7567961817, error=17.756796181667596, weight=0.24574669187145556))\n"
     ]
    },
    {
     "name": "stderr",
     "output_type": "stream",
     "text": [
      "\r",
      " 25%|██▌       | 100/399 [00:36<01:50,  2.70it/s]"
     ]
    },
    {
     "name": "stdout",
     "output_type": "stream",
     "text": [
      "Node(tag=48, identifier=48, data=GeoUnit(name=48, unnoised_pop=2368139, parent=None, identifier=48, level=0, noised_pop=2368156.7567961817, noise=17.756796181800283, noise_type=laplacian, adjusted_pop=2368156.7567961817, error=17.756796181667596, weight=0.29111531190926276))\n"
     ]
    },
    {
     "name": "stderr",
     "output_type": "stream",
     "text": [
      "\r",
      " 25%|██▌       | 101/399 [00:37<01:50,  2.70it/s]"
     ]
    },
    {
     "name": "stdout",
     "output_type": "stream",
     "text": [
      "Node(tag=48, identifier=48, data=GeoUnit(name=48, unnoised_pop=2368139, parent=None, identifier=48, level=0, noised_pop=2368156.7567961817, noise=17.756796181800283, noise_type=laplacian, adjusted_pop=2368156.7567961817, error=17.756796181667596, weight=0.2835538752362949))\n"
     ]
    },
    {
     "name": "stderr",
     "output_type": "stream",
     "text": [
      "\r",
      " 26%|██▌       | 102/399 [00:37<01:48,  2.73it/s]"
     ]
    },
    {
     "name": "stdout",
     "output_type": "stream",
     "text": [
      "Node(tag=48, identifier=48, data=GeoUnit(name=48, unnoised_pop=2368139, parent=None, identifier=48, level=0, noised_pop=2368156.7567961817, noise=17.756796181800283, noise_type=laplacian, adjusted_pop=2368156.7567961817, error=17.756796181667596, weight=0.23629489603024575))\n"
     ]
    },
    {
     "name": "stderr",
     "output_type": "stream",
     "text": [
      "\r",
      " 26%|██▌       | 103/399 [00:37<01:48,  2.72it/s]"
     ]
    },
    {
     "name": "stdout",
     "output_type": "stream",
     "text": [
      "Node(tag=48, identifier=48, data=GeoUnit(name=48, unnoised_pop=2368139, parent=None, identifier=48, level=0, noised_pop=2368156.7567961817, noise=17.756796181800283, noise_type=laplacian, adjusted_pop=2368156.7567961817, error=17.756796181667596, weight=0.2570888468809074))\n"
     ]
    },
    {
     "name": "stderr",
     "output_type": "stream",
     "text": [
      "\r",
      " 26%|██▌       | 104/399 [00:38<01:48,  2.71it/s]"
     ]
    },
    {
     "name": "stdout",
     "output_type": "stream",
     "text": [
      "Node(tag=48, identifier=48, data=GeoUnit(name=48, unnoised_pop=2368139, parent=None, identifier=48, level=0, noised_pop=2368156.7567961817, noise=17.756796181800283, noise_type=laplacian, adjusted_pop=2368156.7567961817, error=17.756796181667596, weight=0.2892249527410208))\n"
     ]
    },
    {
     "name": "stderr",
     "output_type": "stream",
     "text": [
      "\r",
      " 26%|██▋       | 105/399 [00:38<01:49,  2.69it/s]"
     ]
    },
    {
     "name": "stdout",
     "output_type": "stream",
     "text": [
      "Node(tag=48, identifier=48, data=GeoUnit(name=48, unnoised_pop=2368139, parent=None, identifier=48, level=0, noised_pop=2368156.7567961817, noise=17.756796181800283, noise_type=laplacian, adjusted_pop=2368156.7567961817, error=17.756796181667596, weight=0.2741020793950851))\n"
     ]
    },
    {
     "name": "stderr",
     "output_type": "stream",
     "text": [
      "\r",
      " 27%|██▋       | 106/399 [00:39<01:48,  2.70it/s]"
     ]
    },
    {
     "name": "stdout",
     "output_type": "stream",
     "text": [
      "Node(tag=48, identifier=48, data=GeoUnit(name=48, unnoised_pop=2368139, parent=None, identifier=48, level=0, noised_pop=2368156.7567961817, noise=17.756796181800283, noise_type=laplacian, adjusted_pop=2368156.7567961817, error=17.756796181667596, weight=0.1947069943289225))\n"
     ]
    },
    {
     "name": "stderr",
     "output_type": "stream",
     "text": [
      "\r",
      " 27%|██▋       | 107/399 [00:39<01:48,  2.70it/s]"
     ]
    },
    {
     "name": "stdout",
     "output_type": "stream",
     "text": [
      "Node(tag=48, identifier=48, data=GeoUnit(name=48, unnoised_pop=2368139, parent=None, identifier=48, level=0, noised_pop=2368156.7567961817, noise=17.756796181800283, noise_type=laplacian, adjusted_pop=2368156.7567961817, error=17.756796181667596, weight=0.20226843100189035))\n"
     ]
    },
    {
     "name": "stderr",
     "output_type": "stream",
     "text": [
      "\r",
      " 27%|██▋       | 108/399 [00:39<01:48,  2.69it/s]"
     ]
    },
    {
     "name": "stdout",
     "output_type": "stream",
     "text": [
      "Node(tag=48, identifier=48, data=GeoUnit(name=48, unnoised_pop=2368139, parent=None, identifier=48, level=0, noised_pop=2368156.7567961817, noise=17.756796181800283, noise_type=laplacian, adjusted_pop=2368156.7567961817, error=17.756796181667596, weight=0.23251417769376181))\n"
     ]
    },
    {
     "name": "stderr",
     "output_type": "stream",
     "text": [
      "\r",
      " 27%|██▋       | 109/399 [00:40<01:48,  2.66it/s]"
     ]
    },
    {
     "name": "stdout",
     "output_type": "stream",
     "text": [
      "Node(tag=48, identifier=48, data=GeoUnit(name=48, unnoised_pop=2368139, parent=None, identifier=48, level=0, noised_pop=2368156.7567961817, noise=17.756796181800283, noise_type=laplacian, adjusted_pop=2368156.7567961817, error=17.756796181667596, weight=0.2684310018903592))\n"
     ]
    },
    {
     "name": "stderr",
     "output_type": "stream",
     "text": [
      "\r",
      " 28%|██▊       | 110/399 [00:40<01:49,  2.63it/s]"
     ]
    },
    {
     "name": "stdout",
     "output_type": "stream",
     "text": [
      "Node(tag=48, identifier=48, data=GeoUnit(name=48, unnoised_pop=2368139, parent=None, identifier=48, level=0, noised_pop=2368156.7567961817, noise=17.756796181800283, noise_type=laplacian, adjusted_pop=2368156.7567961817, error=17.756796181667596, weight=0.23629489603024575))\n"
     ]
    },
    {
     "name": "stderr",
     "output_type": "stream",
     "text": [
      "\r",
      " 28%|██▊       | 111/399 [00:40<01:50,  2.60it/s]"
     ]
    },
    {
     "name": "stdout",
     "output_type": "stream",
     "text": [
      "Node(tag=48, identifier=48, data=GeoUnit(name=48, unnoised_pop=2368139, parent=None, identifier=48, level=0, noised_pop=2368156.7567961817, noise=17.756796181800283, noise_type=laplacian, adjusted_pop=2368156.7567961817, error=17.756796181667596, weight=0.20982986767485823))\n"
     ]
    },
    {
     "name": "stderr",
     "output_type": "stream",
     "text": [
      "\r",
      " 28%|██▊       | 112/399 [00:41<01:50,  2.59it/s]"
     ]
    },
    {
     "name": "stdout",
     "output_type": "stream",
     "text": [
      "Node(tag=48, identifier=48, data=GeoUnit(name=48, unnoised_pop=2368139, parent=None, identifier=48, level=0, noised_pop=2368156.7567961817, noise=17.756796181800283, noise_type=laplacian, adjusted_pop=2368156.7567961817, error=17.756796181667596, weight=0.27599243856332706))\n"
     ]
    },
    {
     "name": "stderr",
     "output_type": "stream",
     "text": [
      "\r",
      " 28%|██▊       | 113/399 [00:41<01:48,  2.63it/s]"
     ]
    },
    {
     "name": "stdout",
     "output_type": "stream",
     "text": [
      "Node(tag=48, identifier=48, data=GeoUnit(name=48, unnoised_pop=2368139, parent=None, identifier=48, level=0, noised_pop=2368156.7567961817, noise=17.756796181800283, noise_type=laplacian, adjusted_pop=2368156.7567961817, error=17.756796181667596, weight=0.28166351606805295))\n"
     ]
    },
    {
     "name": "stderr",
     "output_type": "stream",
     "text": [
      "\r",
      " 29%|██▊       | 114/399 [00:42<01:46,  2.68it/s]"
     ]
    },
    {
     "name": "stdout",
     "output_type": "stream",
     "text": [
      "Node(tag=48, identifier=48, data=GeoUnit(name=48, unnoised_pop=2368139, parent=None, identifier=48, level=0, noised_pop=2368156.7567961817, noise=17.756796181800283, noise_type=laplacian, adjusted_pop=2368156.7567961817, error=17.756796181667596, weight=0.21928166351606806))\n"
     ]
    },
    {
     "name": "stderr",
     "output_type": "stream",
     "text": [
      "\r",
      " 29%|██▉       | 115/399 [00:42<01:45,  2.69it/s]"
     ]
    },
    {
     "name": "stdout",
     "output_type": "stream",
     "text": [
      "Node(tag=48, identifier=48, data=GeoUnit(name=48, unnoised_pop=2368139, parent=None, identifier=48, level=0, noised_pop=2368156.7567961817, noise=17.756796181800283, noise_type=laplacian, adjusted_pop=2368156.7567961817, error=17.756796181667596, weight=0.21550094517958412))\n"
     ]
    },
    {
     "name": "stderr",
     "output_type": "stream",
     "text": [
      "\r",
      " 29%|██▉       | 116/399 [00:42<01:44,  2.71it/s]"
     ]
    },
    {
     "name": "stdout",
     "output_type": "stream",
     "text": [
      "Node(tag=48, identifier=48, data=GeoUnit(name=48, unnoised_pop=2368139, parent=None, identifier=48, level=0, noised_pop=2368156.7567961817, noise=17.756796181800283, noise_type=laplacian, adjusted_pop=2368156.7567961817, error=17.756796181667596, weight=0.22495274102079396))\n"
     ]
    },
    {
     "name": "stderr",
     "output_type": "stream",
     "text": [
      "\r",
      " 29%|██▉       | 117/399 [00:43<01:42,  2.74it/s]"
     ]
    },
    {
     "name": "stdout",
     "output_type": "stream",
     "text": [
      "Node(tag=48, identifier=48, data=GeoUnit(name=48, unnoised_pop=2368139, parent=None, identifier=48, level=0, noised_pop=2368156.7567961817, noise=17.756796181800283, noise_type=laplacian, adjusted_pop=2368156.7567961817, error=17.756796181667596, weight=0.22306238185255198))\n"
     ]
    },
    {
     "name": "stderr",
     "output_type": "stream",
     "text": [
      "\r",
      " 30%|██▉       | 118/399 [00:43<01:41,  2.76it/s]"
     ]
    },
    {
     "name": "stdout",
     "output_type": "stream",
     "text": [
      "Node(tag=48, identifier=48, data=GeoUnit(name=48, unnoised_pop=2368139, parent=None, identifier=48, level=0, noised_pop=2368156.7567961817, noise=17.756796181800283, noise_type=laplacian, adjusted_pop=2368156.7567961817, error=17.756796181667596, weight=0.22117202268431002))\n"
     ]
    },
    {
     "name": "stderr",
     "output_type": "stream",
     "text": [
      "\r",
      " 30%|██▉       | 119/399 [00:43<01:40,  2.77it/s]"
     ]
    },
    {
     "name": "stdout",
     "output_type": "stream",
     "text": [
      "Node(tag=48, identifier=48, data=GeoUnit(name=48, unnoised_pop=2368139, parent=None, identifier=48, level=0, noised_pop=2368156.7567961817, noise=17.756796181800283, noise_type=laplacian, adjusted_pop=2368156.7567961817, error=17.756796181667596, weight=0.22306238185255198))\n"
     ]
    },
    {
     "name": "stderr",
     "output_type": "stream",
     "text": [
      "\r",
      " 30%|███       | 120/399 [00:44<01:39,  2.79it/s]"
     ]
    },
    {
     "name": "stdout",
     "output_type": "stream",
     "text": [
      "Node(tag=48, identifier=48, data=GeoUnit(name=48, unnoised_pop=2368139, parent=None, identifier=48, level=0, noised_pop=2368156.7567961817, noise=17.756796181800283, noise_type=laplacian, adjusted_pop=2368156.7567961817, error=17.756796181667596, weight=0.23629489603024575))\n"
     ]
    },
    {
     "name": "stderr",
     "output_type": "stream",
     "text": [
      "\r",
      " 30%|███       | 121/399 [00:44<01:39,  2.80it/s]"
     ]
    },
    {
     "name": "stdout",
     "output_type": "stream",
     "text": [
      "Node(tag=48, identifier=48, data=GeoUnit(name=48, unnoised_pop=2368139, parent=None, identifier=48, level=0, noised_pop=2368156.7567961817, noise=17.756796181800283, noise_type=laplacian, adjusted_pop=2368156.7567961817, error=17.756796181667596, weight=0.2627599243856333))\n"
     ]
    },
    {
     "name": "stderr",
     "output_type": "stream",
     "text": [
      "\r",
      " 31%|███       | 122/399 [00:44<01:39,  2.78it/s]"
     ]
    },
    {
     "name": "stdout",
     "output_type": "stream",
     "text": [
      "Node(tag=48, identifier=48, data=GeoUnit(name=48, unnoised_pop=2368139, parent=None, identifier=48, level=0, noised_pop=2368156.7567961817, noise=17.756796181800283, noise_type=laplacian, adjusted_pop=2368156.7567961817, error=17.756796181667596, weight=0.2060491493383743))\n"
     ]
    },
    {
     "name": "stderr",
     "output_type": "stream",
     "text": [
      "\r",
      " 31%|███       | 123/399 [00:45<01:40,  2.75it/s]"
     ]
    },
    {
     "name": "stdout",
     "output_type": "stream",
     "text": [
      "Node(tag=48, identifier=48, data=GeoUnit(name=48, unnoised_pop=2368139, parent=None, identifier=48, level=0, noised_pop=2368156.7567961817, noise=17.756796181800283, noise_type=laplacian, adjusted_pop=2368156.7567961817, error=17.756796181667596, weight=0.2003780718336484))\n"
     ]
    },
    {
     "name": "stderr",
     "output_type": "stream",
     "text": [
      "\r",
      " 31%|███       | 124/399 [00:45<01:39,  2.77it/s]"
     ]
    },
    {
     "name": "stdout",
     "output_type": "stream",
     "text": [
      "Node(tag=48, identifier=48, data=GeoUnit(name=48, unnoised_pop=2368139, parent=None, identifier=48, level=0, noised_pop=2368156.7567961817, noise=17.756796181800283, noise_type=laplacian, adjusted_pop=2368156.7567961817, error=17.756796181667596, weight=0.21739130434782608))\n"
     ]
    },
    {
     "name": "stderr",
     "output_type": "stream",
     "text": [
      "\r",
      " 31%|███▏      | 125/399 [00:46<01:38,  2.78it/s]"
     ]
    },
    {
     "name": "stdout",
     "output_type": "stream",
     "text": [
      "Node(tag=48, identifier=48, data=GeoUnit(name=48, unnoised_pop=2368139, parent=None, identifier=48, level=0, noised_pop=2368156.7567961817, noise=17.756796181800283, noise_type=laplacian, adjusted_pop=2368156.7567961817, error=17.756796181667596, weight=0.24574669187145556))\n"
     ]
    },
    {
     "name": "stderr",
     "output_type": "stream",
     "text": [
      "\r",
      " 32%|███▏      | 126/399 [00:46<01:38,  2.77it/s]"
     ]
    },
    {
     "name": "stdout",
     "output_type": "stream",
     "text": [
      "Node(tag=48, identifier=48, data=GeoUnit(name=48, unnoised_pop=2368139, parent=None, identifier=48, level=0, noised_pop=2368156.7567961817, noise=17.756796181800283, noise_type=laplacian, adjusted_pop=2368156.7567961817, error=17.756796181667596, weight=0.22684310018903592))\n"
     ]
    },
    {
     "name": "stderr",
     "output_type": "stream",
     "text": [
      "\r",
      " 32%|███▏      | 127/399 [00:46<01:39,  2.73it/s]"
     ]
    },
    {
     "name": "stdout",
     "output_type": "stream",
     "text": [
      "Node(tag=48, identifier=48, data=GeoUnit(name=48, unnoised_pop=2368139, parent=None, identifier=48, level=0, noised_pop=2368156.7567961817, noise=17.756796181800283, noise_type=laplacian, adjusted_pop=2368156.7567961817, error=17.756796181667596, weight=0.277882797731569))\n"
     ]
    },
    {
     "name": "stderr",
     "output_type": "stream",
     "text": [
      "\r",
      " 32%|███▏      | 128/399 [00:47<01:41,  2.67it/s]"
     ]
    },
    {
     "name": "stdout",
     "output_type": "stream",
     "text": [
      "Node(tag=48, identifier=48, data=GeoUnit(name=48, unnoised_pop=2368139, parent=None, identifier=48, level=0, noised_pop=2368156.7567961817, noise=17.756796181800283, noise_type=laplacian, adjusted_pop=2368156.7567961817, error=17.756796181667596, weight=0.28733459357277885))\n"
     ]
    },
    {
     "name": "stderr",
     "output_type": "stream",
     "text": [
      "\r",
      " 32%|███▏      | 129/399 [00:47<01:42,  2.63it/s]"
     ]
    },
    {
     "name": "stdout",
     "output_type": "stream",
     "text": [
      "Node(tag=48, identifier=48, data=GeoUnit(name=48, unnoised_pop=2368139, parent=None, identifier=48, level=0, noised_pop=2368156.7567961817, noise=17.756796181800283, noise_type=laplacian, adjusted_pop=2368156.7567961817, error=17.756796181667596, weight=0.24574669187145556))\n"
     ]
    },
    {
     "name": "stderr",
     "output_type": "stream",
     "text": [
      "\r",
      " 33%|███▎      | 130/399 [00:47<01:40,  2.68it/s]"
     ]
    },
    {
     "name": "stdout",
     "output_type": "stream",
     "text": [
      "Node(tag=48, identifier=48, data=GeoUnit(name=48, unnoised_pop=2368139, parent=None, identifier=48, level=0, noised_pop=2368156.7567961817, noise=17.756796181800283, noise_type=laplacian, adjusted_pop=2368156.7567961817, error=17.756796181667596, weight=0.24007561436672967))\n"
     ]
    },
    {
     "name": "stderr",
     "output_type": "stream",
     "text": [
      "\r",
      " 33%|███▎      | 131/399 [00:48<01:40,  2.67it/s]"
     ]
    },
    {
     "name": "stdout",
     "output_type": "stream",
     "text": [
      "Node(tag=48, identifier=48, data=GeoUnit(name=48, unnoised_pop=2368139, parent=None, identifier=48, level=0, noised_pop=2368156.7567961817, noise=17.756796181800283, noise_type=laplacian, adjusted_pop=2368156.7567961817, error=17.756796181667596, weight=0.2060491493383743))\n"
     ]
    },
    {
     "name": "stderr",
     "output_type": "stream",
     "text": [
      "\r",
      " 33%|███▎      | 132/399 [00:48<01:39,  2.69it/s]"
     ]
    },
    {
     "name": "stdout",
     "output_type": "stream",
     "text": [
      "Node(tag=48, identifier=48, data=GeoUnit(name=48, unnoised_pop=2368139, parent=None, identifier=48, level=0, noised_pop=2368156.7567961817, noise=17.756796181800283, noise_type=laplacian, adjusted_pop=2368156.7567961817, error=17.756796181667596, weight=0.23440453686200377))\n"
     ]
    },
    {
     "name": "stderr",
     "output_type": "stream",
     "text": [
      "\r",
      " 33%|███▎      | 133/399 [00:49<01:39,  2.68it/s]"
     ]
    },
    {
     "name": "stdout",
     "output_type": "stream",
     "text": [
      "Node(tag=48, identifier=48, data=GeoUnit(name=48, unnoised_pop=2368139, parent=None, identifier=48, level=0, noised_pop=2368156.7567961817, noise=17.756796181800283, noise_type=laplacian, adjusted_pop=2368156.7567961817, error=17.756796181667596, weight=0.21172022684310018))\n"
     ]
    },
    {
     "name": "stderr",
     "output_type": "stream",
     "text": [
      "\r",
      " 34%|███▎      | 134/399 [00:49<01:38,  2.69it/s]"
     ]
    },
    {
     "name": "stdout",
     "output_type": "stream",
     "text": [
      "Node(tag=48, identifier=48, data=GeoUnit(name=48, unnoised_pop=2368139, parent=None, identifier=48, level=0, noised_pop=2368156.7567961817, noise=17.756796181800283, noise_type=laplacian, adjusted_pop=2368156.7567961817, error=17.756796181667596, weight=0.24007561436672967))\n"
     ]
    },
    {
     "name": "stderr",
     "output_type": "stream",
     "text": [
      "\r",
      " 34%|███▍      | 135/399 [00:49<01:38,  2.68it/s]"
     ]
    },
    {
     "name": "stdout",
     "output_type": "stream",
     "text": [
      "Node(tag=48, identifier=48, data=GeoUnit(name=48, unnoised_pop=2368139, parent=None, identifier=48, level=0, noised_pop=2368156.7567961817, noise=17.756796181800283, noise_type=laplacian, adjusted_pop=2368156.7567961817, error=17.756796181667596, weight=0.20793950850661624))\n"
     ]
    },
    {
     "name": "stderr",
     "output_type": "stream",
     "text": [
      "\r",
      " 34%|███▍      | 136/399 [00:50<01:38,  2.68it/s]"
     ]
    },
    {
     "name": "stdout",
     "output_type": "stream",
     "text": [
      "Node(tag=48, identifier=48, data=GeoUnit(name=48, unnoised_pop=2368139, parent=None, identifier=48, level=0, noised_pop=2368156.7567961817, noise=17.756796181800283, noise_type=laplacian, adjusted_pop=2368156.7567961817, error=17.756796181667596, weight=0.2892249527410208))\n"
     ]
    },
    {
     "name": "stderr",
     "output_type": "stream",
     "text": [
      "\r",
      " 34%|███▍      | 137/399 [00:50<01:38,  2.66it/s]"
     ]
    },
    {
     "name": "stdout",
     "output_type": "stream",
     "text": [
      "Node(tag=48, identifier=48, data=GeoUnit(name=48, unnoised_pop=2368139, parent=None, identifier=48, level=0, noised_pop=2368156.7567961817, noise=17.756796181800283, noise_type=laplacian, adjusted_pop=2368156.7567961817, error=17.756796181667596, weight=0.2570888468809074))\n"
     ]
    },
    {
     "name": "stderr",
     "output_type": "stream",
     "text": [
      "\r",
      " 35%|███▍      | 138/399 [00:50<01:38,  2.65it/s]"
     ]
    },
    {
     "name": "stdout",
     "output_type": "stream",
     "text": [
      "Node(tag=48, identifier=48, data=GeoUnit(name=48, unnoised_pop=2368139, parent=None, identifier=48, level=0, noised_pop=2368156.7567961817, noise=17.756796181800283, noise_type=laplacian, adjusted_pop=2368156.7567961817, error=17.756796181667596, weight=0.2646502835538752))\n"
     ]
    },
    {
     "name": "stderr",
     "output_type": "stream",
     "text": [
      "\r",
      " 35%|███▍      | 139/399 [00:51<01:38,  2.64it/s]"
     ]
    },
    {
     "name": "stdout",
     "output_type": "stream",
     "text": [
      "Node(tag=48, identifier=48, data=GeoUnit(name=48, unnoised_pop=2368139, parent=None, identifier=48, level=0, noised_pop=2368156.7567961817, noise=17.756796181800283, noise_type=laplacian, adjusted_pop=2368156.7567961817, error=17.756796181667596, weight=0.27599243856332706))\n"
     ]
    },
    {
     "name": "stderr",
     "output_type": "stream",
     "text": [
      "\r",
      " 35%|███▌      | 140/399 [00:51<01:38,  2.62it/s]"
     ]
    },
    {
     "name": "stdout",
     "output_type": "stream",
     "text": [
      "Node(tag=48, identifier=48, data=GeoUnit(name=48, unnoised_pop=2368139, parent=None, identifier=48, level=0, noised_pop=2368156.7567961817, noise=17.756796181800283, noise_type=laplacian, adjusted_pop=2368156.7567961817, error=17.756796181667596, weight=0.23062381852551986))\n"
     ]
    },
    {
     "name": "stderr",
     "output_type": "stream",
     "text": [
      "\r",
      " 35%|███▌      | 141/399 [00:52<01:38,  2.61it/s]"
     ]
    },
    {
     "name": "stdout",
     "output_type": "stream",
     "text": [
      "Node(tag=48, identifier=48, data=GeoUnit(name=48, unnoised_pop=2368139, parent=None, identifier=48, level=0, noised_pop=2368156.7567961817, noise=17.756796181800283, noise_type=laplacian, adjusted_pop=2368156.7567961817, error=17.756796181667596, weight=0.20415879017013233))\n"
     ]
    },
    {
     "name": "stderr",
     "output_type": "stream",
     "text": [
      "\r",
      " 36%|███▌      | 142/399 [00:52<01:37,  2.65it/s]"
     ]
    },
    {
     "name": "stdout",
     "output_type": "stream",
     "text": [
      "Node(tag=48, identifier=48, data=GeoUnit(name=48, unnoised_pop=2368139, parent=None, identifier=48, level=0, noised_pop=2368156.7567961817, noise=17.756796181800283, noise_type=laplacian, adjusted_pop=2368156.7567961817, error=17.756796181667596, weight=0.27977315689981097))\n"
     ]
    },
    {
     "name": "stderr",
     "output_type": "stream",
     "text": [
      "\r",
      " 36%|███▌      | 143/399 [00:52<01:35,  2.68it/s]"
     ]
    },
    {
     "name": "stdout",
     "output_type": "stream",
     "text": [
      "Node(tag=48, identifier=48, data=GeoUnit(name=48, unnoised_pop=2368139, parent=None, identifier=48, level=0, noised_pop=2368156.7567961817, noise=17.756796181800283, noise_type=laplacian, adjusted_pop=2368156.7567961817, error=17.756796181667596, weight=0.277882797731569))\n"
     ]
    },
    {
     "name": "stderr",
     "output_type": "stream",
     "text": [
      "\r",
      " 36%|███▌      | 144/399 [00:53<01:35,  2.67it/s]"
     ]
    },
    {
     "name": "stdout",
     "output_type": "stream",
     "text": [
      "Node(tag=48, identifier=48, data=GeoUnit(name=48, unnoised_pop=2368139, parent=None, identifier=48, level=0, noised_pop=2368156.7567961817, noise=17.756796181800283, noise_type=laplacian, adjusted_pop=2368156.7567961817, error=17.756796181667596, weight=0.20415879017013233))\n"
     ]
    },
    {
     "name": "stderr",
     "output_type": "stream",
     "text": [
      "\r",
      " 36%|███▋      | 145/399 [00:53<01:35,  2.66it/s]"
     ]
    },
    {
     "name": "stdout",
     "output_type": "stream",
     "text": [
      "Node(tag=48, identifier=48, data=GeoUnit(name=48, unnoised_pop=2368139, parent=None, identifier=48, level=0, noised_pop=2368156.7567961817, noise=17.756796181800283, noise_type=laplacian, adjusted_pop=2368156.7567961817, error=17.756796181667596, weight=0.2003780718336484))\n"
     ]
    },
    {
     "name": "stderr",
     "output_type": "stream",
     "text": [
      "\r",
      " 37%|███▋      | 146/399 [00:53<01:35,  2.66it/s]"
     ]
    },
    {
     "name": "stdout",
     "output_type": "stream",
     "text": [
      "Node(tag=48, identifier=48, data=GeoUnit(name=48, unnoised_pop=2368139, parent=None, identifier=48, level=0, noised_pop=2368156.7567961817, noise=17.756796181800283, noise_type=laplacian, adjusted_pop=2368156.7567961817, error=17.756796181667596, weight=0.2589792060491493))\n"
     ]
    },
    {
     "name": "stderr",
     "output_type": "stream",
     "text": [
      "\r",
      " 37%|███▋      | 147/399 [00:54<01:36,  2.61it/s]"
     ]
    },
    {
     "name": "stdout",
     "output_type": "stream",
     "text": [
      "Node(tag=48, identifier=48, data=GeoUnit(name=48, unnoised_pop=2368139, parent=None, identifier=48, level=0, noised_pop=2368156.7567961817, noise=17.756796181800283, noise_type=laplacian, adjusted_pop=2368156.7567961817, error=17.756796181667596, weight=0.21928166351606806))\n"
     ]
    },
    {
     "name": "stderr",
     "output_type": "stream",
     "text": [
      "\r",
      " 37%|███▋      | 148/399 [00:54<01:37,  2.58it/s]"
     ]
    },
    {
     "name": "stdout",
     "output_type": "stream",
     "text": [
      "Node(tag=48, identifier=48, data=GeoUnit(name=48, unnoised_pop=2368139, parent=None, identifier=48, level=0, noised_pop=2368156.7567961817, noise=17.756796181800283, noise_type=laplacian, adjusted_pop=2368156.7567961817, error=17.756796181667596, weight=0.2533081285444234))\n"
     ]
    },
    {
     "name": "stderr",
     "output_type": "stream",
     "text": [
      "\r",
      " 37%|███▋      | 149/399 [00:55<01:36,  2.60it/s]"
     ]
    },
    {
     "name": "stdout",
     "output_type": "stream",
     "text": [
      "Node(tag=48, identifier=48, data=GeoUnit(name=48, unnoised_pop=2368139, parent=None, identifier=48, level=0, noised_pop=2368156.7567961817, noise=17.756796181800283, noise_type=laplacian, adjusted_pop=2368156.7567961817, error=17.756796181667596, weight=0.20226843100189035))\n"
     ]
    },
    {
     "name": "stderr",
     "output_type": "stream",
     "text": [
      "\r",
      " 38%|███▊      | 150/399 [00:55<01:36,  2.57it/s]"
     ]
    },
    {
     "name": "stdout",
     "output_type": "stream",
     "text": [
      "Node(tag=48, identifier=48, data=GeoUnit(name=48, unnoised_pop=2368139, parent=None, identifier=48, level=0, noised_pop=2368156.7567961817, noise=17.756796181800283, noise_type=laplacian, adjusted_pop=2368156.7567961817, error=17.756796181667596, weight=0.28544423440453687))\n"
     ]
    },
    {
     "name": "stderr",
     "output_type": "stream",
     "text": [
      "\r",
      " 38%|███▊      | 151/399 [00:55<01:36,  2.56it/s]"
     ]
    },
    {
     "name": "stdout",
     "output_type": "stream",
     "text": [
      "Node(tag=48, identifier=48, data=GeoUnit(name=48, unnoised_pop=2368139, parent=None, identifier=48, level=0, noised_pop=2368156.7567961817, noise=17.756796181800283, noise_type=laplacian, adjusted_pop=2368156.7567961817, error=17.756796181667596, weight=0.2514177693761815))\n"
     ]
    },
    {
     "name": "stderr",
     "output_type": "stream",
     "text": [
      "\r",
      " 38%|███▊      | 152/399 [00:56<01:37,  2.55it/s]"
     ]
    },
    {
     "name": "stdout",
     "output_type": "stream",
     "text": [
      "Node(tag=48, identifier=48, data=GeoUnit(name=48, unnoised_pop=2368139, parent=None, identifier=48, level=0, noised_pop=2368156.7567961817, noise=17.756796181800283, noise_type=laplacian, adjusted_pop=2368156.7567961817, error=17.756796181667596, weight=0.2892249527410208))\n"
     ]
    },
    {
     "name": "stderr",
     "output_type": "stream",
     "text": [
      "\r",
      " 38%|███▊      | 153/399 [00:56<01:37,  2.53it/s]"
     ]
    },
    {
     "name": "stdout",
     "output_type": "stream",
     "text": [
      "Node(tag=48, identifier=48, data=GeoUnit(name=48, unnoised_pop=2368139, parent=None, identifier=48, level=0, noised_pop=2368156.7567961817, noise=17.756796181800283, noise_type=laplacian, adjusted_pop=2368156.7567961817, error=17.756796181667596, weight=0.29111531190926276))\n"
     ]
    },
    {
     "name": "stderr",
     "output_type": "stream",
     "text": [
      "\r",
      " 39%|███▊      | 154/399 [00:57<01:37,  2.51it/s]"
     ]
    },
    {
     "name": "stdout",
     "output_type": "stream",
     "text": [
      "Node(tag=48, identifier=48, data=GeoUnit(name=48, unnoised_pop=2368139, parent=None, identifier=48, level=0, noised_pop=2368156.7567961817, noise=17.756796181800283, noise_type=laplacian, adjusted_pop=2368156.7567961817, error=17.756796181667596, weight=0.22306238185255198))\n"
     ]
    },
    {
     "name": "stderr",
     "output_type": "stream",
     "text": [
      "\r",
      " 39%|███▉      | 155/399 [00:57<01:37,  2.50it/s]"
     ]
    },
    {
     "name": "stdout",
     "output_type": "stream",
     "text": [
      "Node(tag=48, identifier=48, data=GeoUnit(name=48, unnoised_pop=2368139, parent=None, identifier=48, level=0, noised_pop=2368156.7567961817, noise=17.756796181800283, noise_type=laplacian, adjusted_pop=2368156.7567961817, error=17.756796181667596, weight=0.21739130434782608))\n"
     ]
    },
    {
     "name": "stderr",
     "output_type": "stream",
     "text": [
      "\r",
      " 39%|███▉      | 156/399 [00:57<01:37,  2.50it/s]"
     ]
    },
    {
     "name": "stdout",
     "output_type": "stream",
     "text": [
      "Node(tag=48, identifier=48, data=GeoUnit(name=48, unnoised_pop=2368139, parent=None, identifier=48, level=0, noised_pop=2368156.7567961817, noise=17.756796181800283, noise_type=laplacian, adjusted_pop=2368156.7567961817, error=17.756796181667596, weight=0.23440453686200377))\n"
     ]
    },
    {
     "name": "stderr",
     "output_type": "stream",
     "text": [
      "\r",
      " 39%|███▉      | 157/399 [00:58<01:34,  2.56it/s]"
     ]
    },
    {
     "name": "stdout",
     "output_type": "stream",
     "text": [
      "Node(tag=48, identifier=48, data=GeoUnit(name=48, unnoised_pop=2368139, parent=None, identifier=48, level=0, noised_pop=2368156.7567961817, noise=17.756796181800283, noise_type=laplacian, adjusted_pop=2368156.7567961817, error=17.756796181667596, weight=0.28166351606805295))\n"
     ]
    },
    {
     "name": "stderr",
     "output_type": "stream",
     "text": [
      "\r",
      " 40%|███▉      | 158/399 [00:58<01:32,  2.61it/s]"
     ]
    },
    {
     "name": "stdout",
     "output_type": "stream",
     "text": [
      "Node(tag=48, identifier=48, data=GeoUnit(name=48, unnoised_pop=2368139, parent=None, identifier=48, level=0, noised_pop=2368156.7567961817, noise=17.756796181800283, noise_type=laplacian, adjusted_pop=2368156.7567961817, error=17.756796181667596, weight=0.22306238185255198))\n"
     ]
    },
    {
     "name": "stderr",
     "output_type": "stream",
     "text": [
      "\r",
      " 40%|███▉      | 159/399 [00:59<01:30,  2.64it/s]"
     ]
    },
    {
     "name": "stdout",
     "output_type": "stream",
     "text": [
      "Node(tag=48, identifier=48, data=GeoUnit(name=48, unnoised_pop=2368139, parent=None, identifier=48, level=0, noised_pop=2368156.7567961817, noise=17.756796181800283, noise_type=laplacian, adjusted_pop=2368156.7567961817, error=17.756796181667596, weight=0.24007561436672967))\n"
     ]
    },
    {
     "name": "stderr",
     "output_type": "stream",
     "text": [
      "\r",
      " 40%|████      | 160/399 [00:59<01:30,  2.63it/s]"
     ]
    },
    {
     "name": "stdout",
     "output_type": "stream",
     "text": [
      "Node(tag=48, identifier=48, data=GeoUnit(name=48, unnoised_pop=2368139, parent=None, identifier=48, level=0, noised_pop=2368156.7567961817, noise=17.756796181800283, noise_type=laplacian, adjusted_pop=2368156.7567961817, error=17.756796181667596, weight=0.22306238185255198))\n"
     ]
    },
    {
     "name": "stderr",
     "output_type": "stream",
     "text": [
      "\r",
      " 40%|████      | 161/399 [00:59<01:31,  2.62it/s]"
     ]
    },
    {
     "name": "stdout",
     "output_type": "stream",
     "text": [
      "Node(tag=48, identifier=48, data=GeoUnit(name=48, unnoised_pop=2368139, parent=None, identifier=48, level=0, noised_pop=2368156.7567961817, noise=17.756796181800283, noise_type=laplacian, adjusted_pop=2368156.7567961817, error=17.756796181667596, weight=0.23440453686200377))\n"
     ]
    },
    {
     "name": "stderr",
     "output_type": "stream",
     "text": [
      "\r",
      " 41%|████      | 162/399 [01:00<01:31,  2.60it/s]"
     ]
    },
    {
     "name": "stdout",
     "output_type": "stream",
     "text": [
      "Node(tag=48, identifier=48, data=GeoUnit(name=48, unnoised_pop=2368139, parent=None, identifier=48, level=0, noised_pop=2368156.7567961817, noise=17.756796181800283, noise_type=laplacian, adjusted_pop=2368156.7567961817, error=17.756796181667596, weight=0.2627599243856333))\n"
     ]
    },
    {
     "name": "stderr",
     "output_type": "stream",
     "text": [
      "\r",
      " 41%|████      | 163/399 [01:00<01:31,  2.59it/s]"
     ]
    },
    {
     "name": "stdout",
     "output_type": "stream",
     "text": [
      "Node(tag=48, identifier=48, data=GeoUnit(name=48, unnoised_pop=2368139, parent=None, identifier=48, level=0, noised_pop=2368156.7567961817, noise=17.756796181800283, noise_type=laplacian, adjusted_pop=2368156.7567961817, error=17.756796181667596, weight=0.21928166351606806))\n"
     ]
    },
    {
     "name": "stderr",
     "output_type": "stream",
     "text": [
      "\r",
      " 41%|████      | 164/399 [01:00<01:31,  2.58it/s]"
     ]
    },
    {
     "name": "stdout",
     "output_type": "stream",
     "text": [
      "Node(tag=48, identifier=48, data=GeoUnit(name=48, unnoised_pop=2368139, parent=None, identifier=48, level=0, noised_pop=2368156.7567961817, noise=17.756796181800283, noise_type=laplacian, adjusted_pop=2368156.7567961817, error=17.756796181667596, weight=0.29300567107750475))\n"
     ]
    },
    {
     "name": "stderr",
     "output_type": "stream",
     "text": [
      "\r",
      " 41%|████▏     | 165/399 [01:01<01:31,  2.56it/s]"
     ]
    },
    {
     "name": "stdout",
     "output_type": "stream",
     "text": [
      "Node(tag=48, identifier=48, data=GeoUnit(name=48, unnoised_pop=2368139, parent=None, identifier=48, level=0, noised_pop=2368156.7567961817, noise=17.756796181800283, noise_type=laplacian, adjusted_pop=2368156.7567961817, error=17.756796181667596, weight=0.20982986767485823))\n"
     ]
    },
    {
     "name": "stderr",
     "output_type": "stream",
     "text": [
      "\r",
      " 42%|████▏     | 166/399 [01:01<01:30,  2.58it/s]"
     ]
    },
    {
     "name": "stdout",
     "output_type": "stream",
     "text": [
      "Node(tag=48, identifier=48, data=GeoUnit(name=48, unnoised_pop=2368139, parent=None, identifier=48, level=0, noised_pop=2368156.7567961817, noise=17.756796181800283, noise_type=laplacian, adjusted_pop=2368156.7567961817, error=17.756796181667596, weight=0.22873345935727787))\n"
     ]
    },
    {
     "name": "stderr",
     "output_type": "stream",
     "text": [
      "\r",
      " 42%|████▏     | 167/399 [01:02<01:28,  2.61it/s]"
     ]
    },
    {
     "name": "stdout",
     "output_type": "stream",
     "text": [
      "Node(tag=48, identifier=48, data=GeoUnit(name=48, unnoised_pop=2368139, parent=None, identifier=48, level=0, noised_pop=2368156.7567961817, noise=17.756796181800283, noise_type=laplacian, adjusted_pop=2368156.7567961817, error=17.756796181667596, weight=0.19281663516068054))\n"
     ]
    },
    {
     "name": "stderr",
     "output_type": "stream",
     "text": [
      "\r",
      " 42%|████▏     | 168/399 [01:02<01:26,  2.66it/s]"
     ]
    },
    {
     "name": "stdout",
     "output_type": "stream",
     "text": [
      "Node(tag=48, identifier=48, data=GeoUnit(name=48, unnoised_pop=2368139, parent=None, identifier=48, level=0, noised_pop=2368156.7567961817, noise=17.756796181800283, noise_type=laplacian, adjusted_pop=2368156.7567961817, error=17.756796181667596, weight=0.29300567107750475))\n"
     ]
    },
    {
     "name": "stderr",
     "output_type": "stream",
     "text": [
      "\r",
      " 42%|████▏     | 169/399 [01:02<01:27,  2.61it/s]"
     ]
    },
    {
     "name": "stdout",
     "output_type": "stream",
     "text": [
      "Node(tag=48, identifier=48, data=GeoUnit(name=48, unnoised_pop=2368139, parent=None, identifier=48, level=0, noised_pop=2368156.7567961817, noise=17.756796181800283, noise_type=laplacian, adjusted_pop=2368156.7567961817, error=17.756796181667596, weight=0.2627599243856333))\n"
     ]
    },
    {
     "name": "stderr",
     "output_type": "stream",
     "text": [
      "\r",
      " 43%|████▎     | 170/399 [01:03<01:27,  2.60it/s]"
     ]
    },
    {
     "name": "stdout",
     "output_type": "stream",
     "text": [
      "Node(tag=48, identifier=48, data=GeoUnit(name=48, unnoised_pop=2368139, parent=None, identifier=48, level=0, noised_pop=2368156.7567961817, noise=17.756796181800283, noise_type=laplacian, adjusted_pop=2368156.7567961817, error=17.756796181667596, weight=0.2514177693761815))\n"
     ]
    },
    {
     "name": "stderr",
     "output_type": "stream",
     "text": [
      "\r",
      " 43%|████▎     | 171/399 [01:03<01:25,  2.67it/s]"
     ]
    },
    {
     "name": "stdout",
     "output_type": "stream",
     "text": [
      "Node(tag=48, identifier=48, data=GeoUnit(name=48, unnoised_pop=2368139, parent=None, identifier=48, level=0, noised_pop=2368156.7567961817, noise=17.756796181800283, noise_type=laplacian, adjusted_pop=2368156.7567961817, error=17.756796181667596, weight=0.2381852551984877))\n"
     ]
    },
    {
     "name": "stderr",
     "output_type": "stream",
     "text": [
      "\r",
      " 43%|████▎     | 172/399 [01:04<01:24,  2.68it/s]"
     ]
    },
    {
     "name": "stdout",
     "output_type": "stream",
     "text": [
      "Node(tag=48, identifier=48, data=GeoUnit(name=48, unnoised_pop=2368139, parent=None, identifier=48, level=0, noised_pop=2368156.7567961817, noise=17.756796181800283, noise_type=laplacian, adjusted_pop=2368156.7567961817, error=17.756796181667596, weight=0.27032136105860116))\n"
     ]
    },
    {
     "name": "stderr",
     "output_type": "stream",
     "text": [
      "\r",
      " 43%|████▎     | 173/399 [01:04<01:24,  2.68it/s]"
     ]
    },
    {
     "name": "stdout",
     "output_type": "stream",
     "text": [
      "Node(tag=48, identifier=48, data=GeoUnit(name=48, unnoised_pop=2368139, parent=None, identifier=48, level=0, noised_pop=2368156.7567961817, noise=17.756796181800283, noise_type=laplacian, adjusted_pop=2368156.7567961817, error=17.756796181667596, weight=0.22495274102079396))\n"
     ]
    },
    {
     "name": "stderr",
     "output_type": "stream",
     "text": [
      "\r",
      " 44%|████▎     | 174/399 [01:04<01:23,  2.69it/s]"
     ]
    },
    {
     "name": "stdout",
     "output_type": "stream",
     "text": [
      "Node(tag=48, identifier=48, data=GeoUnit(name=48, unnoised_pop=2368139, parent=None, identifier=48, level=0, noised_pop=2368156.7567961817, noise=17.756796181800283, noise_type=laplacian, adjusted_pop=2368156.7567961817, error=17.756796181667596, weight=0.28733459357277885))\n"
     ]
    },
    {
     "name": "stderr",
     "output_type": "stream",
     "text": [
      "\r",
      " 44%|████▍     | 175/399 [01:05<01:24,  2.65it/s]"
     ]
    },
    {
     "name": "stdout",
     "output_type": "stream",
     "text": [
      "Node(tag=48, identifier=48, data=GeoUnit(name=48, unnoised_pop=2368139, parent=None, identifier=48, level=0, noised_pop=2368156.7567961817, noise=17.756796181800283, noise_type=laplacian, adjusted_pop=2368156.7567961817, error=17.756796181667596, weight=0.23440453686200377))\n"
     ]
    },
    {
     "name": "stderr",
     "output_type": "stream",
     "text": [
      "\r",
      " 44%|████▍     | 176/399 [01:05<01:23,  2.67it/s]"
     ]
    },
    {
     "name": "stdout",
     "output_type": "stream",
     "text": [
      "Node(tag=48, identifier=48, data=GeoUnit(name=48, unnoised_pop=2368139, parent=None, identifier=48, level=0, noised_pop=2368156.7567961817, noise=17.756796181800283, noise_type=laplacian, adjusted_pop=2368156.7567961817, error=17.756796181667596, weight=0.2608695652173913))\n"
     ]
    },
    {
     "name": "stderr",
     "output_type": "stream",
     "text": [
      "\r",
      " 44%|████▍     | 177/399 [01:05<01:22,  2.69it/s]"
     ]
    },
    {
     "name": "stdout",
     "output_type": "stream",
     "text": [
      "Node(tag=48, identifier=48, data=GeoUnit(name=48, unnoised_pop=2368139, parent=None, identifier=48, level=0, noised_pop=2368156.7567961817, noise=17.756796181800283, noise_type=laplacian, adjusted_pop=2368156.7567961817, error=17.756796181667596, weight=0.2684310018903592))\n"
     ]
    },
    {
     "name": "stderr",
     "output_type": "stream",
     "text": [
      "\r",
      " 45%|████▍     | 178/399 [01:06<01:21,  2.71it/s]"
     ]
    },
    {
     "name": "stdout",
     "output_type": "stream",
     "text": [
      "Node(tag=48, identifier=48, data=GeoUnit(name=48, unnoised_pop=2368139, parent=None, identifier=48, level=0, noised_pop=2368156.7567961817, noise=17.756796181800283, noise_type=laplacian, adjusted_pop=2368156.7567961817, error=17.756796181667596, weight=0.22117202268431002))\n"
     ]
    },
    {
     "name": "stderr",
     "output_type": "stream",
     "text": [
      "\r",
      " 45%|████▍     | 179/399 [01:06<01:21,  2.71it/s]"
     ]
    },
    {
     "name": "stdout",
     "output_type": "stream",
     "text": [
      "Node(tag=48, identifier=48, data=GeoUnit(name=48, unnoised_pop=2368139, parent=None, identifier=48, level=0, noised_pop=2368156.7567961817, noise=17.756796181800283, noise_type=laplacian, adjusted_pop=2368156.7567961817, error=17.756796181667596, weight=0.2608695652173913))\n"
     ]
    },
    {
     "name": "stderr",
     "output_type": "stream",
     "text": [
      "\r",
      " 45%|████▌     | 180/399 [01:06<01:20,  2.72it/s]"
     ]
    },
    {
     "name": "stdout",
     "output_type": "stream",
     "text": [
      "Node(tag=48, identifier=48, data=GeoUnit(name=48, unnoised_pop=2368139, parent=None, identifier=48, level=0, noised_pop=2368156.7567961817, noise=17.756796181800283, noise_type=laplacian, adjusted_pop=2368156.7567961817, error=17.756796181667596, weight=0.2060491493383743))\n"
     ]
    },
    {
     "name": "stderr",
     "output_type": "stream",
     "text": [
      "\r",
      " 45%|████▌     | 181/399 [01:07<01:20,  2.72it/s]"
     ]
    },
    {
     "name": "stdout",
     "output_type": "stream",
     "text": [
      "Node(tag=48, identifier=48, data=GeoUnit(name=48, unnoised_pop=2368139, parent=None, identifier=48, level=0, noised_pop=2368156.7567961817, noise=17.756796181800283, noise_type=laplacian, adjusted_pop=2368156.7567961817, error=17.756796181667596, weight=0.277882797731569))\n"
     ]
    },
    {
     "name": "stderr",
     "output_type": "stream",
     "text": [
      "\r",
      " 46%|████▌     | 182/399 [01:07<01:19,  2.73it/s]"
     ]
    },
    {
     "name": "stdout",
     "output_type": "stream",
     "text": [
      "Node(tag=48, identifier=48, data=GeoUnit(name=48, unnoised_pop=2368139, parent=None, identifier=48, level=0, noised_pop=2368156.7567961817, noise=17.756796181800283, noise_type=laplacian, adjusted_pop=2368156.7567961817, error=17.756796181667596, weight=0.27599243856332706))\n"
     ]
    },
    {
     "name": "stderr",
     "output_type": "stream",
     "text": [
      "\r",
      " 46%|████▌     | 183/399 [01:08<01:19,  2.71it/s]"
     ]
    },
    {
     "name": "stdout",
     "output_type": "stream",
     "text": [
      "Node(tag=48, identifier=48, data=GeoUnit(name=48, unnoised_pop=2368139, parent=None, identifier=48, level=0, noised_pop=2368156.7567961817, noise=17.756796181800283, noise_type=laplacian, adjusted_pop=2368156.7567961817, error=17.756796181667596, weight=0.22117202268431002))\n"
     ]
    },
    {
     "name": "stderr",
     "output_type": "stream",
     "text": [
      "\r",
      " 46%|████▌     | 184/399 [01:08<01:18,  2.73it/s]"
     ]
    },
    {
     "name": "stdout",
     "output_type": "stream",
     "text": [
      "Node(tag=48, identifier=48, data=GeoUnit(name=48, unnoised_pop=2368139, parent=None, identifier=48, level=0, noised_pop=2368156.7567961817, noise=17.756796181800283, noise_type=laplacian, adjusted_pop=2368156.7567961817, error=17.756796181667596, weight=0.21361058601134217))\n"
     ]
    },
    {
     "name": "stderr",
     "output_type": "stream",
     "text": [
      "\r",
      " 46%|████▋     | 185/399 [01:08<01:18,  2.72it/s]"
     ]
    },
    {
     "name": "stdout",
     "output_type": "stream",
     "text": [
      "Node(tag=48, identifier=48, data=GeoUnit(name=48, unnoised_pop=2368139, parent=None, identifier=48, level=0, noised_pop=2368156.7567961817, noise=17.756796181800283, noise_type=laplacian, adjusted_pop=2368156.7567961817, error=17.756796181667596, weight=0.2514177693761815))\n"
     ]
    },
    {
     "name": "stderr",
     "output_type": "stream",
     "text": [
      "\r",
      " 47%|████▋     | 186/399 [01:09<01:17,  2.74it/s]"
     ]
    },
    {
     "name": "stdout",
     "output_type": "stream",
     "text": [
      "Node(tag=48, identifier=48, data=GeoUnit(name=48, unnoised_pop=2368139, parent=None, identifier=48, level=0, noised_pop=2368156.7567961817, noise=17.756796181800283, noise_type=laplacian, adjusted_pop=2368156.7567961817, error=17.756796181667596, weight=0.2722117202268431))\n"
     ]
    },
    {
     "name": "stderr",
     "output_type": "stream",
     "text": [
      "\r",
      " 47%|████▋     | 187/399 [01:09<01:17,  2.74it/s]"
     ]
    },
    {
     "name": "stdout",
     "output_type": "stream",
     "text": [
      "Node(tag=48, identifier=48, data=GeoUnit(name=48, unnoised_pop=2368139, parent=None, identifier=48, level=0, noised_pop=2368156.7567961817, noise=17.756796181800283, noise_type=laplacian, adjusted_pop=2368156.7567961817, error=17.756796181667596, weight=0.22684310018903592))\n"
     ]
    },
    {
     "name": "stderr",
     "output_type": "stream",
     "text": [
      "\r",
      " 47%|████▋     | 188/399 [01:09<01:16,  2.75it/s]"
     ]
    },
    {
     "name": "stdout",
     "output_type": "stream",
     "text": [
      "Node(tag=48, identifier=48, data=GeoUnit(name=48, unnoised_pop=2368139, parent=None, identifier=48, level=0, noised_pop=2368156.7567961817, noise=17.756796181800283, noise_type=laplacian, adjusted_pop=2368156.7567961817, error=17.756796181667596, weight=0.22306238185255198))\n"
     ]
    },
    {
     "name": "stderr",
     "output_type": "stream",
     "text": [
      "\r",
      " 47%|████▋     | 189/399 [01:10<01:16,  2.76it/s]"
     ]
    },
    {
     "name": "stdout",
     "output_type": "stream",
     "text": [
      "Node(tag=48, identifier=48, data=GeoUnit(name=48, unnoised_pop=2368139, parent=None, identifier=48, level=0, noised_pop=2368156.7567961817, noise=17.756796181800283, noise_type=laplacian, adjusted_pop=2368156.7567961817, error=17.756796181667596, weight=0.30434782608695654))\n"
     ]
    },
    {
     "name": "stderr",
     "output_type": "stream",
     "text": [
      "\r",
      " 48%|████▊     | 190/399 [01:10<01:15,  2.77it/s]"
     ]
    },
    {
     "name": "stdout",
     "output_type": "stream",
     "text": [
      "Node(tag=48, identifier=48, data=GeoUnit(name=48, unnoised_pop=2368139, parent=None, identifier=48, level=0, noised_pop=2368156.7567961817, noise=17.756796181800283, noise_type=laplacian, adjusted_pop=2368156.7567961817, error=17.756796181667596, weight=0.28166351606805295))\n"
     ]
    },
    {
     "name": "stderr",
     "output_type": "stream",
     "text": [
      "\r",
      " 48%|████▊     | 191/399 [01:10<01:14,  2.78it/s]"
     ]
    },
    {
     "name": "stdout",
     "output_type": "stream",
     "text": [
      "Node(tag=48, identifier=48, data=GeoUnit(name=48, unnoised_pop=2368139, parent=None, identifier=48, level=0, noised_pop=2368156.7567961817, noise=17.756796181800283, noise_type=laplacian, adjusted_pop=2368156.7567961817, error=17.756796181667596, weight=0.2495274102079395))\n"
     ]
    },
    {
     "name": "stderr",
     "output_type": "stream",
     "text": [
      "\r",
      " 48%|████▊     | 192/399 [01:11<01:13,  2.80it/s]"
     ]
    },
    {
     "name": "stdout",
     "output_type": "stream",
     "text": [
      "Node(tag=48, identifier=48, data=GeoUnit(name=48, unnoised_pop=2368139, parent=None, identifier=48, level=0, noised_pop=2368156.7567961817, noise=17.756796181800283, noise_type=laplacian, adjusted_pop=2368156.7567961817, error=17.756796181667596, weight=0.27032136105860116))\n"
     ]
    },
    {
     "name": "stderr",
     "output_type": "stream",
     "text": [
      "\r",
      " 48%|████▊     | 193/399 [01:11<01:13,  2.79it/s]"
     ]
    },
    {
     "name": "stdout",
     "output_type": "stream",
     "text": [
      "Node(tag=48, identifier=48, data=GeoUnit(name=48, unnoised_pop=2368139, parent=None, identifier=48, level=0, noised_pop=2368156.7567961817, noise=17.756796181800283, noise_type=laplacian, adjusted_pop=2368156.7567961817, error=17.756796181667596, weight=0.27977315689981097))\n"
     ]
    },
    {
     "name": "stderr",
     "output_type": "stream",
     "text": [
      "\r",
      " 49%|████▊     | 194/399 [01:12<01:14,  2.75it/s]"
     ]
    },
    {
     "name": "stdout",
     "output_type": "stream",
     "text": [
      "Node(tag=48, identifier=48, data=GeoUnit(name=48, unnoised_pop=2368139, parent=None, identifier=48, level=0, noised_pop=2368156.7567961817, noise=17.756796181800283, noise_type=laplacian, adjusted_pop=2368156.7567961817, error=17.756796181667596, weight=0.2589792060491493))\n"
     ]
    },
    {
     "name": "stderr",
     "output_type": "stream",
     "text": [
      "\r",
      " 49%|████▉     | 195/399 [01:12<01:15,  2.72it/s]"
     ]
    },
    {
     "name": "stdout",
     "output_type": "stream",
     "text": [
      "Node(tag=48, identifier=48, data=GeoUnit(name=48, unnoised_pop=2368139, parent=None, identifier=48, level=0, noised_pop=2368156.7567961817, noise=17.756796181800283, noise_type=laplacian, adjusted_pop=2368156.7567961817, error=17.756796181667596, weight=0.22306238185255198))\n"
     ]
    },
    {
     "name": "stderr",
     "output_type": "stream",
     "text": [
      "\r",
      " 49%|████▉     | 196/399 [01:12<01:14,  2.71it/s]"
     ]
    },
    {
     "name": "stdout",
     "output_type": "stream",
     "text": [
      "Node(tag=48, identifier=48, data=GeoUnit(name=48, unnoised_pop=2368139, parent=None, identifier=48, level=0, noised_pop=2368156.7567961817, noise=17.756796181800283, noise_type=laplacian, adjusted_pop=2368156.7567961817, error=17.756796181667596, weight=0.27032136105860116))\n"
     ]
    },
    {
     "name": "stderr",
     "output_type": "stream",
     "text": [
      "\r",
      " 49%|████▉     | 197/399 [01:13<01:14,  2.70it/s]"
     ]
    },
    {
     "name": "stdout",
     "output_type": "stream",
     "text": [
      "Node(tag=48, identifier=48, data=GeoUnit(name=48, unnoised_pop=2368139, parent=None, identifier=48, level=0, noised_pop=2368156.7567961817, noise=17.756796181800283, noise_type=laplacian, adjusted_pop=2368156.7567961817, error=17.756796181667596, weight=0.27032136105860116))\n"
     ]
    },
    {
     "name": "stderr",
     "output_type": "stream",
     "text": [
      "\r",
      " 50%|████▉     | 198/399 [01:13<01:14,  2.71it/s]"
     ]
    },
    {
     "name": "stdout",
     "output_type": "stream",
     "text": [
      "Node(tag=48, identifier=48, data=GeoUnit(name=48, unnoised_pop=2368139, parent=None, identifier=48, level=0, noised_pop=2368156.7567961817, noise=17.756796181800283, noise_type=laplacian, adjusted_pop=2368156.7567961817, error=17.756796181667596, weight=0.28544423440453687))\n"
     ]
    },
    {
     "name": "stderr",
     "output_type": "stream",
     "text": [
      "\r",
      " 50%|████▉     | 199/399 [01:13<01:13,  2.74it/s]"
     ]
    },
    {
     "name": "stdout",
     "output_type": "stream",
     "text": [
      "Node(tag=48, identifier=48, data=GeoUnit(name=48, unnoised_pop=2368139, parent=None, identifier=48, level=0, noised_pop=2368156.7567961817, noise=17.756796181800283, noise_type=laplacian, adjusted_pop=2368156.7567961817, error=17.756796181667596, weight=0.27977315689981097))\n"
     ]
    },
    {
     "name": "stderr",
     "output_type": "stream",
     "text": [
      "\r",
      " 50%|█████     | 200/399 [01:14<01:12,  2.76it/s]"
     ]
    },
    {
     "name": "stdout",
     "output_type": "stream",
     "text": [
      "Node(tag=48, identifier=48, data=GeoUnit(name=48, unnoised_pop=2368139, parent=None, identifier=48, level=0, noised_pop=2368156.7567961817, noise=17.756796181800283, noise_type=laplacian, adjusted_pop=2368156.7567961817, error=17.756796181667596, weight=0.22684310018903592))\n"
     ]
    },
    {
     "name": "stderr",
     "output_type": "stream",
     "text": [
      "\r",
      " 50%|█████     | 201/399 [01:14<01:10,  2.79it/s]"
     ]
    },
    {
     "name": "stdout",
     "output_type": "stream",
     "text": [
      "Node(tag=48, identifier=48, data=GeoUnit(name=48, unnoised_pop=2368139, parent=None, identifier=48, level=0, noised_pop=2368156.7567961817, noise=17.756796181800283, noise_type=laplacian, adjusted_pop=2368156.7567961817, error=17.756796181667596, weight=0.24196597353497165))\n"
     ]
    },
    {
     "name": "stderr",
     "output_type": "stream",
     "text": [
      "\r",
      " 51%|█████     | 202/399 [01:14<01:10,  2.81it/s]"
     ]
    },
    {
     "name": "stdout",
     "output_type": "stream",
     "text": [
      "Node(tag=48, identifier=48, data=GeoUnit(name=48, unnoised_pop=2368139, parent=None, identifier=48, level=0, noised_pop=2368156.7567961817, noise=17.756796181800283, noise_type=laplacian, adjusted_pop=2368156.7567961817, error=17.756796181667596, weight=0.29111531190926276))\n"
     ]
    },
    {
     "name": "stderr",
     "output_type": "stream",
     "text": [
      "\r",
      " 51%|█████     | 203/399 [01:15<01:09,  2.82it/s]"
     ]
    },
    {
     "name": "stdout",
     "output_type": "stream",
     "text": [
      "Node(tag=48, identifier=48, data=GeoUnit(name=48, unnoised_pop=2368139, parent=None, identifier=48, level=0, noised_pop=2368156.7567961817, noise=17.756796181800283, noise_type=laplacian, adjusted_pop=2368156.7567961817, error=17.756796181667596, weight=0.2892249527410208))\n"
     ]
    },
    {
     "name": "stderr",
     "output_type": "stream",
     "text": [
      "\r",
      " 51%|█████     | 204/399 [01:15<01:09,  2.82it/s]"
     ]
    },
    {
     "name": "stdout",
     "output_type": "stream",
     "text": [
      "Node(tag=48, identifier=48, data=GeoUnit(name=48, unnoised_pop=2368139, parent=None, identifier=48, level=0, noised_pop=2368156.7567961817, noise=17.756796181800283, noise_type=laplacian, adjusted_pop=2368156.7567961817, error=17.756796181667596, weight=0.22873345935727787))\n"
     ]
    },
    {
     "name": "stderr",
     "output_type": "stream",
     "text": [
      "\r",
      " 51%|█████▏    | 205/399 [01:16<01:08,  2.81it/s]"
     ]
    },
    {
     "name": "stdout",
     "output_type": "stream",
     "text": [
      "Node(tag=48, identifier=48, data=GeoUnit(name=48, unnoised_pop=2368139, parent=None, identifier=48, level=0, noised_pop=2368156.7567961817, noise=17.756796181800283, noise_type=laplacian, adjusted_pop=2368156.7567961817, error=17.756796181667596, weight=0.28733459357277885))\n"
     ]
    },
    {
     "name": "stderr",
     "output_type": "stream",
     "text": [
      "\r",
      " 52%|█████▏    | 206/399 [01:16<01:10,  2.74it/s]"
     ]
    },
    {
     "name": "stdout",
     "output_type": "stream",
     "text": [
      "Node(tag=48, identifier=48, data=GeoUnit(name=48, unnoised_pop=2368139, parent=None, identifier=48, level=0, noised_pop=2368156.7567961817, noise=17.756796181800283, noise_type=laplacian, adjusted_pop=2368156.7567961817, error=17.756796181667596, weight=0.2570888468809074))\n"
     ]
    },
    {
     "name": "stderr",
     "output_type": "stream",
     "text": [
      "\r",
      " 52%|█████▏    | 207/399 [01:16<01:10,  2.73it/s]"
     ]
    },
    {
     "name": "stdout",
     "output_type": "stream",
     "text": [
      "Node(tag=48, identifier=48, data=GeoUnit(name=48, unnoised_pop=2368139, parent=None, identifier=48, level=0, noised_pop=2368156.7567961817, noise=17.756796181800283, noise_type=laplacian, adjusted_pop=2368156.7567961817, error=17.756796181667596, weight=0.21361058601134217))\n"
     ]
    },
    {
     "name": "stderr",
     "output_type": "stream",
     "text": [
      "\r",
      " 52%|█████▏    | 208/399 [01:17<01:09,  2.75it/s]"
     ]
    },
    {
     "name": "stdout",
     "output_type": "stream",
     "text": [
      "Node(tag=48, identifier=48, data=GeoUnit(name=48, unnoised_pop=2368139, parent=None, identifier=48, level=0, noised_pop=2368156.7567961817, noise=17.756796181800283, noise_type=laplacian, adjusted_pop=2368156.7567961817, error=17.756796181667596, weight=0.28544423440453687))\n"
     ]
    },
    {
     "name": "stderr",
     "output_type": "stream",
     "text": [
      "\r",
      " 52%|█████▏    | 209/399 [01:17<01:10,  2.71it/s]"
     ]
    },
    {
     "name": "stdout",
     "output_type": "stream",
     "text": [
      "Node(tag=48, identifier=48, data=GeoUnit(name=48, unnoised_pop=2368139, parent=None, identifier=48, level=0, noised_pop=2368156.7567961817, noise=17.756796181800283, noise_type=laplacian, adjusted_pop=2368156.7567961817, error=17.756796181667596, weight=0.277882797731569))\n"
     ]
    },
    {
     "name": "stderr",
     "output_type": "stream",
     "text": [
      "\r",
      " 53%|█████▎    | 210/399 [01:17<01:08,  2.74it/s]"
     ]
    },
    {
     "name": "stdout",
     "output_type": "stream",
     "text": [
      "Node(tag=48, identifier=48, data=GeoUnit(name=48, unnoised_pop=2368139, parent=None, identifier=48, level=0, noised_pop=2368156.7567961817, noise=17.756796181800283, noise_type=laplacian, adjusted_pop=2368156.7567961817, error=17.756796181667596, weight=0.2892249527410208))\n"
     ]
    },
    {
     "name": "stderr",
     "output_type": "stream",
     "text": [
      "\r",
      " 53%|█████▎    | 211/399 [01:18<01:08,  2.74it/s]"
     ]
    },
    {
     "name": "stdout",
     "output_type": "stream",
     "text": [
      "Node(tag=48, identifier=48, data=GeoUnit(name=48, unnoised_pop=2368139, parent=None, identifier=48, level=0, noised_pop=2368156.7567961817, noise=17.756796181800283, noise_type=laplacian, adjusted_pop=2368156.7567961817, error=17.756796181667596, weight=0.19848771266540643))\n"
     ]
    },
    {
     "name": "stderr",
     "output_type": "stream",
     "text": [
      "\r",
      " 53%|█████▎    | 212/399 [01:18<01:08,  2.72it/s]"
     ]
    },
    {
     "name": "stdout",
     "output_type": "stream",
     "text": [
      "Node(tag=48, identifier=48, data=GeoUnit(name=48, unnoised_pop=2368139, parent=None, identifier=48, level=0, noised_pop=2368156.7567961817, noise=17.756796181800283, noise_type=laplacian, adjusted_pop=2368156.7567961817, error=17.756796181667596, weight=0.1947069943289225))\n"
     ]
    },
    {
     "name": "stderr",
     "output_type": "stream",
     "text": [
      "\r",
      " 53%|█████▎    | 213/399 [01:18<01:08,  2.72it/s]"
     ]
    },
    {
     "name": "stdout",
     "output_type": "stream",
     "text": [
      "Node(tag=48, identifier=48, data=GeoUnit(name=48, unnoised_pop=2368139, parent=None, identifier=48, level=0, noised_pop=2368156.7567961817, noise=17.756796181800283, noise_type=laplacian, adjusted_pop=2368156.7567961817, error=17.756796181667596, weight=0.22495274102079396))\n"
     ]
    },
    {
     "name": "stderr",
     "output_type": "stream",
     "text": [
      "\r",
      " 54%|█████▎    | 214/399 [01:19<01:08,  2.69it/s]"
     ]
    },
    {
     "name": "stdout",
     "output_type": "stream",
     "text": [
      "Node(tag=48, identifier=48, data=GeoUnit(name=48, unnoised_pop=2368139, parent=None, identifier=48, level=0, noised_pop=2368156.7567961817, noise=17.756796181800283, noise_type=laplacian, adjusted_pop=2368156.7567961817, error=17.756796181667596, weight=0.23440453686200377))\n"
     ]
    },
    {
     "name": "stderr",
     "output_type": "stream",
     "text": [
      "\r",
      " 54%|█████▍    | 215/399 [01:19<01:08,  2.69it/s]"
     ]
    },
    {
     "name": "stdout",
     "output_type": "stream",
     "text": [
      "Node(tag=48, identifier=48, data=GeoUnit(name=48, unnoised_pop=2368139, parent=None, identifier=48, level=0, noised_pop=2368156.7567961817, noise=17.756796181800283, noise_type=laplacian, adjusted_pop=2368156.7567961817, error=17.756796181667596, weight=0.21928166351606806))\n"
     ]
    },
    {
     "name": "stderr",
     "output_type": "stream",
     "text": [
      "\r",
      " 54%|█████▍    | 216/399 [01:20<01:08,  2.66it/s]"
     ]
    },
    {
     "name": "stdout",
     "output_type": "stream",
     "text": [
      "Node(tag=48, identifier=48, data=GeoUnit(name=48, unnoised_pop=2368139, parent=None, identifier=48, level=0, noised_pop=2368156.7567961817, noise=17.756796181800283, noise_type=laplacian, adjusted_pop=2368156.7567961817, error=17.756796181667596, weight=0.2646502835538752))\n"
     ]
    },
    {
     "name": "stderr",
     "output_type": "stream",
     "text": [
      "\r",
      " 54%|█████▍    | 217/399 [01:20<01:08,  2.67it/s]"
     ]
    },
    {
     "name": "stdout",
     "output_type": "stream",
     "text": [
      "Node(tag=48, identifier=48, data=GeoUnit(name=48, unnoised_pop=2368139, parent=None, identifier=48, level=0, noised_pop=2368156.7567961817, noise=17.756796181800283, noise_type=laplacian, adjusted_pop=2368156.7567961817, error=17.756796181667596, weight=0.23062381852551986))\n"
     ]
    },
    {
     "name": "stderr",
     "output_type": "stream",
     "text": [
      "\r",
      " 55%|█████▍    | 218/399 [01:20<01:08,  2.66it/s]"
     ]
    },
    {
     "name": "stdout",
     "output_type": "stream",
     "text": [
      "Node(tag=48, identifier=48, data=GeoUnit(name=48, unnoised_pop=2368139, parent=None, identifier=48, level=0, noised_pop=2368156.7567961817, noise=17.756796181800283, noise_type=laplacian, adjusted_pop=2368156.7567961817, error=17.756796181667596, weight=0.23062381852551986))\n"
     ]
    },
    {
     "name": "stderr",
     "output_type": "stream",
     "text": [
      "\r",
      " 55%|█████▍    | 219/399 [01:21<01:08,  2.62it/s]"
     ]
    },
    {
     "name": "stdout",
     "output_type": "stream",
     "text": [
      "Node(tag=48, identifier=48, data=GeoUnit(name=48, unnoised_pop=2368139, parent=None, identifier=48, level=0, noised_pop=2368156.7567961817, noise=17.756796181800283, noise_type=laplacian, adjusted_pop=2368156.7567961817, error=17.756796181667596, weight=0.30245746691871456))\n"
     ]
    },
    {
     "name": "stderr",
     "output_type": "stream",
     "text": [
      "\r",
      " 55%|█████▌    | 220/399 [01:21<01:08,  2.59it/s]"
     ]
    },
    {
     "name": "stdout",
     "output_type": "stream",
     "text": [
      "Node(tag=48, identifier=48, data=GeoUnit(name=48, unnoised_pop=2368139, parent=None, identifier=48, level=0, noised_pop=2368156.7567961817, noise=17.756796181800283, noise_type=laplacian, adjusted_pop=2368156.7567961817, error=17.756796181667596, weight=0.31758034026465026))\n"
     ]
    },
    {
     "name": "stderr",
     "output_type": "stream",
     "text": [
      "\r",
      " 55%|█████▌    | 221/399 [01:22<01:08,  2.59it/s]"
     ]
    },
    {
     "name": "stdout",
     "output_type": "stream",
     "text": [
      "Node(tag=48, identifier=48, data=GeoUnit(name=48, unnoised_pop=2368139, parent=None, identifier=48, level=0, noised_pop=2368156.7567961817, noise=17.756796181800283, noise_type=laplacian, adjusted_pop=2368156.7567961817, error=17.756796181667596, weight=0.277882797731569))\n"
     ]
    },
    {
     "name": "stderr",
     "output_type": "stream",
     "text": [
      "\r",
      " 56%|█████▌    | 222/399 [01:22<01:07,  2.62it/s]"
     ]
    },
    {
     "name": "stdout",
     "output_type": "stream",
     "text": [
      "Node(tag=48, identifier=48, data=GeoUnit(name=48, unnoised_pop=2368139, parent=None, identifier=48, level=0, noised_pop=2368156.7567961817, noise=17.756796181800283, noise_type=laplacian, adjusted_pop=2368156.7567961817, error=17.756796181667596, weight=0.21550094517958412))\n"
     ]
    },
    {
     "name": "stderr",
     "output_type": "stream",
     "text": [
      "\r",
      " 56%|█████▌    | 223/399 [01:22<01:07,  2.62it/s]"
     ]
    },
    {
     "name": "stdout",
     "output_type": "stream",
     "text": [
      "Node(tag=48, identifier=48, data=GeoUnit(name=48, unnoised_pop=2368139, parent=None, identifier=48, level=0, noised_pop=2368156.7567961817, noise=17.756796181800283, noise_type=laplacian, adjusted_pop=2368156.7567961817, error=17.756796181667596, weight=0.2646502835538752))\n"
     ]
    },
    {
     "name": "stderr",
     "output_type": "stream",
     "text": [
      "\r",
      " 56%|█████▌    | 224/399 [01:23<01:07,  2.60it/s]"
     ]
    },
    {
     "name": "stdout",
     "output_type": "stream",
     "text": [
      "Node(tag=48, identifier=48, data=GeoUnit(name=48, unnoised_pop=2368139, parent=None, identifier=48, level=0, noised_pop=2368156.7567961817, noise=17.756796181800283, noise_type=laplacian, adjusted_pop=2368156.7567961817, error=17.756796181667596, weight=0.22684310018903592))\n"
     ]
    },
    {
     "name": "stderr",
     "output_type": "stream",
     "text": [
      "\r",
      " 56%|█████▋    | 225/399 [01:23<01:06,  2.61it/s]"
     ]
    },
    {
     "name": "stdout",
     "output_type": "stream",
     "text": [
      "Node(tag=48, identifier=48, data=GeoUnit(name=48, unnoised_pop=2368139, parent=None, identifier=48, level=0, noised_pop=2368156.7567961817, noise=17.756796181800283, noise_type=laplacian, adjusted_pop=2368156.7567961817, error=17.756796181667596, weight=0.2741020793950851))\n"
     ]
    },
    {
     "name": "stderr",
     "output_type": "stream",
     "text": [
      "\r",
      " 57%|█████▋    | 226/399 [01:23<01:06,  2.61it/s]"
     ]
    },
    {
     "name": "stdout",
     "output_type": "stream",
     "text": [
      "Node(tag=48, identifier=48, data=GeoUnit(name=48, unnoised_pop=2368139, parent=None, identifier=48, level=0, noised_pop=2368156.7567961817, noise=17.756796181800283, noise_type=laplacian, adjusted_pop=2368156.7567961817, error=17.756796181667596, weight=0.2551984877126654))\n"
     ]
    },
    {
     "name": "stderr",
     "output_type": "stream",
     "text": [
      "\r",
      " 57%|█████▋    | 227/399 [01:24<01:05,  2.61it/s]"
     ]
    },
    {
     "name": "stdout",
     "output_type": "stream",
     "text": [
      "Node(tag=48, identifier=48, data=GeoUnit(name=48, unnoised_pop=2368139, parent=None, identifier=48, level=0, noised_pop=2368156.7567961817, noise=17.756796181800283, noise_type=laplacian, adjusted_pop=2368156.7567961817, error=17.756796181667596, weight=0.28733459357277885))\n"
     ]
    },
    {
     "name": "stderr",
     "output_type": "stream",
     "text": [
      "\r",
      " 57%|█████▋    | 228/399 [01:24<01:05,  2.63it/s]"
     ]
    },
    {
     "name": "stdout",
     "output_type": "stream",
     "text": [
      "Node(tag=48, identifier=48, data=GeoUnit(name=48, unnoised_pop=2368139, parent=None, identifier=48, level=0, noised_pop=2368156.7567961817, noise=17.756796181800283, noise_type=laplacian, adjusted_pop=2368156.7567961817, error=17.756796181667596, weight=0.21550094517958412))\n"
     ]
    },
    {
     "name": "stderr",
     "output_type": "stream",
     "text": [
      "\r",
      " 57%|█████▋    | 229/399 [01:25<01:04,  2.64it/s]"
     ]
    },
    {
     "name": "stdout",
     "output_type": "stream",
     "text": [
      "Node(tag=48, identifier=48, data=GeoUnit(name=48, unnoised_pop=2368139, parent=None, identifier=48, level=0, noised_pop=2368156.7567961817, noise=17.756796181800283, noise_type=laplacian, adjusted_pop=2368156.7567961817, error=17.756796181667596, weight=0.27032136105860116))\n"
     ]
    },
    {
     "name": "stderr",
     "output_type": "stream",
     "text": [
      "\r",
      " 58%|█████▊    | 230/399 [01:25<01:04,  2.64it/s]"
     ]
    },
    {
     "name": "stdout",
     "output_type": "stream",
     "text": [
      "Node(tag=48, identifier=48, data=GeoUnit(name=48, unnoised_pop=2368139, parent=None, identifier=48, level=0, noised_pop=2368156.7567961817, noise=17.756796181800283, noise_type=laplacian, adjusted_pop=2368156.7567961817, error=17.756796181667596, weight=0.22873345935727787))\n"
     ]
    },
    {
     "name": "stderr",
     "output_type": "stream",
     "text": [
      "\r",
      " 58%|█████▊    | 231/399 [01:25<01:03,  2.64it/s]"
     ]
    },
    {
     "name": "stdout",
     "output_type": "stream",
     "text": [
      "Node(tag=48, identifier=48, data=GeoUnit(name=48, unnoised_pop=2368139, parent=None, identifier=48, level=0, noised_pop=2368156.7567961817, noise=17.756796181800283, noise_type=laplacian, adjusted_pop=2368156.7567961817, error=17.756796181667596, weight=0.2514177693761815))\n"
     ]
    },
    {
     "name": "stderr",
     "output_type": "stream",
     "text": [
      "\r",
      " 58%|█████▊    | 232/399 [01:26<01:02,  2.65it/s]"
     ]
    },
    {
     "name": "stdout",
     "output_type": "stream",
     "text": [
      "Node(tag=48, identifier=48, data=GeoUnit(name=48, unnoised_pop=2368139, parent=None, identifier=48, level=0, noised_pop=2368156.7567961817, noise=17.756796181800283, noise_type=laplacian, adjusted_pop=2368156.7567961817, error=17.756796181667596, weight=0.28544423440453687))\n"
     ]
    },
    {
     "name": "stderr",
     "output_type": "stream",
     "text": [
      "\r",
      " 58%|█████▊    | 233/399 [01:26<01:02,  2.67it/s]"
     ]
    },
    {
     "name": "stdout",
     "output_type": "stream",
     "text": [
      "Node(tag=48, identifier=48, data=GeoUnit(name=48, unnoised_pop=2368139, parent=None, identifier=48, level=0, noised_pop=2368156.7567961817, noise=17.756796181800283, noise_type=laplacian, adjusted_pop=2368156.7567961817, error=17.756796181667596, weight=0.20793950850661624))\n"
     ]
    },
    {
     "name": "stderr",
     "output_type": "stream",
     "text": [
      "\r",
      " 59%|█████▊    | 234/399 [01:26<01:02,  2.64it/s]"
     ]
    },
    {
     "name": "stdout",
     "output_type": "stream",
     "text": [
      "Node(tag=48, identifier=48, data=GeoUnit(name=48, unnoised_pop=2368139, parent=None, identifier=48, level=0, noised_pop=2368156.7567961817, noise=17.756796181800283, noise_type=laplacian, adjusted_pop=2368156.7567961817, error=17.756796181667596, weight=0.24763705103969755))\n"
     ]
    },
    {
     "name": "stderr",
     "output_type": "stream",
     "text": [
      "\r",
      " 59%|█████▉    | 235/399 [01:27<01:02,  2.63it/s]"
     ]
    },
    {
     "name": "stdout",
     "output_type": "stream",
     "text": [
      "Node(tag=48, identifier=48, data=GeoUnit(name=48, unnoised_pop=2368139, parent=None, identifier=48, level=0, noised_pop=2368156.7567961817, noise=17.756796181800283, noise_type=laplacian, adjusted_pop=2368156.7567961817, error=17.756796181667596, weight=0.29111531190926276))\n"
     ]
    },
    {
     "name": "stderr",
     "output_type": "stream",
     "text": [
      "\r",
      " 59%|█████▉    | 236/399 [01:27<01:01,  2.66it/s]"
     ]
    },
    {
     "name": "stdout",
     "output_type": "stream",
     "text": [
      "Node(tag=48, identifier=48, data=GeoUnit(name=48, unnoised_pop=2368139, parent=None, identifier=48, level=0, noised_pop=2368156.7567961817, noise=17.756796181800283, noise_type=laplacian, adjusted_pop=2368156.7567961817, error=17.756796181667596, weight=0.2551984877126654))\n"
     ]
    },
    {
     "name": "stderr",
     "output_type": "stream",
     "text": [
      "\r",
      " 59%|█████▉    | 237/399 [01:28<01:01,  2.65it/s]"
     ]
    },
    {
     "name": "stdout",
     "output_type": "stream",
     "text": [
      "Node(tag=48, identifier=48, data=GeoUnit(name=48, unnoised_pop=2368139, parent=None, identifier=48, level=0, noised_pop=2368156.7567961817, noise=17.756796181800283, noise_type=laplacian, adjusted_pop=2368156.7567961817, error=17.756796181667596, weight=0.23251417769376181))\n"
     ]
    },
    {
     "name": "stderr",
     "output_type": "stream",
     "text": [
      "\r",
      " 60%|█████▉    | 238/399 [01:28<01:00,  2.64it/s]"
     ]
    },
    {
     "name": "stdout",
     "output_type": "stream",
     "text": [
      "Node(tag=48, identifier=48, data=GeoUnit(name=48, unnoised_pop=2368139, parent=None, identifier=48, level=0, noised_pop=2368156.7567961817, noise=17.756796181800283, noise_type=laplacian, adjusted_pop=2368156.7567961817, error=17.756796181667596, weight=0.21739130434782608))\n"
     ]
    },
    {
     "name": "stderr",
     "output_type": "stream",
     "text": [
      "\r",
      " 60%|█████▉    | 239/399 [01:28<01:00,  2.64it/s]"
     ]
    },
    {
     "name": "stdout",
     "output_type": "stream",
     "text": [
      "Node(tag=48, identifier=48, data=GeoUnit(name=48, unnoised_pop=2368139, parent=None, identifier=48, level=0, noised_pop=2368156.7567961817, noise=17.756796181800283, noise_type=laplacian, adjusted_pop=2368156.7567961817, error=17.756796181667596, weight=0.27977315689981097))\n"
     ]
    },
    {
     "name": "stderr",
     "output_type": "stream",
     "text": [
      "\r",
      " 60%|██████    | 240/399 [01:29<00:59,  2.67it/s]"
     ]
    },
    {
     "name": "stdout",
     "output_type": "stream",
     "text": [
      "Node(tag=48, identifier=48, data=GeoUnit(name=48, unnoised_pop=2368139, parent=None, identifier=48, level=0, noised_pop=2368156.7567961817, noise=17.756796181800283, noise_type=laplacian, adjusted_pop=2368156.7567961817, error=17.756796181667596, weight=0.27977315689981097))\n"
     ]
    },
    {
     "name": "stderr",
     "output_type": "stream",
     "text": [
      "\r",
      " 60%|██████    | 241/399 [01:29<00:59,  2.67it/s]"
     ]
    },
    {
     "name": "stdout",
     "output_type": "stream",
     "text": [
      "Node(tag=48, identifier=48, data=GeoUnit(name=48, unnoised_pop=2368139, parent=None, identifier=48, level=0, noised_pop=2368156.7567961817, noise=17.756796181800283, noise_type=laplacian, adjusted_pop=2368156.7567961817, error=17.756796181667596, weight=0.2514177693761815))\n"
     ]
    },
    {
     "name": "stderr",
     "output_type": "stream",
     "text": [
      "\r",
      " 61%|██████    | 242/399 [01:29<00:58,  2.69it/s]"
     ]
    },
    {
     "name": "stdout",
     "output_type": "stream",
     "text": [
      "Node(tag=48, identifier=48, data=GeoUnit(name=48, unnoised_pop=2368139, parent=None, identifier=48, level=0, noised_pop=2368156.7567961817, noise=17.756796181800283, noise_type=laplacian, adjusted_pop=2368156.7567961817, error=17.756796181667596, weight=0.2495274102079395))\n"
     ]
    },
    {
     "name": "stderr",
     "output_type": "stream",
     "text": [
      "\r",
      " 61%|██████    | 243/399 [01:30<00:57,  2.69it/s]"
     ]
    },
    {
     "name": "stdout",
     "output_type": "stream",
     "text": [
      "Node(tag=48, identifier=48, data=GeoUnit(name=48, unnoised_pop=2368139, parent=None, identifier=48, level=0, noised_pop=2368156.7567961817, noise=17.756796181800283, noise_type=laplacian, adjusted_pop=2368156.7567961817, error=17.756796181667596, weight=0.23251417769376181))\n"
     ]
    },
    {
     "name": "stderr",
     "output_type": "stream",
     "text": [
      "\r",
      " 61%|██████    | 244/399 [01:30<00:56,  2.72it/s]"
     ]
    },
    {
     "name": "stdout",
     "output_type": "stream",
     "text": [
      "Node(tag=48, identifier=48, data=GeoUnit(name=48, unnoised_pop=2368139, parent=None, identifier=48, level=0, noised_pop=2368156.7567961817, noise=17.756796181800283, noise_type=laplacian, adjusted_pop=2368156.7567961817, error=17.756796181667596, weight=0.2665406427221172))\n"
     ]
    },
    {
     "name": "stderr",
     "output_type": "stream",
     "text": [
      "\r",
      " 61%|██████▏   | 245/399 [01:31<00:56,  2.71it/s]"
     ]
    },
    {
     "name": "stdout",
     "output_type": "stream",
     "text": [
      "Node(tag=48, identifier=48, data=GeoUnit(name=48, unnoised_pop=2368139, parent=None, identifier=48, level=0, noised_pop=2368156.7567961817, noise=17.756796181800283, noise_type=laplacian, adjusted_pop=2368156.7567961817, error=17.756796181667596, weight=0.22117202268431002))\n"
     ]
    },
    {
     "name": "stderr",
     "output_type": "stream",
     "text": [
      "\r",
      " 62%|██████▏   | 246/399 [01:31<00:56,  2.71it/s]"
     ]
    },
    {
     "name": "stdout",
     "output_type": "stream",
     "text": [
      "Node(tag=48, identifier=48, data=GeoUnit(name=48, unnoised_pop=2368139, parent=None, identifier=48, level=0, noised_pop=2368156.7567961817, noise=17.756796181800283, noise_type=laplacian, adjusted_pop=2368156.7567961817, error=17.756796181667596, weight=0.2892249527410208))\n"
     ]
    },
    {
     "name": "stderr",
     "output_type": "stream",
     "text": [
      "\r",
      " 62%|██████▏   | 247/399 [01:31<00:56,  2.69it/s]"
     ]
    },
    {
     "name": "stdout",
     "output_type": "stream",
     "text": [
      "Node(tag=48, identifier=48, data=GeoUnit(name=48, unnoised_pop=2368139, parent=None, identifier=48, level=0, noised_pop=2368156.7567961817, noise=17.756796181800283, noise_type=laplacian, adjusted_pop=2368156.7567961817, error=17.756796181667596, weight=0.23629489603024575))\n"
     ]
    },
    {
     "name": "stderr",
     "output_type": "stream",
     "text": [
      "\r",
      " 62%|██████▏   | 248/399 [01:32<00:56,  2.69it/s]"
     ]
    },
    {
     "name": "stdout",
     "output_type": "stream",
     "text": [
      "Node(tag=48, identifier=48, data=GeoUnit(name=48, unnoised_pop=2368139, parent=None, identifier=48, level=0, noised_pop=2368156.7567961817, noise=17.756796181800283, noise_type=laplacian, adjusted_pop=2368156.7567961817, error=17.756796181667596, weight=0.21550094517958412))\n"
     ]
    },
    {
     "name": "stderr",
     "output_type": "stream",
     "text": [
      "\r",
      " 62%|██████▏   | 249/399 [01:32<00:54,  2.73it/s]"
     ]
    },
    {
     "name": "stdout",
     "output_type": "stream",
     "text": [
      "Node(tag=48, identifier=48, data=GeoUnit(name=48, unnoised_pop=2368139, parent=None, identifier=48, level=0, noised_pop=2368156.7567961817, noise=17.756796181800283, noise_type=laplacian, adjusted_pop=2368156.7567961817, error=17.756796181667596, weight=0.24763705103969755))\n"
     ]
    },
    {
     "name": "stderr",
     "output_type": "stream",
     "text": [
      "\r",
      " 63%|██████▎   | 250/399 [01:32<00:54,  2.75it/s]"
     ]
    },
    {
     "name": "stdout",
     "output_type": "stream",
     "text": [
      "Node(tag=48, identifier=48, data=GeoUnit(name=48, unnoised_pop=2368139, parent=None, identifier=48, level=0, noised_pop=2368156.7567961817, noise=17.756796181800283, noise_type=laplacian, adjusted_pop=2368156.7567961817, error=17.756796181667596, weight=0.2948960302457467))\n"
     ]
    },
    {
     "name": "stderr",
     "output_type": "stream",
     "text": [
      "\r",
      " 63%|██████▎   | 251/399 [01:33<00:53,  2.76it/s]"
     ]
    },
    {
     "name": "stdout",
     "output_type": "stream",
     "text": [
      "Node(tag=48, identifier=48, data=GeoUnit(name=48, unnoised_pop=2368139, parent=None, identifier=48, level=0, noised_pop=2368156.7567961817, noise=17.756796181800283, noise_type=laplacian, adjusted_pop=2368156.7567961817, error=17.756796181667596, weight=0.24196597353497165))\n"
     ]
    },
    {
     "name": "stderr",
     "output_type": "stream",
     "text": [
      "\r",
      " 63%|██████▎   | 252/399 [01:33<00:52,  2.78it/s]"
     ]
    },
    {
     "name": "stdout",
     "output_type": "stream",
     "text": [
      "Node(tag=48, identifier=48, data=GeoUnit(name=48, unnoised_pop=2368139, parent=None, identifier=48, level=0, noised_pop=2368156.7567961817, noise=17.756796181800283, noise_type=laplacian, adjusted_pop=2368156.7567961817, error=17.756796181667596, weight=0.2533081285444234))\n"
     ]
    },
    {
     "name": "stderr",
     "output_type": "stream",
     "text": [
      "\r",
      " 63%|██████▎   | 253/399 [01:33<00:52,  2.79it/s]"
     ]
    },
    {
     "name": "stdout",
     "output_type": "stream",
     "text": [
      "Node(tag=48, identifier=48, data=GeoUnit(name=48, unnoised_pop=2368139, parent=None, identifier=48, level=0, noised_pop=2368156.7567961817, noise=17.756796181800283, noise_type=laplacian, adjusted_pop=2368156.7567961817, error=17.756796181667596, weight=0.22873345935727787))\n"
     ]
    },
    {
     "name": "stderr",
     "output_type": "stream",
     "text": [
      "\r",
      " 64%|██████▎   | 254/399 [01:34<00:51,  2.81it/s]"
     ]
    },
    {
     "name": "stdout",
     "output_type": "stream",
     "text": [
      "Node(tag=48, identifier=48, data=GeoUnit(name=48, unnoised_pop=2368139, parent=None, identifier=48, level=0, noised_pop=2368156.7567961817, noise=17.756796181800283, noise_type=laplacian, adjusted_pop=2368156.7567961817, error=17.756796181667596, weight=0.2608695652173913))\n"
     ]
    },
    {
     "name": "stderr",
     "output_type": "stream",
     "text": [
      "\r",
      " 64%|██████▍   | 255/399 [01:34<00:51,  2.82it/s]"
     ]
    },
    {
     "name": "stdout",
     "output_type": "stream",
     "text": [
      "Node(tag=48, identifier=48, data=GeoUnit(name=48, unnoised_pop=2368139, parent=None, identifier=48, level=0, noised_pop=2368156.7567961817, noise=17.756796181800283, noise_type=laplacian, adjusted_pop=2368156.7567961817, error=17.756796181667596, weight=0.2608695652173913))\n"
     ]
    },
    {
     "name": "stderr",
     "output_type": "stream",
     "text": [
      "\r",
      " 64%|██████▍   | 256/399 [01:35<00:50,  2.83it/s]"
     ]
    },
    {
     "name": "stdout",
     "output_type": "stream",
     "text": [
      "Node(tag=48, identifier=48, data=GeoUnit(name=48, unnoised_pop=2368139, parent=None, identifier=48, level=0, noised_pop=2368156.7567961817, noise=17.756796181800283, noise_type=laplacian, adjusted_pop=2368156.7567961817, error=17.756796181667596, weight=0.22873345935727787))\n"
     ]
    },
    {
     "name": "stderr",
     "output_type": "stream",
     "text": [
      "\r",
      " 64%|██████▍   | 257/399 [01:35<00:50,  2.83it/s]"
     ]
    },
    {
     "name": "stdout",
     "output_type": "stream",
     "text": [
      "Node(tag=48, identifier=48, data=GeoUnit(name=48, unnoised_pop=2368139, parent=None, identifier=48, level=0, noised_pop=2368156.7567961817, noise=17.756796181800283, noise_type=laplacian, adjusted_pop=2368156.7567961817, error=17.756796181667596, weight=0.2533081285444234))\n"
     ]
    },
    {
     "name": "stderr",
     "output_type": "stream",
     "text": [
      "\r",
      " 65%|██████▍   | 258/399 [01:35<00:50,  2.79it/s]"
     ]
    },
    {
     "name": "stdout",
     "output_type": "stream",
     "text": [
      "Node(tag=48, identifier=48, data=GeoUnit(name=48, unnoised_pop=2368139, parent=None, identifier=48, level=0, noised_pop=2368156.7567961817, noise=17.756796181800283, noise_type=laplacian, adjusted_pop=2368156.7567961817, error=17.756796181667596, weight=0.20982986767485823))\n"
     ]
    },
    {
     "name": "stderr",
     "output_type": "stream",
     "text": [
      "\r",
      " 65%|██████▍   | 259/399 [01:36<00:50,  2.76it/s]"
     ]
    },
    {
     "name": "stdout",
     "output_type": "stream",
     "text": [
      "Node(tag=48, identifier=48, data=GeoUnit(name=48, unnoised_pop=2368139, parent=None, identifier=48, level=0, noised_pop=2368156.7567961817, noise=17.756796181800283, noise_type=laplacian, adjusted_pop=2368156.7567961817, error=17.756796181667596, weight=0.1947069943289225))\n"
     ]
    },
    {
     "name": "stderr",
     "output_type": "stream",
     "text": [
      "\r",
      " 65%|██████▌   | 260/399 [01:36<00:50,  2.73it/s]"
     ]
    },
    {
     "name": "stdout",
     "output_type": "stream",
     "text": [
      "Node(tag=48, identifier=48, data=GeoUnit(name=48, unnoised_pop=2368139, parent=None, identifier=48, level=0, noised_pop=2368156.7567961817, noise=17.756796181800283, noise_type=laplacian, adjusted_pop=2368156.7567961817, error=17.756796181667596, weight=0.29678638941398866))\n"
     ]
    },
    {
     "name": "stderr",
     "output_type": "stream",
     "text": [
      "\r",
      " 65%|██████▌   | 261/399 [01:36<00:51,  2.69it/s]"
     ]
    },
    {
     "name": "stdout",
     "output_type": "stream",
     "text": [
      "Node(tag=48, identifier=48, data=GeoUnit(name=48, unnoised_pop=2368139, parent=None, identifier=48, level=0, noised_pop=2368156.7567961817, noise=17.756796181800283, noise_type=laplacian, adjusted_pop=2368156.7567961817, error=17.756796181667596, weight=0.24763705103969755))\n"
     ]
    },
    {
     "name": "stderr",
     "output_type": "stream",
     "text": [
      "\r",
      " 66%|██████▌   | 262/399 [01:37<00:51,  2.67it/s]"
     ]
    },
    {
     "name": "stdout",
     "output_type": "stream",
     "text": [
      "Node(tag=48, identifier=48, data=GeoUnit(name=48, unnoised_pop=2368139, parent=None, identifier=48, level=0, noised_pop=2368156.7567961817, noise=17.756796181800283, noise_type=laplacian, adjusted_pop=2368156.7567961817, error=17.756796181667596, weight=0.22117202268431002))\n"
     ]
    },
    {
     "name": "stderr",
     "output_type": "stream",
     "text": [
      "\r",
      " 66%|██████▌   | 263/399 [01:37<00:50,  2.70it/s]"
     ]
    },
    {
     "name": "stdout",
     "output_type": "stream",
     "text": [
      "Node(tag=48, identifier=48, data=GeoUnit(name=48, unnoised_pop=2368139, parent=None, identifier=48, level=0, noised_pop=2368156.7567961817, noise=17.756796181800283, noise_type=laplacian, adjusted_pop=2368156.7567961817, error=17.756796181667596, weight=0.22117202268431002))\n"
     ]
    },
    {
     "name": "stderr",
     "output_type": "stream",
     "text": [
      "\r",
      " 66%|██████▌   | 264/399 [01:37<00:49,  2.74it/s]"
     ]
    },
    {
     "name": "stdout",
     "output_type": "stream",
     "text": [
      "Node(tag=48, identifier=48, data=GeoUnit(name=48, unnoised_pop=2368139, parent=None, identifier=48, level=0, noised_pop=2368156.7567961817, noise=17.756796181800283, noise_type=laplacian, adjusted_pop=2368156.7567961817, error=17.756796181667596, weight=0.27599243856332706))\n"
     ]
    },
    {
     "name": "stderr",
     "output_type": "stream",
     "text": [
      "\r",
      " 66%|██████▋   | 265/399 [01:38<00:48,  2.75it/s]"
     ]
    },
    {
     "name": "stdout",
     "output_type": "stream",
     "text": [
      "Node(tag=48, identifier=48, data=GeoUnit(name=48, unnoised_pop=2368139, parent=None, identifier=48, level=0, noised_pop=2368156.7567961817, noise=17.756796181800283, noise_type=laplacian, adjusted_pop=2368156.7567961817, error=17.756796181667596, weight=0.2835538752362949))\n"
     ]
    },
    {
     "name": "stderr",
     "output_type": "stream",
     "text": [
      "\r",
      " 67%|██████▋   | 266/399 [01:38<00:48,  2.77it/s]"
     ]
    },
    {
     "name": "stdout",
     "output_type": "stream",
     "text": [
      "Node(tag=48, identifier=48, data=GeoUnit(name=48, unnoised_pop=2368139, parent=None, identifier=48, level=0, noised_pop=2368156.7567961817, noise=17.756796181800283, noise_type=laplacian, adjusted_pop=2368156.7567961817, error=17.756796181667596, weight=0.21739130434782608))\n"
     ]
    },
    {
     "name": "stderr",
     "output_type": "stream",
     "text": [
      "\r",
      " 67%|██████▋   | 267/399 [01:39<00:47,  2.79it/s]"
     ]
    },
    {
     "name": "stdout",
     "output_type": "stream",
     "text": [
      "Node(tag=48, identifier=48, data=GeoUnit(name=48, unnoised_pop=2368139, parent=None, identifier=48, level=0, noised_pop=2368156.7567961817, noise=17.756796181800283, noise_type=laplacian, adjusted_pop=2368156.7567961817, error=17.756796181667596, weight=0.2892249527410208))\n"
     ]
    },
    {
     "name": "stderr",
     "output_type": "stream",
     "text": [
      "\r",
      " 67%|██████▋   | 268/399 [01:39<00:46,  2.80it/s]"
     ]
    },
    {
     "name": "stdout",
     "output_type": "stream",
     "text": [
      "Node(tag=48, identifier=48, data=GeoUnit(name=48, unnoised_pop=2368139, parent=None, identifier=48, level=0, noised_pop=2368156.7567961817, noise=17.756796181800283, noise_type=laplacian, adjusted_pop=2368156.7567961817, error=17.756796181667596, weight=0.29300567107750475))\n"
     ]
    },
    {
     "name": "stderr",
     "output_type": "stream",
     "text": [
      "\r",
      " 67%|██████▋   | 269/399 [01:39<00:46,  2.81it/s]"
     ]
    },
    {
     "name": "stdout",
     "output_type": "stream",
     "text": [
      "Node(tag=48, identifier=48, data=GeoUnit(name=48, unnoised_pop=2368139, parent=None, identifier=48, level=0, noised_pop=2368156.7567961817, noise=17.756796181800283, noise_type=laplacian, adjusted_pop=2368156.7567961817, error=17.756796181667596, weight=0.2665406427221172))\n"
     ]
    },
    {
     "name": "stderr",
     "output_type": "stream",
     "text": [
      "\r",
      " 68%|██████▊   | 270/399 [01:40<00:45,  2.81it/s]"
     ]
    },
    {
     "name": "stdout",
     "output_type": "stream",
     "text": [
      "Node(tag=48, identifier=48, data=GeoUnit(name=48, unnoised_pop=2368139, parent=None, identifier=48, level=0, noised_pop=2368156.7567961817, noise=17.756796181800283, noise_type=laplacian, adjusted_pop=2368156.7567961817, error=17.756796181667596, weight=0.28544423440453687))\n"
     ]
    },
    {
     "name": "stderr",
     "output_type": "stream",
     "text": [
      "\r",
      " 68%|██████▊   | 271/399 [01:40<00:45,  2.84it/s]"
     ]
    },
    {
     "name": "stdout",
     "output_type": "stream",
     "text": [
      "Node(tag=48, identifier=48, data=GeoUnit(name=48, unnoised_pop=2368139, parent=None, identifier=48, level=0, noised_pop=2368156.7567961817, noise=17.756796181800283, noise_type=laplacian, adjusted_pop=2368156.7567961817, error=17.756796181667596, weight=0.23251417769376181))\n"
     ]
    },
    {
     "name": "stderr",
     "output_type": "stream",
     "text": [
      "\r",
      " 68%|██████▊   | 272/399 [01:40<00:44,  2.85it/s]"
     ]
    },
    {
     "name": "stdout",
     "output_type": "stream",
     "text": [
      "Node(tag=48, identifier=48, data=GeoUnit(name=48, unnoised_pop=2368139, parent=None, identifier=48, level=0, noised_pop=2368156.7567961817, noise=17.756796181800283, noise_type=laplacian, adjusted_pop=2368156.7567961817, error=17.756796181667596, weight=0.29300567107750475))\n"
     ]
    },
    {
     "name": "stderr",
     "output_type": "stream",
     "text": [
      "\r",
      " 68%|██████▊   | 273/399 [01:41<00:44,  2.85it/s]"
     ]
    },
    {
     "name": "stdout",
     "output_type": "stream",
     "text": [
      "Node(tag=48, identifier=48, data=GeoUnit(name=48, unnoised_pop=2368139, parent=None, identifier=48, level=0, noised_pop=2368156.7567961817, noise=17.756796181800283, noise_type=laplacian, adjusted_pop=2368156.7567961817, error=17.756796181667596, weight=0.2495274102079395))\n"
     ]
    },
    {
     "name": "stderr",
     "output_type": "stream",
     "text": [
      "\r",
      " 69%|██████▊   | 274/399 [01:41<00:44,  2.81it/s]"
     ]
    },
    {
     "name": "stdout",
     "output_type": "stream",
     "text": [
      "Node(tag=48, identifier=48, data=GeoUnit(name=48, unnoised_pop=2368139, parent=None, identifier=48, level=0, noised_pop=2368156.7567961817, noise=17.756796181800283, noise_type=laplacian, adjusted_pop=2368156.7567961817, error=17.756796181667596, weight=0.2381852551984877))\n"
     ]
    },
    {
     "name": "stderr",
     "output_type": "stream",
     "text": [
      "\r",
      " 69%|██████▉   | 275/399 [01:41<00:44,  2.79it/s]"
     ]
    },
    {
     "name": "stdout",
     "output_type": "stream",
     "text": [
      "Node(tag=48, identifier=48, data=GeoUnit(name=48, unnoised_pop=2368139, parent=None, identifier=48, level=0, noised_pop=2368156.7567961817, noise=17.756796181800283, noise_type=laplacian, adjusted_pop=2368156.7567961817, error=17.756796181667596, weight=0.2948960302457467))\n"
     ]
    },
    {
     "name": "stderr",
     "output_type": "stream",
     "text": [
      "\r",
      " 69%|██████▉   | 276/399 [01:42<00:44,  2.76it/s]"
     ]
    },
    {
     "name": "stdout",
     "output_type": "stream",
     "text": [
      "Node(tag=48, identifier=48, data=GeoUnit(name=48, unnoised_pop=2368139, parent=None, identifier=48, level=0, noised_pop=2368156.7567961817, noise=17.756796181800283, noise_type=laplacian, adjusted_pop=2368156.7567961817, error=17.756796181667596, weight=0.30623818525519847))\n"
     ]
    },
    {
     "name": "stderr",
     "output_type": "stream",
     "text": [
      "\r",
      " 69%|██████▉   | 277/399 [01:42<00:44,  2.73it/s]"
     ]
    },
    {
     "name": "stdout",
     "output_type": "stream",
     "text": [
      "Node(tag=48, identifier=48, data=GeoUnit(name=48, unnoised_pop=2368139, parent=None, identifier=48, level=0, noised_pop=2368156.7567961817, noise=17.756796181800283, noise_type=laplacian, adjusted_pop=2368156.7567961817, error=17.756796181667596, weight=0.22873345935727787))\n"
     ]
    },
    {
     "name": "stderr",
     "output_type": "stream",
     "text": [
      "\r",
      " 70%|██████▉   | 278/399 [01:43<00:45,  2.68it/s]"
     ]
    },
    {
     "name": "stdout",
     "output_type": "stream",
     "text": [
      "Node(tag=48, identifier=48, data=GeoUnit(name=48, unnoised_pop=2368139, parent=None, identifier=48, level=0, noised_pop=2368156.7567961817, noise=17.756796181800283, noise_type=laplacian, adjusted_pop=2368156.7567961817, error=17.756796181667596, weight=0.28166351606805295))\n"
     ]
    },
    {
     "name": "stderr",
     "output_type": "stream",
     "text": [
      "\r",
      " 70%|██████▉   | 279/399 [01:43<00:45,  2.67it/s]"
     ]
    },
    {
     "name": "stdout",
     "output_type": "stream",
     "text": [
      "Node(tag=48, identifier=48, data=GeoUnit(name=48, unnoised_pop=2368139, parent=None, identifier=48, level=0, noised_pop=2368156.7567961817, noise=17.756796181800283, noise_type=laplacian, adjusted_pop=2368156.7567961817, error=17.756796181667596, weight=0.2438563327032136))\n"
     ]
    },
    {
     "name": "stderr",
     "output_type": "stream",
     "text": [
      "\r",
      " 70%|███████   | 280/399 [01:43<00:44,  2.70it/s]"
     ]
    },
    {
     "name": "stdout",
     "output_type": "stream",
     "text": [
      "Node(tag=48, identifier=48, data=GeoUnit(name=48, unnoised_pop=2368139, parent=None, identifier=48, level=0, noised_pop=2368156.7567961817, noise=17.756796181800283, noise_type=laplacian, adjusted_pop=2368156.7567961817, error=17.756796181667596, weight=0.22306238185255198))\n"
     ]
    },
    {
     "name": "stderr",
     "output_type": "stream",
     "text": [
      "\r",
      " 70%|███████   | 281/399 [01:44<00:43,  2.73it/s]"
     ]
    },
    {
     "name": "stdout",
     "output_type": "stream",
     "text": [
      "Node(tag=48, identifier=48, data=GeoUnit(name=48, unnoised_pop=2368139, parent=None, identifier=48, level=0, noised_pop=2368156.7567961817, noise=17.756796181800283, noise_type=laplacian, adjusted_pop=2368156.7567961817, error=17.756796181667596, weight=0.28733459357277885))\n"
     ]
    },
    {
     "name": "stderr",
     "output_type": "stream",
     "text": [
      "\r",
      " 71%|███████   | 282/399 [01:44<00:42,  2.73it/s]"
     ]
    },
    {
     "name": "stdout",
     "output_type": "stream",
     "text": [
      "Node(tag=48, identifier=48, data=GeoUnit(name=48, unnoised_pop=2368139, parent=None, identifier=48, level=0, noised_pop=2368156.7567961817, noise=17.756796181800283, noise_type=laplacian, adjusted_pop=2368156.7567961817, error=17.756796181667596, weight=0.2589792060491493))\n"
     ]
    },
    {
     "name": "stderr",
     "output_type": "stream",
     "text": [
      "\r",
      " 71%|███████   | 283/399 [01:44<00:42,  2.74it/s]"
     ]
    },
    {
     "name": "stdout",
     "output_type": "stream",
     "text": [
      "Node(tag=48, identifier=48, data=GeoUnit(name=48, unnoised_pop=2368139, parent=None, identifier=48, level=0, noised_pop=2368156.7567961817, noise=17.756796181800283, noise_type=laplacian, adjusted_pop=2368156.7567961817, error=17.756796181667596, weight=0.20415879017013233))\n"
     ]
    },
    {
     "name": "stderr",
     "output_type": "stream",
     "text": [
      "\r",
      " 71%|███████   | 284/399 [01:45<00:42,  2.69it/s]"
     ]
    },
    {
     "name": "stdout",
     "output_type": "stream",
     "text": [
      "Node(tag=48, identifier=48, data=GeoUnit(name=48, unnoised_pop=2368139, parent=None, identifier=48, level=0, noised_pop=2368156.7567961817, noise=17.756796181800283, noise_type=laplacian, adjusted_pop=2368156.7567961817, error=17.756796181667596, weight=0.2533081285444234))\n"
     ]
    },
    {
     "name": "stderr",
     "output_type": "stream",
     "text": [
      "\r",
      " 71%|███████▏  | 285/399 [01:45<00:42,  2.69it/s]"
     ]
    },
    {
     "name": "stdout",
     "output_type": "stream",
     "text": [
      "Node(tag=48, identifier=48, data=GeoUnit(name=48, unnoised_pop=2368139, parent=None, identifier=48, level=0, noised_pop=2368156.7567961817, noise=17.756796181800283, noise_type=laplacian, adjusted_pop=2368156.7567961817, error=17.756796181667596, weight=0.20415879017013233))\n"
     ]
    },
    {
     "name": "stderr",
     "output_type": "stream",
     "text": [
      "\r",
      " 72%|███████▏  | 286/399 [01:45<00:42,  2.66it/s]"
     ]
    },
    {
     "name": "stdout",
     "output_type": "stream",
     "text": [
      "Node(tag=48, identifier=48, data=GeoUnit(name=48, unnoised_pop=2368139, parent=None, identifier=48, level=0, noised_pop=2368156.7567961817, noise=17.756796181800283, noise_type=laplacian, adjusted_pop=2368156.7567961817, error=17.756796181667596, weight=0.28166351606805295))\n"
     ]
    },
    {
     "name": "stderr",
     "output_type": "stream",
     "text": [
      "\r",
      " 72%|███████▏  | 287/399 [01:46<00:42,  2.61it/s]"
     ]
    },
    {
     "name": "stdout",
     "output_type": "stream",
     "text": [
      "Node(tag=48, identifier=48, data=GeoUnit(name=48, unnoised_pop=2368139, parent=None, identifier=48, level=0, noised_pop=2368156.7567961817, noise=17.756796181800283, noise_type=laplacian, adjusted_pop=2368156.7567961817, error=17.756796181667596, weight=0.2381852551984877))\n"
     ]
    },
    {
     "name": "stderr",
     "output_type": "stream",
     "text": [
      "\r",
      " 72%|███████▏  | 288/399 [01:46<00:42,  2.61it/s]"
     ]
    },
    {
     "name": "stdout",
     "output_type": "stream",
     "text": [
      "Node(tag=48, identifier=48, data=GeoUnit(name=48, unnoised_pop=2368139, parent=None, identifier=48, level=0, noised_pop=2368156.7567961817, noise=17.756796181800283, noise_type=laplacian, adjusted_pop=2368156.7567961817, error=17.756796181667596, weight=0.19659735349716445))\n"
     ]
    },
    {
     "name": "stderr",
     "output_type": "stream",
     "text": [
      "\r",
      " 72%|███████▏  | 289/399 [01:47<00:42,  2.59it/s]"
     ]
    },
    {
     "name": "stdout",
     "output_type": "stream",
     "text": [
      "Node(tag=48, identifier=48, data=GeoUnit(name=48, unnoised_pop=2368139, parent=None, identifier=48, level=0, noised_pop=2368156.7567961817, noise=17.756796181800283, noise_type=laplacian, adjusted_pop=2368156.7567961817, error=17.756796181667596, weight=0.2608695652173913))\n"
     ]
    },
    {
     "name": "stderr",
     "output_type": "stream",
     "text": [
      "\r",
      " 73%|███████▎  | 290/399 [01:47<00:42,  2.59it/s]"
     ]
    },
    {
     "name": "stdout",
     "output_type": "stream",
     "text": [
      "Node(tag=48, identifier=48, data=GeoUnit(name=48, unnoised_pop=2368139, parent=None, identifier=48, level=0, noised_pop=2368156.7567961817, noise=17.756796181800283, noise_type=laplacian, adjusted_pop=2368156.7567961817, error=17.756796181667596, weight=0.2741020793950851))\n"
     ]
    },
    {
     "name": "stderr",
     "output_type": "stream",
     "text": [
      "\r",
      " 73%|███████▎  | 291/399 [01:47<00:41,  2.57it/s]"
     ]
    },
    {
     "name": "stdout",
     "output_type": "stream",
     "text": [
      "Node(tag=48, identifier=48, data=GeoUnit(name=48, unnoised_pop=2368139, parent=None, identifier=48, level=0, noised_pop=2368156.7567961817, noise=17.756796181800283, noise_type=laplacian, adjusted_pop=2368156.7567961817, error=17.756796181667596, weight=0.24763705103969755))\n"
     ]
    },
    {
     "name": "stderr",
     "output_type": "stream",
     "text": [
      "\r",
      " 73%|███████▎  | 292/399 [01:48<00:41,  2.57it/s]"
     ]
    },
    {
     "name": "stdout",
     "output_type": "stream",
     "text": [
      "Node(tag=48, identifier=48, data=GeoUnit(name=48, unnoised_pop=2368139, parent=None, identifier=48, level=0, noised_pop=2368156.7567961817, noise=17.756796181800283, noise_type=laplacian, adjusted_pop=2368156.7567961817, error=17.756796181667596, weight=0.2589792060491493))\n"
     ]
    },
    {
     "name": "stderr",
     "output_type": "stream",
     "text": [
      "\r",
      " 73%|███████▎  | 293/399 [01:48<00:41,  2.55it/s]"
     ]
    },
    {
     "name": "stdout",
     "output_type": "stream",
     "text": [
      "Node(tag=48, identifier=48, data=GeoUnit(name=48, unnoised_pop=2368139, parent=None, identifier=48, level=0, noised_pop=2368156.7567961817, noise=17.756796181800283, noise_type=laplacian, adjusted_pop=2368156.7567961817, error=17.756796181667596, weight=0.29111531190926276))\n"
     ]
    },
    {
     "name": "stderr",
     "output_type": "stream",
     "text": [
      "\r",
      " 74%|███████▎  | 294/399 [01:49<00:41,  2.53it/s]"
     ]
    },
    {
     "name": "stdout",
     "output_type": "stream",
     "text": [
      "Node(tag=48, identifier=48, data=GeoUnit(name=48, unnoised_pop=2368139, parent=None, identifier=48, level=0, noised_pop=2368156.7567961817, noise=17.756796181800283, noise_type=laplacian, adjusted_pop=2368156.7567961817, error=17.756796181667596, weight=0.2684310018903592))\n"
     ]
    },
    {
     "name": "stderr",
     "output_type": "stream",
     "text": [
      "\r",
      " 74%|███████▍  | 295/399 [01:49<00:40,  2.56it/s]"
     ]
    },
    {
     "name": "stdout",
     "output_type": "stream",
     "text": [
      "Node(tag=48, identifier=48, data=GeoUnit(name=48, unnoised_pop=2368139, parent=None, identifier=48, level=0, noised_pop=2368156.7567961817, noise=17.756796181800283, noise_type=laplacian, adjusted_pop=2368156.7567961817, error=17.756796181667596, weight=0.27599243856332706))\n"
     ]
    },
    {
     "name": "stderr",
     "output_type": "stream",
     "text": [
      "\r",
      " 74%|███████▍  | 296/399 [01:49<00:39,  2.59it/s]"
     ]
    },
    {
     "name": "stdout",
     "output_type": "stream",
     "text": [
      "Node(tag=48, identifier=48, data=GeoUnit(name=48, unnoised_pop=2368139, parent=None, identifier=48, level=0, noised_pop=2368156.7567961817, noise=17.756796181800283, noise_type=laplacian, adjusted_pop=2368156.7567961817, error=17.756796181667596, weight=0.23440453686200377))\n"
     ]
    },
    {
     "name": "stderr",
     "output_type": "stream",
     "text": [
      "\r",
      " 74%|███████▍  | 297/399 [01:50<00:39,  2.61it/s]"
     ]
    },
    {
     "name": "stdout",
     "output_type": "stream",
     "text": [
      "Node(tag=48, identifier=48, data=GeoUnit(name=48, unnoised_pop=2368139, parent=None, identifier=48, level=0, noised_pop=2368156.7567961817, noise=17.756796181800283, noise_type=laplacian, adjusted_pop=2368156.7567961817, error=17.756796181667596, weight=0.22873345935727787))\n"
     ]
    },
    {
     "name": "stderr",
     "output_type": "stream",
     "text": [
      "\r",
      " 75%|███████▍  | 298/399 [01:50<00:38,  2.63it/s]"
     ]
    },
    {
     "name": "stdout",
     "output_type": "stream",
     "text": [
      "Node(tag=48, identifier=48, data=GeoUnit(name=48, unnoised_pop=2368139, parent=None, identifier=48, level=0, noised_pop=2368156.7567961817, noise=17.756796181800283, noise_type=laplacian, adjusted_pop=2368156.7567961817, error=17.756796181667596, weight=0.2627599243856333))\n"
     ]
    },
    {
     "name": "stderr",
     "output_type": "stream",
     "text": [
      "\r",
      " 75%|███████▍  | 299/399 [01:51<00:38,  2.60it/s]"
     ]
    },
    {
     "name": "stdout",
     "output_type": "stream",
     "text": [
      "Node(tag=48, identifier=48, data=GeoUnit(name=48, unnoised_pop=2368139, parent=None, identifier=48, level=0, noised_pop=2368156.7567961817, noise=17.756796181800283, noise_type=laplacian, adjusted_pop=2368156.7567961817, error=17.756796181667596, weight=0.2627599243856333))\n"
     ]
    },
    {
     "name": "stderr",
     "output_type": "stream",
     "text": [
      "\r",
      " 75%|███████▌  | 300/399 [01:51<00:37,  2.61it/s]"
     ]
    },
    {
     "name": "stdout",
     "output_type": "stream",
     "text": [
      "Node(tag=48, identifier=48, data=GeoUnit(name=48, unnoised_pop=2368139, parent=None, identifier=48, level=0, noised_pop=2368156.7567961817, noise=17.756796181800283, noise_type=laplacian, adjusted_pop=2368156.7567961817, error=17.756796181667596, weight=0.2514177693761815))\n"
     ]
    },
    {
     "name": "stderr",
     "output_type": "stream",
     "text": [
      "\r",
      " 75%|███████▌  | 301/399 [01:51<00:37,  2.61it/s]"
     ]
    },
    {
     "name": "stdout",
     "output_type": "stream",
     "text": [
      "Node(tag=48, identifier=48, data=GeoUnit(name=48, unnoised_pop=2368139, parent=None, identifier=48, level=0, noised_pop=2368156.7567961817, noise=17.756796181800283, noise_type=laplacian, adjusted_pop=2368156.7567961817, error=17.756796181667596, weight=0.29867674858223064))\n"
     ]
    },
    {
     "name": "stderr",
     "output_type": "stream",
     "text": [
      "\r",
      " 76%|███████▌  | 302/399 [01:52<00:37,  2.62it/s]"
     ]
    },
    {
     "name": "stdout",
     "output_type": "stream",
     "text": [
      "Node(tag=48, identifier=48, data=GeoUnit(name=48, unnoised_pop=2368139, parent=None, identifier=48, level=0, noised_pop=2368156.7567961817, noise=17.756796181800283, noise_type=laplacian, adjusted_pop=2368156.7567961817, error=17.756796181667596, weight=0.28733459357277885))\n"
     ]
    },
    {
     "name": "stderr",
     "output_type": "stream",
     "text": [
      "\r",
      " 76%|███████▌  | 303/399 [01:52<00:37,  2.59it/s]"
     ]
    },
    {
     "name": "stdout",
     "output_type": "stream",
     "text": [
      "Node(tag=48, identifier=48, data=GeoUnit(name=48, unnoised_pop=2368139, parent=None, identifier=48, level=0, noised_pop=2368156.7567961817, noise=17.756796181800283, noise_type=laplacian, adjusted_pop=2368156.7567961817, error=17.756796181667596, weight=0.22684310018903592))\n"
     ]
    },
    {
     "name": "stderr",
     "output_type": "stream",
     "text": [
      "\r",
      " 76%|███████▌  | 304/399 [01:52<00:36,  2.61it/s]"
     ]
    },
    {
     "name": "stdout",
     "output_type": "stream",
     "text": [
      "Node(tag=48, identifier=48, data=GeoUnit(name=48, unnoised_pop=2368139, parent=None, identifier=48, level=0, noised_pop=2368156.7567961817, noise=17.756796181800283, noise_type=laplacian, adjusted_pop=2368156.7567961817, error=17.756796181667596, weight=0.29867674858223064))\n"
     ]
    },
    {
     "name": "stderr",
     "output_type": "stream",
     "text": [
      "\r",
      " 76%|███████▋  | 305/399 [01:53<00:35,  2.61it/s]"
     ]
    },
    {
     "name": "stdout",
     "output_type": "stream",
     "text": [
      "Node(tag=48, identifier=48, data=GeoUnit(name=48, unnoised_pop=2368139, parent=None, identifier=48, level=0, noised_pop=2368156.7567961817, noise=17.756796181800283, noise_type=laplacian, adjusted_pop=2368156.7567961817, error=17.756796181667596, weight=0.22684310018903592))\n"
     ]
    },
    {
     "name": "stderr",
     "output_type": "stream",
     "text": [
      "\r",
      " 77%|███████▋  | 306/399 [01:53<00:35,  2.59it/s]"
     ]
    },
    {
     "name": "stdout",
     "output_type": "stream",
     "text": [
      "Node(tag=48, identifier=48, data=GeoUnit(name=48, unnoised_pop=2368139, parent=None, identifier=48, level=0, noised_pop=2368156.7567961817, noise=17.756796181800283, noise_type=laplacian, adjusted_pop=2368156.7567961817, error=17.756796181667596, weight=0.22684310018903592))\n"
     ]
    },
    {
     "name": "stderr",
     "output_type": "stream",
     "text": [
      "\r",
      " 77%|███████▋  | 307/399 [01:54<00:35,  2.61it/s]"
     ]
    },
    {
     "name": "stdout",
     "output_type": "stream",
     "text": [
      "Node(tag=48, identifier=48, data=GeoUnit(name=48, unnoised_pop=2368139, parent=None, identifier=48, level=0, noised_pop=2368156.7567961817, noise=17.756796181800283, noise_type=laplacian, adjusted_pop=2368156.7567961817, error=17.756796181667596, weight=0.2892249527410208))\n"
     ]
    },
    {
     "name": "stderr",
     "output_type": "stream",
     "text": [
      "\r",
      " 77%|███████▋  | 308/399 [01:54<00:34,  2.64it/s]"
     ]
    },
    {
     "name": "stdout",
     "output_type": "stream",
     "text": [
      "Node(tag=48, identifier=48, data=GeoUnit(name=48, unnoised_pop=2368139, parent=None, identifier=48, level=0, noised_pop=2368156.7567961817, noise=17.756796181800283, noise_type=laplacian, adjusted_pop=2368156.7567961817, error=17.756796181667596, weight=0.22495274102079396))\n"
     ]
    },
    {
     "name": "stderr",
     "output_type": "stream",
     "text": [
      "\r",
      " 77%|███████▋  | 309/399 [01:54<00:34,  2.63it/s]"
     ]
    },
    {
     "name": "stdout",
     "output_type": "stream",
     "text": [
      "Node(tag=48, identifier=48, data=GeoUnit(name=48, unnoised_pop=2368139, parent=None, identifier=48, level=0, noised_pop=2368156.7567961817, noise=17.756796181800283, noise_type=laplacian, adjusted_pop=2368156.7567961817, error=17.756796181667596, weight=0.24574669187145556))\n"
     ]
    },
    {
     "name": "stderr",
     "output_type": "stream",
     "text": [
      "\r",
      " 78%|███████▊  | 310/399 [01:55<00:33,  2.66it/s]"
     ]
    },
    {
     "name": "stdout",
     "output_type": "stream",
     "text": [
      "Node(tag=48, identifier=48, data=GeoUnit(name=48, unnoised_pop=2368139, parent=None, identifier=48, level=0, noised_pop=2368156.7567961817, noise=17.756796181800283, noise_type=laplacian, adjusted_pop=2368156.7567961817, error=17.756796181667596, weight=0.22495274102079396))\n"
     ]
    },
    {
     "name": "stderr",
     "output_type": "stream",
     "text": [
      "\r",
      " 78%|███████▊  | 311/399 [01:55<00:32,  2.68it/s]"
     ]
    },
    {
     "name": "stdout",
     "output_type": "stream",
     "text": [
      "Node(tag=48, identifier=48, data=GeoUnit(name=48, unnoised_pop=2368139, parent=None, identifier=48, level=0, noised_pop=2368156.7567961817, noise=17.756796181800283, noise_type=laplacian, adjusted_pop=2368156.7567961817, error=17.756796181667596, weight=0.22117202268431002))\n"
     ]
    },
    {
     "name": "stderr",
     "output_type": "stream",
     "text": [
      "\r",
      " 78%|███████▊  | 312/399 [01:55<00:32,  2.64it/s]"
     ]
    },
    {
     "name": "stdout",
     "output_type": "stream",
     "text": [
      "Node(tag=48, identifier=48, data=GeoUnit(name=48, unnoised_pop=2368139, parent=None, identifier=48, level=0, noised_pop=2368156.7567961817, noise=17.756796181800283, noise_type=laplacian, adjusted_pop=2368156.7567961817, error=17.756796181667596, weight=0.31379962192816635))\n"
     ]
    },
    {
     "name": "stderr",
     "output_type": "stream",
     "text": [
      "\r",
      " 78%|███████▊  | 313/399 [01:56<00:32,  2.69it/s]"
     ]
    },
    {
     "name": "stdout",
     "output_type": "stream",
     "text": [
      "Node(tag=48, identifier=48, data=GeoUnit(name=48, unnoised_pop=2368139, parent=None, identifier=48, level=0, noised_pop=2368156.7567961817, noise=17.756796181800283, noise_type=laplacian, adjusted_pop=2368156.7567961817, error=17.756796181667596, weight=0.2608695652173913))\n"
     ]
    },
    {
     "name": "stderr",
     "output_type": "stream",
     "text": [
      "\r",
      " 79%|███████▊  | 314/399 [01:56<00:31,  2.67it/s]"
     ]
    },
    {
     "name": "stdout",
     "output_type": "stream",
     "text": [
      "Node(tag=48, identifier=48, data=GeoUnit(name=48, unnoised_pop=2368139, parent=None, identifier=48, level=0, noised_pop=2368156.7567961817, noise=17.756796181800283, noise_type=laplacian, adjusted_pop=2368156.7567961817, error=17.756796181667596, weight=0.277882797731569))\n"
     ]
    },
    {
     "name": "stderr",
     "output_type": "stream",
     "text": [
      "\r",
      " 79%|███████▉  | 315/399 [01:57<00:31,  2.65it/s]"
     ]
    },
    {
     "name": "stdout",
     "output_type": "stream",
     "text": [
      "Node(tag=48, identifier=48, data=GeoUnit(name=48, unnoised_pop=2368139, parent=None, identifier=48, level=0, noised_pop=2368156.7567961817, noise=17.756796181800283, noise_type=laplacian, adjusted_pop=2368156.7567961817, error=17.756796181667596, weight=0.21361058601134217))\n"
     ]
    },
    {
     "name": "stderr",
     "output_type": "stream",
     "text": [
      "\r",
      " 79%|███████▉  | 316/399 [01:57<00:31,  2.63it/s]"
     ]
    },
    {
     "name": "stdout",
     "output_type": "stream",
     "text": [
      "Node(tag=48, identifier=48, data=GeoUnit(name=48, unnoised_pop=2368139, parent=None, identifier=48, level=0, noised_pop=2368156.7567961817, noise=17.756796181800283, noise_type=laplacian, adjusted_pop=2368156.7567961817, error=17.756796181667596, weight=0.2608695652173913))\n"
     ]
    },
    {
     "name": "stderr",
     "output_type": "stream",
     "text": [
      "\r",
      " 79%|███████▉  | 317/399 [01:57<00:31,  2.64it/s]"
     ]
    },
    {
     "name": "stdout",
     "output_type": "stream",
     "text": [
      "Node(tag=48, identifier=48, data=GeoUnit(name=48, unnoised_pop=2368139, parent=None, identifier=48, level=0, noised_pop=2368156.7567961817, noise=17.756796181800283, noise_type=laplacian, adjusted_pop=2368156.7567961817, error=17.756796181667596, weight=0.22873345935727787))\n"
     ]
    },
    {
     "name": "stderr",
     "output_type": "stream",
     "text": [
      "\r",
      " 80%|███████▉  | 318/399 [01:58<00:30,  2.61it/s]"
     ]
    },
    {
     "name": "stdout",
     "output_type": "stream",
     "text": [
      "Node(tag=48, identifier=48, data=GeoUnit(name=48, unnoised_pop=2368139, parent=None, identifier=48, level=0, noised_pop=2368156.7567961817, noise=17.756796181800283, noise_type=laplacian, adjusted_pop=2368156.7567961817, error=17.756796181667596, weight=0.21928166351606806))\n"
     ]
    },
    {
     "name": "stderr",
     "output_type": "stream",
     "text": [
      "\r",
      " 80%|███████▉  | 319/399 [01:58<00:30,  2.61it/s]"
     ]
    },
    {
     "name": "stdout",
     "output_type": "stream",
     "text": [
      "Node(tag=48, identifier=48, data=GeoUnit(name=48, unnoised_pop=2368139, parent=None, identifier=48, level=0, noised_pop=2368156.7567961817, noise=17.756796181800283, noise_type=laplacian, adjusted_pop=2368156.7567961817, error=17.756796181667596, weight=0.29867674858223064))\n"
     ]
    },
    {
     "name": "stderr",
     "output_type": "stream",
     "text": [
      "\r",
      " 80%|████████  | 320/399 [01:58<00:30,  2.62it/s]"
     ]
    },
    {
     "name": "stdout",
     "output_type": "stream",
     "text": [
      "Node(tag=48, identifier=48, data=GeoUnit(name=48, unnoised_pop=2368139, parent=None, identifier=48, level=0, noised_pop=2368156.7567961817, noise=17.756796181800283, noise_type=laplacian, adjusted_pop=2368156.7567961817, error=17.756796181667596, weight=0.2495274102079395))\n"
     ]
    },
    {
     "name": "stderr",
     "output_type": "stream",
     "text": [
      "\r",
      " 80%|████████  | 321/399 [01:59<00:29,  2.65it/s]"
     ]
    },
    {
     "name": "stdout",
     "output_type": "stream",
     "text": [
      "Node(tag=48, identifier=48, data=GeoUnit(name=48, unnoised_pop=2368139, parent=None, identifier=48, level=0, noised_pop=2368156.7567961817, noise=17.756796181800283, noise_type=laplacian, adjusted_pop=2368156.7567961817, error=17.756796181667596, weight=0.22684310018903592))\n"
     ]
    },
    {
     "name": "stderr",
     "output_type": "stream",
     "text": [
      "\r",
      " 81%|████████  | 322/399 [01:59<00:28,  2.66it/s]"
     ]
    },
    {
     "name": "stdout",
     "output_type": "stream",
     "text": [
      "Node(tag=48, identifier=48, data=GeoUnit(name=48, unnoised_pop=2368139, parent=None, identifier=48, level=0, noised_pop=2368156.7567961817, noise=17.756796181800283, noise_type=laplacian, adjusted_pop=2368156.7567961817, error=17.756796181667596, weight=0.21550094517958412))\n"
     ]
    },
    {
     "name": "stderr",
     "output_type": "stream",
     "text": [
      "\r",
      " 81%|████████  | 323/399 [02:00<00:28,  2.70it/s]"
     ]
    },
    {
     "name": "stdout",
     "output_type": "stream",
     "text": [
      "Node(tag=48, identifier=48, data=GeoUnit(name=48, unnoised_pop=2368139, parent=None, identifier=48, level=0, noised_pop=2368156.7567961817, noise=17.756796181800283, noise_type=laplacian, adjusted_pop=2368156.7567961817, error=17.756796181667596, weight=0.2835538752362949))\n"
     ]
    },
    {
     "name": "stderr",
     "output_type": "stream",
     "text": [
      "\r",
      " 81%|████████  | 324/399 [02:00<00:27,  2.71it/s]"
     ]
    },
    {
     "name": "stdout",
     "output_type": "stream",
     "text": [
      "Node(tag=48, identifier=48, data=GeoUnit(name=48, unnoised_pop=2368139, parent=None, identifier=48, level=0, noised_pop=2368156.7567961817, noise=17.756796181800283, noise_type=laplacian, adjusted_pop=2368156.7567961817, error=17.756796181667596, weight=0.23440453686200377))\n"
     ]
    },
    {
     "name": "stderr",
     "output_type": "stream",
     "text": [
      "\r",
      " 81%|████████▏ | 325/399 [02:00<00:27,  2.73it/s]"
     ]
    },
    {
     "name": "stdout",
     "output_type": "stream",
     "text": [
      "Node(tag=48, identifier=48, data=GeoUnit(name=48, unnoised_pop=2368139, parent=None, identifier=48, level=0, noised_pop=2368156.7567961817, noise=17.756796181800283, noise_type=laplacian, adjusted_pop=2368156.7567961817, error=17.756796181667596, weight=0.22495274102079396))\n"
     ]
    },
    {
     "name": "stderr",
     "output_type": "stream",
     "text": [
      "\r",
      " 82%|████████▏ | 326/399 [02:01<00:26,  2.74it/s]"
     ]
    },
    {
     "name": "stdout",
     "output_type": "stream",
     "text": [
      "Node(tag=48, identifier=48, data=GeoUnit(name=48, unnoised_pop=2368139, parent=None, identifier=48, level=0, noised_pop=2368156.7567961817, noise=17.756796181800283, noise_type=laplacian, adjusted_pop=2368156.7567961817, error=17.756796181667596, weight=0.24196597353497165))\n"
     ]
    },
    {
     "name": "stderr",
     "output_type": "stream",
     "text": [
      "\r",
      " 82%|████████▏ | 327/399 [02:01<00:26,  2.73it/s]"
     ]
    },
    {
     "name": "stdout",
     "output_type": "stream",
     "text": [
      "Node(tag=48, identifier=48, data=GeoUnit(name=48, unnoised_pop=2368139, parent=None, identifier=48, level=0, noised_pop=2368156.7567961817, noise=17.756796181800283, noise_type=laplacian, adjusted_pop=2368156.7567961817, error=17.756796181667596, weight=0.2722117202268431))\n"
     ]
    },
    {
     "name": "stderr",
     "output_type": "stream",
     "text": [
      "\r",
      " 82%|████████▏ | 328/399 [02:01<00:26,  2.72it/s]"
     ]
    },
    {
     "name": "stdout",
     "output_type": "stream",
     "text": [
      "Node(tag=48, identifier=48, data=GeoUnit(name=48, unnoised_pop=2368139, parent=None, identifier=48, level=0, noised_pop=2368156.7567961817, noise=17.756796181800283, noise_type=laplacian, adjusted_pop=2368156.7567961817, error=17.756796181667596, weight=0.20793950850661624))\n"
     ]
    },
    {
     "name": "stderr",
     "output_type": "stream",
     "text": [
      "\r",
      " 82%|████████▏ | 329/399 [02:02<00:25,  2.73it/s]"
     ]
    },
    {
     "name": "stdout",
     "output_type": "stream",
     "text": [
      "Node(tag=48, identifier=48, data=GeoUnit(name=48, unnoised_pop=2368139, parent=None, identifier=48, level=0, noised_pop=2368156.7567961817, noise=17.756796181800283, noise_type=laplacian, adjusted_pop=2368156.7567961817, error=17.756796181667596, weight=0.3005671077504726))\n"
     ]
    },
    {
     "name": "stderr",
     "output_type": "stream",
     "text": [
      "\r",
      " 83%|████████▎ | 330/399 [02:02<00:25,  2.74it/s]"
     ]
    },
    {
     "name": "stdout",
     "output_type": "stream",
     "text": [
      "Node(tag=48, identifier=48, data=GeoUnit(name=48, unnoised_pop=2368139, parent=None, identifier=48, level=0, noised_pop=2368156.7567961817, noise=17.756796181800283, noise_type=laplacian, adjusted_pop=2368156.7567961817, error=17.756796181667596, weight=0.29678638941398866))\n"
     ]
    },
    {
     "name": "stderr",
     "output_type": "stream",
     "text": [
      "\r",
      " 83%|████████▎ | 331/399 [02:03<00:24,  2.75it/s]"
     ]
    },
    {
     "name": "stdout",
     "output_type": "stream",
     "text": [
      "Node(tag=48, identifier=48, data=GeoUnit(name=48, unnoised_pop=2368139, parent=None, identifier=48, level=0, noised_pop=2368156.7567961817, noise=17.756796181800283, noise_type=laplacian, adjusted_pop=2368156.7567961817, error=17.756796181667596, weight=0.2835538752362949))\n"
     ]
    },
    {
     "name": "stderr",
     "output_type": "stream",
     "text": [
      "\r",
      " 83%|████████▎ | 332/399 [02:03<00:24,  2.75it/s]"
     ]
    },
    {
     "name": "stdout",
     "output_type": "stream",
     "text": [
      "Node(tag=48, identifier=48, data=GeoUnit(name=48, unnoised_pop=2368139, parent=None, identifier=48, level=0, noised_pop=2368156.7567961817, noise=17.756796181800283, noise_type=laplacian, adjusted_pop=2368156.7567961817, error=17.756796181667596, weight=0.2835538752362949))\n"
     ]
    },
    {
     "name": "stderr",
     "output_type": "stream",
     "text": [
      "\r",
      " 83%|████████▎ | 333/399 [02:03<00:23,  2.77it/s]"
     ]
    },
    {
     "name": "stdout",
     "output_type": "stream",
     "text": [
      "Node(tag=48, identifier=48, data=GeoUnit(name=48, unnoised_pop=2368139, parent=None, identifier=48, level=0, noised_pop=2368156.7567961817, noise=17.756796181800283, noise_type=laplacian, adjusted_pop=2368156.7567961817, error=17.756796181667596, weight=0.2684310018903592))\n"
     ]
    },
    {
     "name": "stderr",
     "output_type": "stream",
     "text": [
      "\r",
      " 84%|████████▎ | 334/399 [02:04<00:23,  2.78it/s]"
     ]
    },
    {
     "name": "stdout",
     "output_type": "stream",
     "text": [
      "Node(tag=48, identifier=48, data=GeoUnit(name=48, unnoised_pop=2368139, parent=None, identifier=48, level=0, noised_pop=2368156.7567961817, noise=17.756796181800283, noise_type=laplacian, adjusted_pop=2368156.7567961817, error=17.756796181667596, weight=0.28733459357277885))\n"
     ]
    },
    {
     "name": "stderr",
     "output_type": "stream",
     "text": [
      "\r",
      " 84%|████████▍ | 335/399 [02:04<00:22,  2.79it/s]"
     ]
    },
    {
     "name": "stdout",
     "output_type": "stream",
     "text": [
      "Node(tag=48, identifier=48, data=GeoUnit(name=48, unnoised_pop=2368139, parent=None, identifier=48, level=0, noised_pop=2368156.7567961817, noise=17.756796181800283, noise_type=laplacian, adjusted_pop=2368156.7567961817, error=17.756796181667596, weight=0.3005671077504726))\n"
     ]
    },
    {
     "name": "stderr",
     "output_type": "stream",
     "text": [
      "\r",
      " 84%|████████▍ | 336/399 [02:04<00:22,  2.79it/s]"
     ]
    },
    {
     "name": "stdout",
     "output_type": "stream",
     "text": [
      "Node(tag=48, identifier=48, data=GeoUnit(name=48, unnoised_pop=2368139, parent=None, identifier=48, level=0, noised_pop=2368156.7567961817, noise=17.756796181800283, noise_type=laplacian, adjusted_pop=2368156.7567961817, error=17.756796181667596, weight=0.23062381852551986))\n"
     ]
    },
    {
     "name": "stderr",
     "output_type": "stream",
     "text": [
      "\r",
      " 84%|████████▍ | 337/399 [02:05<00:22,  2.77it/s]"
     ]
    },
    {
     "name": "stdout",
     "output_type": "stream",
     "text": [
      "Node(tag=48, identifier=48, data=GeoUnit(name=48, unnoised_pop=2368139, parent=None, identifier=48, level=0, noised_pop=2368156.7567961817, noise=17.756796181800283, noise_type=laplacian, adjusted_pop=2368156.7567961817, error=17.756796181667596, weight=0.2835538752362949))\n"
     ]
    },
    {
     "name": "stderr",
     "output_type": "stream",
     "text": [
      "\r",
      " 85%|████████▍ | 338/399 [02:05<00:22,  2.76it/s]"
     ]
    },
    {
     "name": "stdout",
     "output_type": "stream",
     "text": [
      "Node(tag=48, identifier=48, data=GeoUnit(name=48, unnoised_pop=2368139, parent=None, identifier=48, level=0, noised_pop=2368156.7567961817, noise=17.756796181800283, noise_type=laplacian, adjusted_pop=2368156.7567961817, error=17.756796181667596, weight=0.2741020793950851))\n"
     ]
    },
    {
     "name": "stderr",
     "output_type": "stream",
     "text": [
      "\r",
      " 85%|████████▍ | 339/399 [02:05<00:21,  2.78it/s]"
     ]
    },
    {
     "name": "stdout",
     "output_type": "stream",
     "text": [
      "Node(tag=48, identifier=48, data=GeoUnit(name=48, unnoised_pop=2368139, parent=None, identifier=48, level=0, noised_pop=2368156.7567961817, noise=17.756796181800283, noise_type=laplacian, adjusted_pop=2368156.7567961817, error=17.756796181667596, weight=0.29111531190926276))\n"
     ]
    },
    {
     "name": "stderr",
     "output_type": "stream",
     "text": [
      "\r",
      " 85%|████████▌ | 340/399 [02:06<00:21,  2.79it/s]"
     ]
    },
    {
     "name": "stdout",
     "output_type": "stream",
     "text": [
      "Node(tag=48, identifier=48, data=GeoUnit(name=48, unnoised_pop=2368139, parent=None, identifier=48, level=0, noised_pop=2368156.7567961817, noise=17.756796181800283, noise_type=laplacian, adjusted_pop=2368156.7567961817, error=17.756796181667596, weight=0.24763705103969755))\n"
     ]
    },
    {
     "name": "stderr",
     "output_type": "stream",
     "text": [
      "\r",
      " 85%|████████▌ | 341/399 [02:06<00:20,  2.78it/s]"
     ]
    },
    {
     "name": "stdout",
     "output_type": "stream",
     "text": [
      "Node(tag=48, identifier=48, data=GeoUnit(name=48, unnoised_pop=2368139, parent=None, identifier=48, level=0, noised_pop=2368156.7567961817, noise=17.756796181800283, noise_type=laplacian, adjusted_pop=2368156.7567961817, error=17.756796181667596, weight=0.20415879017013233))\n"
     ]
    },
    {
     "name": "stderr",
     "output_type": "stream",
     "text": [
      "\r",
      " 86%|████████▌ | 342/399 [02:06<00:20,  2.78it/s]"
     ]
    },
    {
     "name": "stdout",
     "output_type": "stream",
     "text": [
      "Node(tag=48, identifier=48, data=GeoUnit(name=48, unnoised_pop=2368139, parent=None, identifier=48, level=0, noised_pop=2368156.7567961817, noise=17.756796181800283, noise_type=laplacian, adjusted_pop=2368156.7567961817, error=17.756796181667596, weight=0.22117202268431002))\n"
     ]
    },
    {
     "name": "stderr",
     "output_type": "stream",
     "text": [
      "\r",
      " 86%|████████▌ | 343/399 [02:07<00:20,  2.78it/s]"
     ]
    },
    {
     "name": "stdout",
     "output_type": "stream",
     "text": [
      "Node(tag=48, identifier=48, data=GeoUnit(name=48, unnoised_pop=2368139, parent=None, identifier=48, level=0, noised_pop=2368156.7567961817, noise=17.756796181800283, noise_type=laplacian, adjusted_pop=2368156.7567961817, error=17.756796181667596, weight=0.23440453686200377))\n"
     ]
    },
    {
     "name": "stderr",
     "output_type": "stream",
     "text": [
      "\r",
      " 86%|████████▌ | 344/399 [02:07<00:19,  2.76it/s]"
     ]
    },
    {
     "name": "stdout",
     "output_type": "stream",
     "text": [
      "Node(tag=48, identifier=48, data=GeoUnit(name=48, unnoised_pop=2368139, parent=None, identifier=48, level=0, noised_pop=2368156.7567961817, noise=17.756796181800283, noise_type=laplacian, adjusted_pop=2368156.7567961817, error=17.756796181667596, weight=0.22873345935727787))\n"
     ]
    },
    {
     "name": "stderr",
     "output_type": "stream",
     "text": [
      "\r",
      " 86%|████████▋ | 345/399 [02:08<00:19,  2.78it/s]"
     ]
    },
    {
     "name": "stdout",
     "output_type": "stream",
     "text": [
      "Node(tag=48, identifier=48, data=GeoUnit(name=48, unnoised_pop=2368139, parent=None, identifier=48, level=0, noised_pop=2368156.7567961817, noise=17.756796181800283, noise_type=laplacian, adjusted_pop=2368156.7567961817, error=17.756796181667596, weight=0.2003780718336484))\n"
     ]
    },
    {
     "name": "stderr",
     "output_type": "stream",
     "text": [
      "\r",
      " 87%|████████▋ | 346/399 [02:08<00:19,  2.77it/s]"
     ]
    },
    {
     "name": "stdout",
     "output_type": "stream",
     "text": [
      "Node(tag=48, identifier=48, data=GeoUnit(name=48, unnoised_pop=2368139, parent=None, identifier=48, level=0, noised_pop=2368156.7567961817, noise=17.756796181800283, noise_type=laplacian, adjusted_pop=2368156.7567961817, error=17.756796181667596, weight=0.21172022684310018))\n"
     ]
    },
    {
     "name": "stderr",
     "output_type": "stream",
     "text": [
      "\r",
      " 87%|████████▋ | 347/399 [02:08<00:18,  2.77it/s]"
     ]
    },
    {
     "name": "stdout",
     "output_type": "stream",
     "text": [
      "Node(tag=48, identifier=48, data=GeoUnit(name=48, unnoised_pop=2368139, parent=None, identifier=48, level=0, noised_pop=2368156.7567961817, noise=17.756796181800283, noise_type=laplacian, adjusted_pop=2368156.7567961817, error=17.756796181667596, weight=0.2627599243856333))\n"
     ]
    },
    {
     "name": "stderr",
     "output_type": "stream",
     "text": [
      "\r",
      " 87%|████████▋ | 348/399 [02:09<00:18,  2.77it/s]"
     ]
    },
    {
     "name": "stdout",
     "output_type": "stream",
     "text": [
      "Node(tag=48, identifier=48, data=GeoUnit(name=48, unnoised_pop=2368139, parent=None, identifier=48, level=0, noised_pop=2368156.7567961817, noise=17.756796181800283, noise_type=laplacian, adjusted_pop=2368156.7567961817, error=17.756796181667596, weight=0.27977315689981097))\n"
     ]
    },
    {
     "name": "stderr",
     "output_type": "stream",
     "text": [
      "\r",
      " 87%|████████▋ | 349/399 [02:09<00:17,  2.79it/s]"
     ]
    },
    {
     "name": "stdout",
     "output_type": "stream",
     "text": [
      "Node(tag=48, identifier=48, data=GeoUnit(name=48, unnoised_pop=2368139, parent=None, identifier=48, level=0, noised_pop=2368156.7567961817, noise=17.756796181800283, noise_type=laplacian, adjusted_pop=2368156.7567961817, error=17.756796181667596, weight=0.20793950850661624))\n"
     ]
    },
    {
     "name": "stderr",
     "output_type": "stream",
     "text": [
      "\r",
      " 88%|████████▊ | 350/399 [02:09<00:17,  2.78it/s]"
     ]
    },
    {
     "name": "stdout",
     "output_type": "stream",
     "text": [
      "Node(tag=48, identifier=48, data=GeoUnit(name=48, unnoised_pop=2368139, parent=None, identifier=48, level=0, noised_pop=2368156.7567961817, noise=17.756796181800283, noise_type=laplacian, adjusted_pop=2368156.7567961817, error=17.756796181667596, weight=0.23440453686200377))\n"
     ]
    },
    {
     "name": "stderr",
     "output_type": "stream",
     "text": [
      "\r",
      " 88%|████████▊ | 351/399 [02:10<00:17,  2.77it/s]"
     ]
    },
    {
     "name": "stdout",
     "output_type": "stream",
     "text": [
      "Node(tag=48, identifier=48, data=GeoUnit(name=48, unnoised_pop=2368139, parent=None, identifier=48, level=0, noised_pop=2368156.7567961817, noise=17.756796181800283, noise_type=laplacian, adjusted_pop=2368156.7567961817, error=17.756796181667596, weight=0.2514177693761815))\n"
     ]
    },
    {
     "name": "stderr",
     "output_type": "stream",
     "text": [
      "\r",
      " 88%|████████▊ | 352/399 [02:10<00:16,  2.77it/s]"
     ]
    },
    {
     "name": "stdout",
     "output_type": "stream",
     "text": [
      "Node(tag=48, identifier=48, data=GeoUnit(name=48, unnoised_pop=2368139, parent=None, identifier=48, level=0, noised_pop=2368156.7567961817, noise=17.756796181800283, noise_type=laplacian, adjusted_pop=2368156.7567961817, error=17.756796181667596, weight=0.22684310018903592))\n"
     ]
    },
    {
     "name": "stderr",
     "output_type": "stream",
     "text": [
      "\r",
      " 88%|████████▊ | 353/399 [02:10<00:16,  2.77it/s]"
     ]
    },
    {
     "name": "stdout",
     "output_type": "stream",
     "text": [
      "Node(tag=48, identifier=48, data=GeoUnit(name=48, unnoised_pop=2368139, parent=None, identifier=48, level=0, noised_pop=2368156.7567961817, noise=17.756796181800283, noise_type=laplacian, adjusted_pop=2368156.7567961817, error=17.756796181667596, weight=0.2627599243856333))\n"
     ]
    },
    {
     "name": "stderr",
     "output_type": "stream",
     "text": [
      "\r",
      " 89%|████████▊ | 354/399 [02:11<00:16,  2.78it/s]"
     ]
    },
    {
     "name": "stdout",
     "output_type": "stream",
     "text": [
      "Node(tag=48, identifier=48, data=GeoUnit(name=48, unnoised_pop=2368139, parent=None, identifier=48, level=0, noised_pop=2368156.7567961817, noise=17.756796181800283, noise_type=laplacian, adjusted_pop=2368156.7567961817, error=17.756796181667596, weight=0.2684310018903592))\n"
     ]
    },
    {
     "name": "stderr",
     "output_type": "stream",
     "text": [
      "\r",
      " 89%|████████▉ | 355/399 [02:11<00:15,  2.77it/s]"
     ]
    },
    {
     "name": "stdout",
     "output_type": "stream",
     "text": [
      "Node(tag=48, identifier=48, data=GeoUnit(name=48, unnoised_pop=2368139, parent=None, identifier=48, level=0, noised_pop=2368156.7567961817, noise=17.756796181800283, noise_type=laplacian, adjusted_pop=2368156.7567961817, error=17.756796181667596, weight=0.2570888468809074))\n"
     ]
    },
    {
     "name": "stderr",
     "output_type": "stream",
     "text": [
      "\r",
      " 89%|████████▉ | 356/399 [02:12<00:15,  2.75it/s]"
     ]
    },
    {
     "name": "stdout",
     "output_type": "stream",
     "text": [
      "Node(tag=48, identifier=48, data=GeoUnit(name=48, unnoised_pop=2368139, parent=None, identifier=48, level=0, noised_pop=2368156.7567961817, noise=17.756796181800283, noise_type=laplacian, adjusted_pop=2368156.7567961817, error=17.756796181667596, weight=0.29867674858223064))\n"
     ]
    },
    {
     "name": "stderr",
     "output_type": "stream",
     "text": [
      "\r",
      " 89%|████████▉ | 357/399 [02:12<00:15,  2.77it/s]"
     ]
    },
    {
     "name": "stdout",
     "output_type": "stream",
     "text": [
      "Node(tag=48, identifier=48, data=GeoUnit(name=48, unnoised_pop=2368139, parent=None, identifier=48, level=0, noised_pop=2368156.7567961817, noise=17.756796181800283, noise_type=laplacian, adjusted_pop=2368156.7567961817, error=17.756796181667596, weight=0.2892249527410208))\n"
     ]
    },
    {
     "name": "stderr",
     "output_type": "stream",
     "text": [
      "\r",
      " 90%|████████▉ | 358/399 [02:12<00:14,  2.77it/s]"
     ]
    },
    {
     "name": "stdout",
     "output_type": "stream",
     "text": [
      "Node(tag=48, identifier=48, data=GeoUnit(name=48, unnoised_pop=2368139, parent=None, identifier=48, level=0, noised_pop=2368156.7567961817, noise=17.756796181800283, noise_type=laplacian, adjusted_pop=2368156.7567961817, error=17.756796181667596, weight=0.22495274102079396))\n"
     ]
    },
    {
     "name": "stderr",
     "output_type": "stream",
     "text": [
      "\r",
      " 90%|████████▉ | 359/399 [02:13<00:14,  2.77it/s]"
     ]
    },
    {
     "name": "stdout",
     "output_type": "stream",
     "text": [
      "Node(tag=48, identifier=48, data=GeoUnit(name=48, unnoised_pop=2368139, parent=None, identifier=48, level=0, noised_pop=2368156.7567961817, noise=17.756796181800283, noise_type=laplacian, adjusted_pop=2368156.7567961817, error=17.756796181667596, weight=0.21361058601134217))\n"
     ]
    },
    {
     "name": "stderr",
     "output_type": "stream",
     "text": [
      "\r",
      " 90%|█████████ | 360/399 [02:13<00:14,  2.78it/s]"
     ]
    },
    {
     "name": "stdout",
     "output_type": "stream",
     "text": [
      "Node(tag=48, identifier=48, data=GeoUnit(name=48, unnoised_pop=2368139, parent=None, identifier=48, level=0, noised_pop=2368156.7567961817, noise=17.756796181800283, noise_type=laplacian, adjusted_pop=2368156.7567961817, error=17.756796181667596, weight=0.21361058601134217))\n"
     ]
    },
    {
     "name": "stderr",
     "output_type": "stream",
     "text": [
      "\r",
      " 90%|█████████ | 361/399 [02:13<00:13,  2.80it/s]"
     ]
    },
    {
     "name": "stdout",
     "output_type": "stream",
     "text": [
      "Node(tag=48, identifier=48, data=GeoUnit(name=48, unnoised_pop=2368139, parent=None, identifier=48, level=0, noised_pop=2368156.7567961817, noise=17.756796181800283, noise_type=laplacian, adjusted_pop=2368156.7567961817, error=17.756796181667596, weight=0.20226843100189035))\n"
     ]
    },
    {
     "name": "stderr",
     "output_type": "stream",
     "text": [
      "\r",
      " 91%|█████████ | 362/399 [02:14<00:13,  2.78it/s]"
     ]
    },
    {
     "name": "stdout",
     "output_type": "stream",
     "text": [
      "Node(tag=48, identifier=48, data=GeoUnit(name=48, unnoised_pop=2368139, parent=None, identifier=48, level=0, noised_pop=2368156.7567961817, noise=17.756796181800283, noise_type=laplacian, adjusted_pop=2368156.7567961817, error=17.756796181667596, weight=0.20793950850661624))\n"
     ]
    },
    {
     "name": "stderr",
     "output_type": "stream",
     "text": [
      "\r",
      " 91%|█████████ | 363/399 [02:14<00:13,  2.76it/s]"
     ]
    },
    {
     "name": "stdout",
     "output_type": "stream",
     "text": [
      "Node(tag=48, identifier=48, data=GeoUnit(name=48, unnoised_pop=2368139, parent=None, identifier=48, level=0, noised_pop=2368156.7567961817, noise=17.756796181800283, noise_type=laplacian, adjusted_pop=2368156.7567961817, error=17.756796181667596, weight=0.24007561436672967))\n"
     ]
    },
    {
     "name": "stderr",
     "output_type": "stream",
     "text": [
      "\r",
      " 91%|█████████ | 364/399 [02:14<00:12,  2.77it/s]"
     ]
    },
    {
     "name": "stdout",
     "output_type": "stream",
     "text": [
      "Node(tag=48, identifier=48, data=GeoUnit(name=48, unnoised_pop=2368139, parent=None, identifier=48, level=0, noised_pop=2368156.7567961817, noise=17.756796181800283, noise_type=laplacian, adjusted_pop=2368156.7567961817, error=17.756796181667596, weight=0.277882797731569))\n"
     ]
    },
    {
     "name": "stderr",
     "output_type": "stream",
     "text": [
      "\r",
      " 91%|█████████▏| 365/399 [02:15<00:12,  2.77it/s]"
     ]
    },
    {
     "name": "stdout",
     "output_type": "stream",
     "text": [
      "Node(tag=48, identifier=48, data=GeoUnit(name=48, unnoised_pop=2368139, parent=None, identifier=48, level=0, noised_pop=2368156.7567961817, noise=17.756796181800283, noise_type=laplacian, adjusted_pop=2368156.7567961817, error=17.756796181667596, weight=0.2495274102079395))\n"
     ]
    },
    {
     "name": "stderr",
     "output_type": "stream",
     "text": [
      "\r",
      " 92%|█████████▏| 366/399 [02:15<00:11,  2.76it/s]"
     ]
    },
    {
     "name": "stdout",
     "output_type": "stream",
     "text": [
      "Node(tag=48, identifier=48, data=GeoUnit(name=48, unnoised_pop=2368139, parent=None, identifier=48, level=0, noised_pop=2368156.7567961817, noise=17.756796181800283, noise_type=laplacian, adjusted_pop=2368156.7567961817, error=17.756796181667596, weight=0.2438563327032136))\n"
     ]
    },
    {
     "name": "stderr",
     "output_type": "stream",
     "text": [
      "\r",
      " 92%|█████████▏| 367/399 [02:15<00:11,  2.78it/s]"
     ]
    },
    {
     "name": "stdout",
     "output_type": "stream",
     "text": [
      "Node(tag=48, identifier=48, data=GeoUnit(name=48, unnoised_pop=2368139, parent=None, identifier=48, level=0, noised_pop=2368156.7567961817, noise=17.756796181800283, noise_type=laplacian, adjusted_pop=2368156.7567961817, error=17.756796181667596, weight=0.22306238185255198))\n"
     ]
    },
    {
     "name": "stderr",
     "output_type": "stream",
     "text": [
      "\r",
      " 92%|█████████▏| 368/399 [02:16<00:11,  2.75it/s]"
     ]
    },
    {
     "name": "stdout",
     "output_type": "stream",
     "text": [
      "Node(tag=48, identifier=48, data=GeoUnit(name=48, unnoised_pop=2368139, parent=None, identifier=48, level=0, noised_pop=2368156.7567961817, noise=17.756796181800283, noise_type=laplacian, adjusted_pop=2368156.7567961817, error=17.756796181667596, weight=0.20982986767485823))\n"
     ]
    },
    {
     "name": "stderr",
     "output_type": "stream",
     "text": [
      "\r",
      " 92%|█████████▏| 369/399 [02:16<00:10,  2.73it/s]"
     ]
    },
    {
     "name": "stdout",
     "output_type": "stream",
     "text": [
      "Node(tag=48, identifier=48, data=GeoUnit(name=48, unnoised_pop=2368139, parent=None, identifier=48, level=0, noised_pop=2368156.7567961817, noise=17.756796181800283, noise_type=laplacian, adjusted_pop=2368156.7567961817, error=17.756796181667596, weight=0.22495274102079396))\n"
     ]
    },
    {
     "name": "stderr",
     "output_type": "stream",
     "text": [
      "\r",
      " 93%|█████████▎| 370/399 [02:17<00:10,  2.76it/s]"
     ]
    },
    {
     "name": "stdout",
     "output_type": "stream",
     "text": [
      "Node(tag=48, identifier=48, data=GeoUnit(name=48, unnoised_pop=2368139, parent=None, identifier=48, level=0, noised_pop=2368156.7567961817, noise=17.756796181800283, noise_type=laplacian, adjusted_pop=2368156.7567961817, error=17.756796181667596, weight=0.23251417769376181))\n"
     ]
    },
    {
     "name": "stderr",
     "output_type": "stream",
     "text": [
      "\r",
      " 93%|█████████▎| 371/399 [02:17<00:10,  2.76it/s]"
     ]
    },
    {
     "name": "stdout",
     "output_type": "stream",
     "text": [
      "Node(tag=48, identifier=48, data=GeoUnit(name=48, unnoised_pop=2368139, parent=None, identifier=48, level=0, noised_pop=2368156.7567961817, noise=17.756796181800283, noise_type=laplacian, adjusted_pop=2368156.7567961817, error=17.756796181667596, weight=0.2003780718336484))\n"
     ]
    },
    {
     "name": "stderr",
     "output_type": "stream",
     "text": [
      "\r",
      " 93%|█████████▎| 372/399 [02:17<00:09,  2.75it/s]"
     ]
    },
    {
     "name": "stdout",
     "output_type": "stream",
     "text": [
      "Node(tag=48, identifier=48, data=GeoUnit(name=48, unnoised_pop=2368139, parent=None, identifier=48, level=0, noised_pop=2368156.7567961817, noise=17.756796181800283, noise_type=laplacian, adjusted_pop=2368156.7567961817, error=17.756796181667596, weight=0.2892249527410208))\n"
     ]
    },
    {
     "name": "stderr",
     "output_type": "stream",
     "text": [
      "\r",
      " 93%|█████████▎| 373/399 [02:18<00:09,  2.76it/s]"
     ]
    },
    {
     "name": "stdout",
     "output_type": "stream",
     "text": [
      "Node(tag=48, identifier=48, data=GeoUnit(name=48, unnoised_pop=2368139, parent=None, identifier=48, level=0, noised_pop=2368156.7567961817, noise=17.756796181800283, noise_type=laplacian, adjusted_pop=2368156.7567961817, error=17.756796181667596, weight=0.22306238185255198))\n"
     ]
    },
    {
     "name": "stderr",
     "output_type": "stream",
     "text": [
      "\r",
      " 94%|█████████▎| 374/399 [02:18<00:09,  2.74it/s]"
     ]
    },
    {
     "name": "stdout",
     "output_type": "stream",
     "text": [
      "Node(tag=48, identifier=48, data=GeoUnit(name=48, unnoised_pop=2368139, parent=None, identifier=48, level=0, noised_pop=2368156.7567961817, noise=17.756796181800283, noise_type=laplacian, adjusted_pop=2368156.7567961817, error=17.756796181667596, weight=0.2627599243856333))\n"
     ]
    },
    {
     "name": "stderr",
     "output_type": "stream",
     "text": [
      "\r",
      " 94%|█████████▍| 375/399 [02:18<00:08,  2.75it/s]"
     ]
    },
    {
     "name": "stdout",
     "output_type": "stream",
     "text": [
      "Node(tag=48, identifier=48, data=GeoUnit(name=48, unnoised_pop=2368139, parent=None, identifier=48, level=0, noised_pop=2368156.7567961817, noise=17.756796181800283, noise_type=laplacian, adjusted_pop=2368156.7567961817, error=17.756796181667596, weight=0.2438563327032136))\n"
     ]
    },
    {
     "name": "stderr",
     "output_type": "stream",
     "text": [
      "\r",
      " 94%|█████████▍| 376/399 [02:19<00:08,  2.77it/s]"
     ]
    },
    {
     "name": "stdout",
     "output_type": "stream",
     "text": [
      "Node(tag=48, identifier=48, data=GeoUnit(name=48, unnoised_pop=2368139, parent=None, identifier=48, level=0, noised_pop=2368156.7567961817, noise=17.756796181800283, noise_type=laplacian, adjusted_pop=2368156.7567961817, error=17.756796181667596, weight=0.31568998109640833))\n"
     ]
    },
    {
     "name": "stderr",
     "output_type": "stream",
     "text": [
      "\r",
      " 94%|█████████▍| 377/399 [02:19<00:07,  2.78it/s]"
     ]
    },
    {
     "name": "stdout",
     "output_type": "stream",
     "text": [
      "Node(tag=48, identifier=48, data=GeoUnit(name=48, unnoised_pop=2368139, parent=None, identifier=48, level=0, noised_pop=2368156.7567961817, noise=17.756796181800283, noise_type=laplacian, adjusted_pop=2368156.7567961817, error=17.756796181667596, weight=0.19092627599243855))\n"
     ]
    },
    {
     "name": "stderr",
     "output_type": "stream",
     "text": [
      "\r",
      " 95%|█████████▍| 378/399 [02:19<00:07,  2.78it/s]"
     ]
    },
    {
     "name": "stdout",
     "output_type": "stream",
     "text": [
      "Node(tag=48, identifier=48, data=GeoUnit(name=48, unnoised_pop=2368139, parent=None, identifier=48, level=0, noised_pop=2368156.7567961817, noise=17.756796181800283, noise_type=laplacian, adjusted_pop=2368156.7567961817, error=17.756796181667596, weight=0.22684310018903592))\n"
     ]
    },
    {
     "name": "stderr",
     "output_type": "stream",
     "text": [
      "\r",
      " 95%|█████████▍| 379/399 [02:20<00:07,  2.77it/s]"
     ]
    },
    {
     "name": "stdout",
     "output_type": "stream",
     "text": [
      "Node(tag=48, identifier=48, data=GeoUnit(name=48, unnoised_pop=2368139, parent=None, identifier=48, level=0, noised_pop=2368156.7567961817, noise=17.756796181800283, noise_type=laplacian, adjusted_pop=2368156.7567961817, error=17.756796181667596, weight=0.19281663516068054))\n"
     ]
    },
    {
     "name": "stderr",
     "output_type": "stream",
     "text": [
      "\r",
      " 95%|█████████▌| 380/399 [02:20<00:06,  2.77it/s]"
     ]
    },
    {
     "name": "stdout",
     "output_type": "stream",
     "text": [
      "Node(tag=48, identifier=48, data=GeoUnit(name=48, unnoised_pop=2368139, parent=None, identifier=48, level=0, noised_pop=2368156.7567961817, noise=17.756796181800283, noise_type=laplacian, adjusted_pop=2368156.7567961817, error=17.756796181667596, weight=0.21928166351606806))\n"
     ]
    },
    {
     "name": "stderr",
     "output_type": "stream",
     "text": [
      "\r",
      " 95%|█████████▌| 381/399 [02:21<00:06,  2.77it/s]"
     ]
    },
    {
     "name": "stdout",
     "output_type": "stream",
     "text": [
      "Node(tag=48, identifier=48, data=GeoUnit(name=48, unnoised_pop=2368139, parent=None, identifier=48, level=0, noised_pop=2368156.7567961817, noise=17.756796181800283, noise_type=laplacian, adjusted_pop=2368156.7567961817, error=17.756796181667596, weight=0.19659735349716445))\n"
     ]
    },
    {
     "name": "stderr",
     "output_type": "stream",
     "text": [
      "\r",
      " 96%|█████████▌| 382/399 [02:21<00:06,  2.72it/s]"
     ]
    },
    {
     "name": "stdout",
     "output_type": "stream",
     "text": [
      "Node(tag=48, identifier=48, data=GeoUnit(name=48, unnoised_pop=2368139, parent=None, identifier=48, level=0, noised_pop=2368156.7567961817, noise=17.756796181800283, noise_type=laplacian, adjusted_pop=2368156.7567961817, error=17.756796181667596, weight=0.2608695652173913))\n"
     ]
    },
    {
     "name": "stderr",
     "output_type": "stream",
     "text": [
      "\r",
      " 96%|█████████▌| 383/399 [02:21<00:05,  2.69it/s]"
     ]
    },
    {
     "name": "stdout",
     "output_type": "stream",
     "text": [
      "Node(tag=48, identifier=48, data=GeoUnit(name=48, unnoised_pop=2368139, parent=None, identifier=48, level=0, noised_pop=2368156.7567961817, noise=17.756796181800283, noise_type=laplacian, adjusted_pop=2368156.7567961817, error=17.756796181667596, weight=0.29678638941398866))\n"
     ]
    },
    {
     "name": "stderr",
     "output_type": "stream",
     "text": [
      "\r",
      " 96%|█████████▌| 384/399 [02:22<00:05,  2.70it/s]"
     ]
    },
    {
     "name": "stdout",
     "output_type": "stream",
     "text": [
      "Node(tag=48, identifier=48, data=GeoUnit(name=48, unnoised_pop=2368139, parent=None, identifier=48, level=0, noised_pop=2368156.7567961817, noise=17.756796181800283, noise_type=laplacian, adjusted_pop=2368156.7567961817, error=17.756796181667596, weight=0.2589792060491493))\n"
     ]
    },
    {
     "name": "stderr",
     "output_type": "stream",
     "text": [
      "\r",
      " 96%|█████████▋| 385/399 [02:22<00:05,  2.71it/s]"
     ]
    },
    {
     "name": "stdout",
     "output_type": "stream",
     "text": [
      "Node(tag=48, identifier=48, data=GeoUnit(name=48, unnoised_pop=2368139, parent=None, identifier=48, level=0, noised_pop=2368156.7567961817, noise=17.756796181800283, noise_type=laplacian, adjusted_pop=2368156.7567961817, error=17.756796181667596, weight=0.23629489603024575))\n"
     ]
    },
    {
     "name": "stderr",
     "output_type": "stream",
     "text": [
      "\r",
      " 97%|█████████▋| 386/399 [02:22<00:04,  2.72it/s]"
     ]
    },
    {
     "name": "stdout",
     "output_type": "stream",
     "text": [
      "Node(tag=48, identifier=48, data=GeoUnit(name=48, unnoised_pop=2368139, parent=None, identifier=48, level=0, noised_pop=2368156.7567961817, noise=17.756796181800283, noise_type=laplacian, adjusted_pop=2368156.7567961817, error=17.756796181667596, weight=0.24763705103969755))\n"
     ]
    },
    {
     "name": "stderr",
     "output_type": "stream",
     "text": [
      "\r",
      " 97%|█████████▋| 387/399 [02:23<00:04,  2.71it/s]"
     ]
    },
    {
     "name": "stdout",
     "output_type": "stream",
     "text": [
      "Node(tag=48, identifier=48, data=GeoUnit(name=48, unnoised_pop=2368139, parent=None, identifier=48, level=0, noised_pop=2368156.7567961817, noise=17.756796181800283, noise_type=laplacian, adjusted_pop=2368156.7567961817, error=17.756796181667596, weight=0.2003780718336484))\n"
     ]
    },
    {
     "name": "stderr",
     "output_type": "stream",
     "text": [
      "\r",
      " 97%|█████████▋| 388/399 [02:23<00:04,  2.70it/s]"
     ]
    },
    {
     "name": "stdout",
     "output_type": "stream",
     "text": [
      "Node(tag=48, identifier=48, data=GeoUnit(name=48, unnoised_pop=2368139, parent=None, identifier=48, level=0, noised_pop=2368156.7567961817, noise=17.756796181800283, noise_type=laplacian, adjusted_pop=2368156.7567961817, error=17.756796181667596, weight=0.2835538752362949))\n"
     ]
    },
    {
     "name": "stderr",
     "output_type": "stream",
     "text": [
      "\r",
      " 97%|█████████▋| 389/399 [02:24<00:03,  2.71it/s]"
     ]
    },
    {
     "name": "stdout",
     "output_type": "stream",
     "text": [
      "Node(tag=48, identifier=48, data=GeoUnit(name=48, unnoised_pop=2368139, parent=None, identifier=48, level=0, noised_pop=2368156.7567961817, noise=17.756796181800283, noise_type=laplacian, adjusted_pop=2368156.7567961817, error=17.756796181667596, weight=0.29678638941398866))\n"
     ]
    },
    {
     "name": "stderr",
     "output_type": "stream",
     "text": [
      "\r",
      " 98%|█████████▊| 390/399 [02:24<00:03,  2.72it/s]"
     ]
    },
    {
     "name": "stdout",
     "output_type": "stream",
     "text": [
      "Node(tag=48, identifier=48, data=GeoUnit(name=48, unnoised_pop=2368139, parent=None, identifier=48, level=0, noised_pop=2368156.7567961817, noise=17.756796181800283, noise_type=laplacian, adjusted_pop=2368156.7567961817, error=17.756796181667596, weight=0.20982986767485823))\n"
     ]
    },
    {
     "name": "stderr",
     "output_type": "stream",
     "text": [
      "\r",
      " 98%|█████████▊| 391/399 [02:24<00:02,  2.72it/s]"
     ]
    },
    {
     "name": "stdout",
     "output_type": "stream",
     "text": [
      "Node(tag=48, identifier=48, data=GeoUnit(name=48, unnoised_pop=2368139, parent=None, identifier=48, level=0, noised_pop=2368156.7567961817, noise=17.756796181800283, noise_type=laplacian, adjusted_pop=2368156.7567961817, error=17.756796181667596, weight=0.19281663516068054))\n"
     ]
    },
    {
     "name": "stderr",
     "output_type": "stream",
     "text": [
      "\r",
      " 98%|█████████▊| 392/399 [02:25<00:02,  2.72it/s]"
     ]
    },
    {
     "name": "stdout",
     "output_type": "stream",
     "text": [
      "Node(tag=48, identifier=48, data=GeoUnit(name=48, unnoised_pop=2368139, parent=None, identifier=48, level=0, noised_pop=2368156.7567961817, noise=17.756796181800283, noise_type=laplacian, adjusted_pop=2368156.7567961817, error=17.756796181667596, weight=0.20226843100189035))\n"
     ]
    },
    {
     "name": "stderr",
     "output_type": "stream",
     "text": [
      "\r",
      " 98%|█████████▊| 393/399 [02:25<00:02,  2.73it/s]"
     ]
    },
    {
     "name": "stdout",
     "output_type": "stream",
     "text": [
      "Node(tag=48, identifier=48, data=GeoUnit(name=48, unnoised_pop=2368139, parent=None, identifier=48, level=0, noised_pop=2368156.7567961817, noise=17.756796181800283, noise_type=laplacian, adjusted_pop=2368156.7567961817, error=17.756796181667596, weight=0.19848771266540643))\n"
     ]
    },
    {
     "name": "stderr",
     "output_type": "stream",
     "text": [
      "\r",
      " 99%|█████████▊| 394/399 [02:25<00:01,  2.74it/s]"
     ]
    },
    {
     "name": "stdout",
     "output_type": "stream",
     "text": [
      "Node(tag=48, identifier=48, data=GeoUnit(name=48, unnoised_pop=2368139, parent=None, identifier=48, level=0, noised_pop=2368156.7567961817, noise=17.756796181800283, noise_type=laplacian, adjusted_pop=2368156.7567961817, error=17.756796181667596, weight=0.28733459357277885))\n"
     ]
    },
    {
     "name": "stderr",
     "output_type": "stream",
     "text": [
      "\r",
      " 99%|█████████▉| 395/399 [02:26<00:01,  2.75it/s]"
     ]
    },
    {
     "name": "stdout",
     "output_type": "stream",
     "text": [
      "Node(tag=48, identifier=48, data=GeoUnit(name=48, unnoised_pop=2368139, parent=None, identifier=48, level=0, noised_pop=2368156.7567961817, noise=17.756796181800283, noise_type=laplacian, adjusted_pop=2368156.7567961817, error=17.756796181667596, weight=0.24574669187145556))\n"
     ]
    },
    {
     "name": "stderr",
     "output_type": "stream",
     "text": [
      "\r",
      " 99%|█████████▉| 396/399 [02:26<00:01,  2.73it/s]"
     ]
    },
    {
     "name": "stdout",
     "output_type": "stream",
     "text": [
      "Node(tag=48, identifier=48, data=GeoUnit(name=48, unnoised_pop=2368139, parent=None, identifier=48, level=0, noised_pop=2368156.7567961817, noise=17.756796181800283, noise_type=laplacian, adjusted_pop=2368156.7567961817, error=17.756796181667596, weight=0.2589792060491493))\n"
     ]
    },
    {
     "name": "stderr",
     "output_type": "stream",
     "text": [
      "\r",
      " 99%|█████████▉| 397/399 [02:26<00:00,  2.73it/s]"
     ]
    },
    {
     "name": "stdout",
     "output_type": "stream",
     "text": [
      "Node(tag=48, identifier=48, data=GeoUnit(name=48, unnoised_pop=2368139, parent=None, identifier=48, level=0, noised_pop=2368156.7567961817, noise=17.756796181800283, noise_type=laplacian, adjusted_pop=2368156.7567961817, error=17.756796181667596, weight=0.24007561436672967))\n"
     ]
    },
    {
     "name": "stderr",
     "output_type": "stream",
     "text": [
      "\r",
      "100%|█████████▉| 398/399 [02:27<00:00,  2.72it/s]"
     ]
    },
    {
     "name": "stdout",
     "output_type": "stream",
     "text": [
      "Node(tag=48, identifier=48, data=GeoUnit(name=48, unnoised_pop=2368139, parent=None, identifier=48, level=0, noised_pop=2368156.7567961817, noise=17.756796181800283, noise_type=laplacian, adjusted_pop=2368156.7567961817, error=17.756796181667596, weight=0.2381852551984877))\n"
     ]
    },
    {
     "name": "stderr",
     "output_type": "stream",
     "text": [
      "100%|██████████| 399/399 [02:27<00:00,  2.70it/s]\n"
     ]
    }
   ],
   "source": [
    "for district_type, ds in [(\"tract_recom\", tract_recom)]:\n",
    "    print(\"Starting {} calculations\".format(district_type), flush=True)\n",
    "    frag_scores = district_frag_scores(toy, ds)"
   ]
  },
  {
   "cell_type": "code",
   "execution_count": 7,
   "metadata": {},
   "outputs": [
    {
     "data": {
      "text/plain": [
       "array([100.12087578, 107.54732151, 100.61333043,  92.28122755,\n",
       "       100.61333043,  84.80007576,  95.51897327,  92.83028577,\n",
       "       105.33033044, 110.49261902,  85.3981904 ,  92.28122755,\n",
       "        97.60199899, 106.22844758, 103.95485293, 107.54732151,\n",
       "        90.61141148,  91.72839577, 110.08318295, 112.0926276 ,\n",
       "        91.72839577, 103.48881329, 104.41711901,  85.99253147,\n",
       "        91.17179041,  96.56803328, 108.40770295, 107.54732151,\n",
       "        98.11332149, 107.97939902,  83.59252576, 107.11147044,\n",
       "        96.04539006,  93.37557041,  99.62464757,  82.9830904 ,\n",
       "        94.45481899, 109.66997331, 107.97939902,  93.37557041,\n",
       "        94.98878292,  97.08690292, 106.22844758,  82.9830904 ,\n",
       "        90.61141148,  88.90763326,  98.11332149,  90.04725898,\n",
       "       105.7812758 ,  94.98878292,  90.04725898,  93.91708149,\n",
       "       107.54732151,  91.17179041, 107.11147044,  87.75291326,\n",
       "       105.7812758 , 107.54732151, 109.25299009, 113.63225903,\n",
       "        90.04725898, 104.41711901,  94.98878292,  85.3981904 ,\n",
       "        94.98878292, 103.95485293,  93.37557041, 110.08318295,\n",
       "        96.04539006,  88.90763326,  91.17179041, 112.86999046,\n",
       "       100.12087578,  97.08690292, 107.11147044, 106.22844758,\n",
       "       108.40770295, 110.49261902,  92.83028577, 114.37943332,\n",
       "       108.8322333 , 109.66997331, 109.25299009,  90.61141148,\n",
       "       107.54732151, 109.25299009,  98.11332149, 107.11147044,\n",
       "        93.91708149,  93.37557041, 112.48319581, 108.8322333 ,\n",
       "       109.66997331,  97.60199899,  93.37557041, 102.54541329,\n",
       "        99.12464578, 106.6718458 ,  98.11332149, 109.25299009,\n",
       "       107.54732151,  95.51897327, 101.1020115 , 108.8322333 ,\n",
       "       105.33033044,  82.9830904 ,  85.3981904 ,  94.45481899,\n",
       "       103.95485293,  95.51897327,  87.75291326, 105.7812758 ,\n",
       "       107.11147044,  90.61141148,  89.47933291,  92.28122755,\n",
       "        91.72839577,  91.17179041,  91.72839577,  95.51897327,\n",
       "       102.54541329,  86.58309897,  84.80007576,  90.04725898,\n",
       "        98.11332149,  92.83028577, 106.22844758, 108.40770295,\n",
       "        98.11332149,  96.56803328,  86.58309897,  94.98878292,\n",
       "        88.33216005,  96.56803328,  87.1698929 , 108.8322333 ,\n",
       "       101.1020115 , 103.01900008, 105.7812758 ,  93.91708149,\n",
       "        85.99253147, 106.6718458 , 106.22844758,  85.99253147,\n",
       "        84.80007576, 101.586919  ,  90.61141148, 100.12087578,\n",
       "        85.3981904 , 107.97939902,  99.62464757, 108.8322333 ,\n",
       "       109.25299009,  91.72839577,  90.04725898,  94.98878292,\n",
       "       107.11147044,  91.72839577,  96.56803328,  91.72839577,\n",
       "        94.98878292, 102.54541329,  90.61141148, 109.66997331,\n",
       "        87.75291326,  93.37557041,  82.36988147, 109.66997331,\n",
       "       102.54541329,  99.62464757,  96.04539006, 104.41711901,\n",
       "        92.28122755, 108.40770295,  94.98878292, 102.06805293,\n",
       "       103.95485293,  91.17179041, 102.06805293,  86.58309897,\n",
       "       106.22844758, 105.7812758 ,  91.17179041,  88.90763326,\n",
       "        99.62464757, 104.87561151,  92.83028577,  91.72839577,\n",
       "       112.0926276 , 107.11147044,  99.12464578, 104.41711901,\n",
       "       106.6718458 , 101.586919  ,  91.72839577, 104.41711901,\n",
       "       104.41711901, 107.97939902, 106.6718458 ,  92.83028577,\n",
       "        97.08690292, 109.25299009, 108.8322333 ,  93.37557041,\n",
       "       108.40770295, 101.1020115 ,  88.90763326, 107.97939902,\n",
       "       106.22844758, 108.8322333 ,  84.19818754,  82.9830904 ,\n",
       "        92.28122755,  94.98878292,  90.61141148, 103.01900008,\n",
       "        93.91708149,  93.91708149, 111.69828581, 114.74736011,\n",
       "       106.22844758,  89.47933291, 103.01900008,  92.83028577,\n",
       "       105.33033044, 100.61333043, 108.40770295,  89.47933291,\n",
       "       104.41711901,  93.37557041,  99.62464757, 107.97939902,\n",
       "        87.1698929 ,  98.62087042, 109.25299009, 100.61333043,\n",
       "        94.45481899,  90.04725898, 106.6718458 , 106.6718458 ,\n",
       "        99.62464757,  99.12464578,  94.45481899, 103.48881329,\n",
       "        91.17179041, 108.8322333 ,  95.51897327,  89.47933291,\n",
       "        98.62087042, 110.08318295,  97.08690292, 100.12087578,\n",
       "        93.37557041, 102.06805293, 102.06805293,  93.37557041,\n",
       "       100.12087578,  87.75291326,  82.9830904 , 110.49261902,\n",
       "        98.62087042,  91.17179041,  91.17179041, 105.7812758 ,\n",
       "       107.54732151,  90.04725898, 108.8322333 , 109.66997331,\n",
       "       103.48881329, 107.97939902,  94.45481899, 109.66997331,\n",
       "        99.12464578,  96.04539006, 110.08318295, 112.48319581,\n",
       "        93.37557041, 107.11147044,  97.60199899,  91.72839577,\n",
       "       108.40770295, 101.586919  ,  85.99253147, 100.12087578,\n",
       "        85.99253147, 107.11147044,  96.04539006,  83.59252576,\n",
       "       102.06805293, 105.33033044,  98.62087042, 101.586919  ,\n",
       "       109.25299009, 103.95485293, 105.7812758 ,  94.98878292,\n",
       "        93.37557041, 102.54541329, 102.54541329,  99.62464757,\n",
       "       110.89828152, 108.40770295,  92.83028577, 110.89828152,\n",
       "        92.83028577,  92.83028577, 108.8322333 ,  92.28122755,\n",
       "        98.11332149,  92.28122755,  91.17179041, 114.00773296,\n",
       "       102.06805293, 106.22844758,  88.90763326, 102.06805293,\n",
       "        93.37557041,  90.61141148, 110.89828152,  99.12464578,\n",
       "        92.83028577,  89.47933291, 107.54732151,  94.98878292,\n",
       "        92.28122755,  97.08690292, 104.87561151,  87.1698929 ,\n",
       "       111.30017045, 110.49261902, 107.54732151, 107.54732151,\n",
       "       103.95485293, 108.40770295, 111.30017045,  93.91708149,\n",
       "       107.54732151, 105.33033044, 109.25299009,  98.62087042,\n",
       "        85.99253147,  91.17179041,  94.98878292,  93.37557041,\n",
       "        84.80007576,  88.33216005, 102.54541329, 106.6718458 ,\n",
       "        87.1698929 ,  94.98878292,  99.62464757,  92.83028577,\n",
       "       102.54541329, 103.95485293, 101.1020115 , 110.89828152,\n",
       "       108.8322333 ,  92.28122755,  88.90763326,  88.90763326,\n",
       "        85.3981904 ,  87.1698929 ,  96.56803328, 106.22844758,\n",
       "        99.12464578,  97.60199899,  91.72839577,  87.75291326,\n",
       "        92.28122755,  94.45481899,  84.80007576, 108.8322333 ,\n",
       "        91.72839577, 102.54541329,  97.60199899, 114.37943332,\n",
       "        81.75289897,  92.83028577,  82.36988147,  90.61141148,\n",
       "        83.59252576, 102.06805293, 110.49261902, 101.586919  ,\n",
       "        95.51897327,  98.62087042,  84.80007576, 107.54732151,\n",
       "       110.49261902,  87.75291326,  82.36988147,  85.3981904 ,\n",
       "        84.19818754, 108.40770295,  98.11332149, 101.586919  ,\n",
       "        96.56803328,  96.04539006, 108.40770295])"
      ]
     },
     "execution_count": 7,
     "metadata": {},
     "output_type": "execute_result"
    }
   ],
   "source": [
    "frag_scores"
   ]
  },
  {
   "cell_type": "code",
   "execution_count": 8,
   "metadata": {
    "scrolled": true
   },
   "outputs": [],
   "source": [
    "def analytical_district_variances(h, districts, num_attributes=1):\n",
    "    vrs = {}\n",
    "    num_districts = len(districts)\n",
    "    for split in [\"equal\", \"top_heavy\", \"mid_heavy\", \"bottom_heavy\", \"bg_heavy\"]:\n",
    "        print(split)\n",
    "        vs = np.array([h.assign_district_tree_variance(dist, eps=1, \n",
    "                         eps_splits=epsilon_split[split]) for dist in districts])*num_attributes\n",
    "        vrs[split] = vs\n",
    "    return vrs"
   ]
  },
  {
   "cell_type": "code",
   "execution_count": null,
   "metadata": {},
   "outputs": [],
   "source": []
  },
  {
   "cell_type": "code",
   "execution_count": null,
   "metadata": {},
   "outputs": [],
   "source": []
  },
  {
   "cell_type": "code",
   "execution_count": null,
   "metadata": {},
   "outputs": [],
   "source": [
    "\"\"\"\n",
    "hierarchy = [(\"Country\", 1, 810.), \n",
    "             (\"State\", 3, 270.), \n",
    "             (\"County\", 3, 90.), \n",
    "             (\"Dist\", 3, 30.)]\n",
    "\n",
    "eps_budget = 0.2                  \n",
    "eps_splits = [0.25, 0.25, 0.25, 0.25] \n",
    "\n",
    "toy = ToyDown.from_hierarchy(hierarchy, eps_budget, eps_splits)\n",
    "toy.show() \n",
    "\n",
    "# A demonstration of Proposition 1, calculated for CountryState1\n",
    "branching = 3\n",
    "exp_1 = toy.get_node(\"CountryState1\").data.noise\n",
    "exp_2 = ( toy.get_node(\"CountryState1\").data.noise \\\n",
    "        + toy.get_node(\"CountryState2\").data.noise \\\n",
    "        + toy.get_node(\"CountryState3\").data.noise ) / branching\n",
    "exp_3 = toy.get_node(\"Country\").data.error / branching\n",
    "\n",
    "math.isclose(exp_1 - exp_2 + exp_3,\n",
    "             toy.get_node(\"CountryState1\").data.error,\n",
    "             abs_tol=0.00001)\n",
    "\n",
    "# 6 -level Trees\n",
    "hierarchy = [(\"Country\", 1, 900000.), \n",
    "             (\"State\", 3, 300000.), \n",
    "             (\"County\", 3, 100000.), \n",
    "             (\"Tract\", 10, 10000.),\n",
    "             (\"BlockGroup\", 10, 1000.),\n",
    "             (\"Block\", 10, 100.)]\n",
    "\n",
    "eps_budget = 0.4998 # I picked a random number from one of Peter's runs\n",
    "eps_splits = [0, 0, 0.25, 0.25, 0.25, 0.25] \n",
    "\n",
    "toy = ToyModel(hierarchy, eps_budget, eps_splits)\n",
    "toy.noise_and_adjust()\n",
    "toy.show() \n",
    "\n",
    "# First, a sanity check that the equation at the end of Prop 4 works\n",
    "# We will do this check on CountryState1County1Tract1\n",
    "p = 0.5\n",
    "dist_blocks = []\n",
    "other_blocks = []\n",
    "tract = toy.get_node(\"CountryState1County1Tract1\")\n",
    "block_groups = toy.children(tract.identifier)\n",
    "\n",
    "def set_diff(a, b):\n",
    "    return list(set(a).difference(set(b)))\n",
    "\n",
    "for bg in block_groups:\n",
    "    blocks = toy.children(bg.identifier)\n",
    "    chosen_blocks = np.random.choice(blocks, int(p*10), replace=False)\n",
    "    \n",
    "    dist_blocks.extend(chosen_blocks)\n",
    "    other_blocks.extend(set_diff(blocks, chosen_blocks))\n",
    "\n",
    "dist_blk_noises = [blk.data.noise for blk in dist_blocks]\n",
    "other_blk_noises = [blk.data.noise for blk in other_blocks]\n",
    "blk_errors = [blk.data.error for blk in dist_blocks]\n",
    "\n",
    "math.isclose((1-p) * sum(dist_blk_noises) - p * sum(other_blk_noises) + p * tract.data.error,\n",
    "             sum(blk_errors),\n",
    "             abs_tol = 0.000001)\n",
    "\n",
    "# get blk errors for p from 0 to 1\n",
    "def get_district_errors_at_p(p, tract_name):\n",
    "    dist_blocks = []\n",
    "    other_blocks = []\n",
    "    tract = toy.get_node(tract_name)\n",
    "    block_groups = toy.children(tract.identifier)\n",
    "\n",
    "    for bg in block_groups:\n",
    "        blocks = toy.children(bg.identifier)\n",
    "        chosen_blocks = np.random.choice(blocks, int(p*10), replace=False)\n",
    "        dist_blocks.extend(chosen_blocks)\n",
    "\n",
    "    raw_errors = [blk.data.error for blk in dist_blocks]\n",
    "    abs_errors = [abs(err) for err in raw_errors]\n",
    "    \n",
    "    return sum(raw_errors), sum(abs_errors)\n",
    "\n",
    "raw_error_sums = []\n",
    "abs_error_sums = []\n",
    "ps = np.linspace(0,1,11)\n",
    "for p in ps:\n",
    "    raw_err, abs_err = get_district_errors_at_p(p, \"CountryState1County1Tract1\")\n",
    "    raw_error_sums.append(raw_err)\n",
    "    abs_error_sums.append(abs_err)\n",
    "    \n",
    "plt.plot(ps, raw_error_sums) \n",
    "\n",
    "# we are probably more interested in the absolute value of the errors than the actual sum of errors\n",
    "plt.plot(ps, abs_error_sums)\n",
    "\"\"\""
   ]
  },
  {
   "cell_type": "code",
   "execution_count": null,
   "metadata": {},
   "outputs": [],
   "source": []
  },
  {
   "cell_type": "code",
   "execution_count": null,
   "metadata": {},
   "outputs": [],
   "source": []
  },
  {
   "cell_type": "code",
   "execution_count": null,
   "metadata": {},
   "outputs": [],
   "source": []
  },
  {
   "cell_type": "code",
   "execution_count": null,
   "metadata": {},
   "outputs": [],
   "source": []
  }
 ],
 "metadata": {
  "kernelspec": {
   "display_name": "Python 3",
   "language": "python",
   "name": "python3"
  },
  "language_info": {
   "codemirror_mode": {
    "name": "ipython",
    "version": 3
   },
   "file_extension": ".py",
   "mimetype": "text/x-python",
   "name": "python",
   "nbconvert_exporter": "python",
   "pygments_lexer": "ipython3",
   "version": "3.8.5"
  }
 },
 "nbformat": 4,
 "nbformat_minor": 2
}
