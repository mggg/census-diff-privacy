{
 "cells": [
  {
   "cell_type": "code",
   "execution_count": 1,
   "metadata": {},
   "outputs": [],
   "source": [
    "import math\n",
    "from toyclown import GeoUnit, ToyClown"
   ]
  },
  {
   "cell_type": "code",
   "execution_count": 2,
   "metadata": {},
   "outputs": [],
   "source": [
    "geounits = [GeoUnit(\"USA\", None, 900), \n",
    "                GeoUnit(\"Alabama\", \"USA\", 300), \n",
    "                    GeoUnit(\"AlabamaCounty1\", \"Alabama\", 100),\n",
    "                        GeoUnit(\"AlabamaCounty1Dist1\", \"AlabamaCounty1\", 33),\n",
    "                        GeoUnit(\"AlabamaCounty1Dist2\", \"AlabamaCounty1\", 33),\n",
    "                        GeoUnit(\"AlabamaCounty1Dist3\", \"AlabamaCounty1\", 34),\n",
    "                    GeoUnit(\"AlabamaCounty2\", \"Alabama\", 100),\n",
    "                        GeoUnit(\"AlabamaCounty2Dist1\", \"AlabamaCounty2\", 33),\n",
    "                        GeoUnit(\"AlabamaCounty2Dist2\", \"AlabamaCounty2\", 33),\n",
    "                        GeoUnit(\"AlabamaCounty2Dist3\", \"AlabamaCounty2\", 34),\n",
    "                    GeoUnit(\"AlabamaCounty3\", \"Alabama\", 100),\n",
    "                        GeoUnit(\"AlabamaCounty3Dist1\", \"AlabamaCounty3\", 33),\n",
    "                        GeoUnit(\"AlabamaCounty3Dist2\", \"AlabamaCounty3\", 33),\n",
    "                        GeoUnit(\"AlabamaCounty3Dist3\", \"AlabamaCounty3\", 34),\n",
    "                GeoUnit(\"Mass\", \"USA\", 300), \n",
    "                    GeoUnit(\"MassCounty1\", \"Mass\", 100),\n",
    "                        GeoUnit(\"MassCounty1Dist1\", \"MassCounty1\", 33),\n",
    "                        GeoUnit(\"MassCounty1Dist2\", \"MassCounty1\", 33),\n",
    "                        GeoUnit(\"MassCounty1Dist3\", \"MassCounty1\", 34),\n",
    "                    GeoUnit(\"MassCounty2\", \"Mass\", 100),\n",
    "                        GeoUnit(\"MassCounty2Dist1\", \"MassCounty2\", 33),\n",
    "                        GeoUnit(\"MassCounty2Dist2\", \"MassCounty2\", 33),\n",
    "                        GeoUnit(\"MassCounty2Dist3\", \"MassCounty2\", 34),\n",
    "                    GeoUnit(\"MassCounty3\", \"Mass\", 100),\n",
    "                        GeoUnit(\"MassCounty3Dist1\", \"MassCounty3\", 33),\n",
    "                        GeoUnit(\"MassCounty3Dist2\", \"MassCounty3\", 33),\n",
    "                        GeoUnit(\"MassCounty3Dist3\", \"MassCounty3\", 34),\n",
    "                GeoUnit(\"NY\", \"USA\", 300), \n",
    "                    GeoUnit(\"NYCounty1\", \"NY\", 100),\n",
    "                        GeoUnit(\"NYCounty1Dist1\", \"NYCounty1\", 33),\n",
    "                        GeoUnit(\"NYCounty1Dist2\", \"NYCounty1\", 33),\n",
    "                        GeoUnit(\"NYCounty1Dist3\", \"NYCounty1\", 34),\n",
    "                    GeoUnit(\"NYCounty2\", \"NY\", 100),\n",
    "                        GeoUnit(\"NYCounty2Dist1\", \"NYCounty2\", 33),\n",
    "                        GeoUnit(\"NYCounty2Dist2\", \"NYCounty2\", 33),\n",
    "                        GeoUnit(\"NYCounty2Dist3\", \"NYCounty2\", 34),\n",
    "                    GeoUnit(\"NYCounty3\", \"NY\", 100),\n",
    "                        GeoUnit(\"NYCounty3Dist1\", \"NYCounty3\", 33),\n",
    "                        GeoUnit(\"NYCounty3Dist2\", \"NYCounty3\", 33),\n",
    "                        GeoUnit(\"NYCounty3Dist3\", \"NYCounty3\", 34),\n",
    "           ]"
   ]
  },
  {
   "cell_type": "code",
   "execution_count": 3,
   "metadata": {},
   "outputs": [
    {
     "name": "stdout",
     "output_type": "stream",
     "text": [
      "USA\n",
      "├── Alabama\n",
      "│   ├── AlabamaCounty1\n",
      "│   │   ├── AlabamaCounty1Dist1\n",
      "│   │   ├── AlabamaCounty1Dist2\n",
      "│   │   └── AlabamaCounty1Dist3\n",
      "│   ├── AlabamaCounty2\n",
      "│   │   ├── AlabamaCounty2Dist1\n",
      "│   │   ├── AlabamaCounty2Dist2\n",
      "│   │   └── AlabamaCounty2Dist3\n",
      "│   └── AlabamaCounty3\n",
      "│       ├── AlabamaCounty3Dist1\n",
      "│       ├── AlabamaCounty3Dist2\n",
      "│       └── AlabamaCounty3Dist3\n",
      "├── Mass\n",
      "│   ├── MassCounty1\n",
      "│   │   ├── MassCounty1Dist1\n",
      "│   │   ├── MassCounty1Dist2\n",
      "│   │   └── MassCounty1Dist3\n",
      "│   ├── MassCounty2\n",
      "│   │   ├── MassCounty2Dist1\n",
      "│   │   ├── MassCounty2Dist2\n",
      "│   │   └── MassCounty2Dist3\n",
      "│   └── MassCounty3\n",
      "│       ├── MassCounty3Dist1\n",
      "│       ├── MassCounty3Dist2\n",
      "│       └── MassCounty3Dist3\n",
      "└── NY\n",
      "    ├── NYCounty1\n",
      "    │   ├── NYCounty1Dist1\n",
      "    │   ├── NYCounty1Dist2\n",
      "    │   └── NYCounty1Dist3\n",
      "    ├── NYCounty2\n",
      "    │   ├── NYCounty2Dist1\n",
      "    │   ├── NYCounty2Dist2\n",
      "    │   └── NYCounty2Dist3\n",
      "    └── NYCounty3\n",
      "        ├── NYCounty3Dist1\n",
      "        ├── NYCounty3Dist2\n",
      "        └── NYCounty3Dist3\n",
      "\n"
     ]
    }
   ],
   "source": [
    "eps_budget = 0.4998 # I picked a random number from one of Peter's runs\n",
    "num_levels = 4 # Country, State, County, Enumdist\n",
    "eps_splits = [0.25, 0.25, 0.25, 0.25] \n",
    "\n",
    "clown = ToyClown(geounits, num_levels, eps_budget, eps_splits)\n",
    "clown.show()"
   ]
  },
  {
   "cell_type": "code",
   "execution_count": 4,
   "metadata": {},
   "outputs": [],
   "source": [
    "# This is where everything from Proposition 1 happens.\n",
    "clown.noise_and_adjust()"
   ]
  },
  {
   "cell_type": "code",
   "execution_count": 5,
   "metadata": {},
   "outputs": [
    {
     "data": {
      "text/plain": [
       "{'name': 'NYCounty3',\n",
       " 'unnoised_pop': 100,\n",
       " 'parent': 'NY',\n",
       " 'identifier': 'NYCounty3',\n",
       " 'level': 2,\n",
       " 'noised_pop': 104.97261323462607,\n",
       " 'noise': 4.972613234626061,\n",
       " 'noise_type': 'laplacian',\n",
       " 'adjusted_pop': 105.35084370098826,\n",
       " 'error': -5.350843700988264}"
      ]
     },
     "execution_count": 5,
     "metadata": {},
     "output_type": "execute_result"
    }
   ],
   "source": [
    "# How to look at the node's attributes\n",
    "clown.get_node(\"NYCounty3\").data.__dict__"
   ]
  },
  {
   "cell_type": "code",
   "execution_count": null,
   "metadata": {},
   "outputs": [],
   "source": [
    "# A demonstration that the numbers add up within 0.00001\n",
    "math.isclose(( clown.get_node(\"NYCounty3Dist1\").data.adjusted_pop \\\n",
    "             + clown.get_node(\"NYCounty3Dist2\").data.adjusted_pop \\\n",
    "             + clown.get_node(\"NYCounty3Dist3\").data.adjusted_pop ), \n",
    "             clown.get_node(\"NYCounty3\").data.adjusted_pop, \n",
    "             abs_tol=0.00001)"
   ]
  }
 ],
 "metadata": {
  "kernelspec": {
   "display_name": "Python 3",
   "language": "python",
   "name": "python3"
  },
  "language_info": {
   "codemirror_mode": {
    "name": "ipython",
    "version": 3
   },
   "file_extension": ".py",
   "mimetype": "text/x-python",
   "name": "python",
   "nbconvert_exporter": "python",
   "pygments_lexer": "ipython3",
   "version": "3.8.1"
  }
 },
 "nbformat": 4,
 "nbformat_minor": 2
}
