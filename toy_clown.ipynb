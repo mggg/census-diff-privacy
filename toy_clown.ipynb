{
 "cells": [
  {
   "cell_type": "code",
   "execution_count": 1,
   "metadata": {},
   "outputs": [],
   "source": [
    "import math\n",
    "from toyclown import GeoUnit, ToyClown"
   ]
  },
  {
   "cell_type": "code",
   "execution_count": 2,
   "metadata": {},
   "outputs": [
    {
     "name": "stdout",
     "output_type": "stream",
     "text": [
      "Country\n",
      "├── CountryState1\n",
      "│   ├── CountryState1County1\n",
      "│   │   ├── CountryState1County1Dist1\n",
      "│   │   ├── CountryState1County1Dist2\n",
      "│   │   └── CountryState1County1Dist3\n",
      "│   ├── CountryState1County2\n",
      "│   │   ├── CountryState1County2Dist1\n",
      "│   │   ├── CountryState1County2Dist2\n",
      "│   │   └── CountryState1County2Dist3\n",
      "│   └── CountryState1County3\n",
      "│       ├── CountryState1County3Dist1\n",
      "│       ├── CountryState1County3Dist2\n",
      "│       └── CountryState1County3Dist3\n",
      "├── CountryState2\n",
      "│   ├── CountryState2County1\n",
      "│   │   ├── CountryState2County1Dist1\n",
      "│   │   ├── CountryState2County1Dist2\n",
      "│   │   └── CountryState2County1Dist3\n",
      "│   ├── CountryState2County2\n",
      "│   │   ├── CountryState2County2Dist1\n",
      "│   │   ├── CountryState2County2Dist2\n",
      "│   │   └── CountryState2County2Dist3\n",
      "│   └── CountryState2County3\n",
      "│       ├── CountryState2County3Dist1\n",
      "│       ├── CountryState2County3Dist2\n",
      "│       └── CountryState2County3Dist3\n",
      "└── CountryState3\n",
      "    ├── CountryState3County1\n",
      "    │   ├── CountryState3County1Dist1\n",
      "    │   ├── CountryState3County1Dist2\n",
      "    │   └── CountryState3County1Dist3\n",
      "    ├── CountryState3County2\n",
      "    │   ├── CountryState3County2Dist1\n",
      "    │   ├── CountryState3County2Dist2\n",
      "    │   └── CountryState3County2Dist3\n",
      "    └── CountryState3County3\n",
      "        ├── CountryState3County3Dist1\n",
      "        ├── CountryState3County3Dist2\n",
      "        └── CountryState3County3Dist3\n",
      "\n"
     ]
    }
   ],
   "source": [
    "hierarchy = [(\"Country\", 1, 810), \n",
    "             (\"State\", 3, 270), \n",
    "             (\"County\", 3, 90), \n",
    "             (\"Dist\", 3, 30)]\n",
    "\n",
    "eps_budget = 0.4998 # I picked a random number from one of Peter's runs\n",
    "eps_splits = [0.25, 0.25, 0.25, 0.25] \n",
    "\n",
    "clown = ToyClown(hierarchy, eps_budget, eps_splits)\n",
    "clown.show() "
   ]
  },
  {
   "cell_type": "code",
   "execution_count": 3,
   "metadata": {},
   "outputs": [],
   "source": [
    "# This is where everything from Proposition 1 happens.\n",
    "clown.noise_and_adjust()"
   ]
  },
  {
   "cell_type": "code",
   "execution_count": 4,
   "metadata": {},
   "outputs": [
    {
     "data": {
      "text/plain": [
       "{'name': 'CountryState3',\n",
       " 'unnoised_pop': 270,\n",
       " 'parent': 'Country',\n",
       " 'identifier': 'CountryState3',\n",
       " 'level': 1,\n",
       " 'noised_pop': 276.66319391506784,\n",
       " 'noise': 6.663193915067833,\n",
       " 'noise_type': 'laplacian',\n",
       " 'adjusted_pop': 279.43907465147197,\n",
       " 'error': 9.43907465147197}"
      ]
     },
     "execution_count": 4,
     "metadata": {},
     "output_type": "execute_result"
    }
   ],
   "source": [
    "# How to look at the node's attributes\n",
    "clown.get_node(\"CountryState3\").data.__dict__"
   ]
  },
  {
   "cell_type": "code",
   "execution_count": 6,
   "metadata": {},
   "outputs": [
    {
     "data": {
      "text/plain": [
       "True"
      ]
     },
     "execution_count": 6,
     "metadata": {},
     "output_type": "execute_result"
    }
   ],
   "source": [
    "# A demonstration that the numbers add up within 0.00001\n",
    "math.isclose(( clown.get_node(\"CountryState3County3Dist1\").data.adjusted_pop \\\n",
    "             + clown.get_node(\"CountryState3County3Dist2\").data.adjusted_pop \\\n",
    "             + clown.get_node(\"CountryState3County3Dist3\").data.adjusted_pop ), \n",
    "             clown.get_node(\"CountryState3County3\").data.adjusted_pop, \n",
    "             abs_tol=0.00001)"
   ]
  },
  {
   "cell_type": "code",
   "execution_count": null,
   "metadata": {},
   "outputs": [],
   "source": []
  }
 ],
 "metadata": {
  "kernelspec": {
   "display_name": "Python 3",
   "language": "python",
   "name": "python3"
  },
  "language_info": {
   "codemirror_mode": {
    "name": "ipython",
    "version": 3
   },
   "file_extension": ".py",
   "mimetype": "text/x-python",
   "name": "python",
   "nbconvert_exporter": "python",
   "pygments_lexer": "ipython3",
   "version": "3.8.1"
  }
 },
 "nbformat": 4,
 "nbformat_minor": 2
}
