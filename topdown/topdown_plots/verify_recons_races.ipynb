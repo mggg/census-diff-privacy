{
 "cells": [
  {
   "cell_type": "code",
   "execution_count": 3,
   "metadata": {},
   "outputs": [],
   "source": [
    "import os\n",
    "import pandas as pd\n",
    "\n",
    "import sys; sys.path.append(\"..\") # Adds parent directory to python modules path.\n",
    "from topdown_parsers import *"
   ]
  },
  {
   "cell_type": "code",
   "execution_count": 4,
   "metadata": {},
   "outputs": [],
   "source": [
    "recons_dir = \"./../reconstructions_to_ipums/new_Reconstructed/\""
   ]
  },
  {
   "cell_type": "code",
   "execution_count": 18,
   "metadata": {},
   "outputs": [
    {
     "data": {
      "text/plain": [
       "{'a',\n",
       " 'ah',\n",
       " 'aho',\n",
       " 'ao',\n",
       " 'b',\n",
       " 'ba',\n",
       " 'bah',\n",
       " 'baho',\n",
       " 'bao',\n",
       " 'bh',\n",
       " 'bho',\n",
       " 'bi',\n",
       " 'bia',\n",
       " 'biah',\n",
       " 'biaho',\n",
       " 'biao',\n",
       " 'bih',\n",
       " 'biho',\n",
       " 'bio',\n",
       " 'bo',\n",
       " 'h',\n",
       " 'ho',\n",
       " 'i',\n",
       " 'ia',\n",
       " 'iah',\n",
       " 'iaho',\n",
       " 'iao',\n",
       " 'ih',\n",
       " 'iho',\n",
       " 'io',\n",
       " 'o',\n",
       " 'w',\n",
       " 'wa',\n",
       " 'wah',\n",
       " 'waho',\n",
       " 'wao',\n",
       " 'wb',\n",
       " 'wba',\n",
       " 'wbah',\n",
       " 'wbaho',\n",
       " 'wbao',\n",
       " 'wbh',\n",
       " 'wbho',\n",
       " 'wbi',\n",
       " 'wbia',\n",
       " 'wbiah',\n",
       " 'wbiaho',\n",
       " 'wbiao',\n",
       " 'wbih',\n",
       " 'wbiho',\n",
       " 'wbio',\n",
       " 'wbo',\n",
       " 'wh',\n",
       " 'who',\n",
       " 'wi',\n",
       " 'wia',\n",
       " 'wiah',\n",
       " 'wiaho',\n",
       " 'wiao',\n",
       " 'wih',\n",
       " 'wiho',\n",
       " 'wio',\n",
       " 'wo'}"
      ]
     },
     "execution_count": 18,
     "metadata": {},
     "output_type": "execute_result"
    }
   ],
   "source": [
    "races = set()\n",
    "for root, dirs, files in os.walk(\"../reconstructions_to_ipums/new_Reconstructed\"):\n",
    "    for file in files:\n",
    "        if file.endswith(\".csv\"):\n",
    "            df = pd.read_csv(os.path.join(root, file))\n",
    "            file_races = df[\"race\"].unique()\n",
    "            races.update(file_races)\n",
    "races"
   ]
  },
  {
   "cell_type": "code",
   "execution_count": 19,
   "metadata": {},
   "outputs": [
    {
     "data": {
      "text/plain": [
       "{'a',\n",
       " 'ah',\n",
       " 'aho',\n",
       " 'ao',\n",
       " 'b',\n",
       " 'ba',\n",
       " 'bah',\n",
       " 'baho',\n",
       " 'bao',\n",
       " 'bh',\n",
       " 'bho',\n",
       " 'bi',\n",
       " 'bia',\n",
       " 'biah',\n",
       " 'biaho',\n",
       " 'biao',\n",
       " 'bih',\n",
       " 'biho',\n",
       " 'bio',\n",
       " 'bo',\n",
       " 'h',\n",
       " 'ho',\n",
       " 'i',\n",
       " 'ia',\n",
       " 'iah',\n",
       " 'iaho',\n",
       " 'iao',\n",
       " 'ih',\n",
       " 'iho',\n",
       " 'io',\n",
       " 'o',\n",
       " 'w',\n",
       " 'wa',\n",
       " 'wah',\n",
       " 'waho',\n",
       " 'wao',\n",
       " 'wb',\n",
       " 'wba',\n",
       " 'wbah',\n",
       " 'wbaho',\n",
       " 'wbao',\n",
       " 'wbh',\n",
       " 'wbho',\n",
       " 'wbi',\n",
       " 'wbia',\n",
       " 'wbiah',\n",
       " 'wbiaho',\n",
       " 'wbiao',\n",
       " 'wbih',\n",
       " 'wbiho',\n",
       " 'wbio',\n",
       " 'wbo',\n",
       " 'wh',\n",
       " 'who',\n",
       " 'wi',\n",
       " 'wia',\n",
       " 'wiah',\n",
       " 'wiaho',\n",
       " 'wiao',\n",
       " 'wih',\n",
       " 'wiho',\n",
       " 'wio',\n",
       " 'wo'}"
      ]
     },
     "execution_count": 19,
     "metadata": {},
     "output_type": "execute_result"
    }
   ],
   "source": [
    "races"
   ]
  },
  {
   "cell_type": "code",
   "execution_count": 20,
   "metadata": {},
   "outputs": [
    {
     "data": {
      "text/plain": [
       "63"
      ]
     },
     "execution_count": 20,
     "metadata": {},
     "output_type": "execute_result"
    }
   ],
   "source": [
    "len(races)"
   ]
  },
  {
   "cell_type": "code",
   "execution_count": null,
   "metadata": {},
   "outputs": [],
   "source": []
  }
 ],
 "metadata": {
  "kernelspec": {
   "display_name": "Python 3",
   "language": "python",
   "name": "python3"
  },
  "language_info": {
   "codemirror_mode": {
    "name": "ipython",
    "version": 3
   },
   "file_extension": ".py",
   "mimetype": "text/x-python",
   "name": "python",
   "nbconvert_exporter": "python",
   "pygments_lexer": "ipython3",
   "version": "3.8.1"
  }
 },
 "nbformat": 4,
 "nbformat_minor": 4
}
